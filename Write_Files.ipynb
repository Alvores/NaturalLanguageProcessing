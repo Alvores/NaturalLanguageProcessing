{
 "cells": [
  {
   "cell_type": "code",
   "execution_count": 23,
   "metadata": {},
   "outputs": [],
   "source": [
    "import nltk\n",
    "import tensorflow as tf\n",
    "import numpy as np\n",
    "import pandas as pd\n",
    "import keras\n",
    "import sklearn\n",
    "import csv"
   ]
  },
  {
   "cell_type": "code",
   "execution_count": 20,
   "metadata": {},
   "outputs": [],
   "source": [
    "datfram = pd.read_csv(\"tag(expertiza_data_old).csv\", engine = 'python');"
   ]
  },
  {
   "cell_type": "code",
   "execution_count": 27,
   "metadata": {},
   "outputs": [
    {
     "name": "stdout",
     "output_type": "stream",
     "text": [
      "Total Length 18646\n",
      "Trimmed Length 10030\n",
      "1s 8005\n",
      "0s 2025\n"
     ]
    }
   ],
   "source": [
    "### Checking sizes\n",
    "lst = []\n",
    "num_1s = 0\n",
    "num_0s = 0\n",
    "num_repeat = 0\n",
    "for i in range(len(datfram)):\n",
    "    val = int(datfram['value'][i])\n",
    "    typ = int(datfram['tag_prompts'][i])\n",
    "    if val == 0 or typ != 5:\n",
    "        continue\n",
    "    if val == -1:\n",
    "        val = 0\n",
    "    text2 = datfram['comments'][i].strip()\n",
    "    if text2 == \"\" or isinstance(text2, str) == False or text2 == \" \":\n",
    "        continue\n",
    "    skip = text2 in lst\n",
    "    if skip:\n",
    "        num_repeat = num_repeat + 1\n",
    "    lst.append(text2)\n",
    "    if not skip:\n",
    "        if val == 1:\n",
    "            num_1s = num_1s +1\n",
    "        else:\n",
    "            num_0s = num_0s +1\n",
    "# print(len(datfram))\n",
    "# print(\"Total Length | Trimmed Length | 1s | 0s\")\n",
    "print(\"Total Length\",len(lst))\n",
    "print(\"Trimmed Length\",len(set(lst)))\n",
    "print(\"1s\",num_1s)\n",
    "print(\"0s\",num_0s)\n",
    "# print(num_repeat)"
   ]
  },
  {
   "cell_type": "code",
   "execution_count": 70,
   "metadata": {},
   "outputs": [],
   "source": [
    "### Write csv\n",
    "# ls = []\n",
    "# with open('positive_tone_expertiza.csv', 'w', newline = '') as f:\n",
    "#     writer = csv.writer(f)\n",
    "#     writer.writerow([\"Positive_Tone\", \"Comments\"])\n",
    "#     for i in range(len(datfram)):\n",
    "#         val = int(datfram['value'][i])\n",
    "#         typ = int(datfram['tag_prompts'][i])\n",
    "#         if val == 0 or typ != 5:\n",
    "#             continue\n",
    "#         if val == -1:\n",
    "#             val = 0\n",
    "#         text2 = datfram['comments'][i].strip()\n",
    "#         if text2 == \"\" or isinstance(text, str) == False or text == \" \":\n",
    "#             continue\n",
    "#         if text2 in ls:\n",
    "#             continue\n",
    "#         ls.append(text2)\n",
    "#         writer.writerow([ val, text2])\n",
    "##### text2 = remove_tag(text1)        "
   ]
  },
  {
   "cell_type": "code",
   "execution_count": 88,
   "metadata": {},
   "outputs": [
    {
     "name": "stdout",
     "output_type": "stream",
     "text": [
      "Yes, the team has tested at least one model and one controller.\n",
      "True\n"
     ]
    }
   ],
   "source": [
    "sent1 = datfram['comments'][1836]\n",
    "print(sent1)\n",
    "a = \"the\" in sent1\n",
    "print(a)\n",
    "if not a or a == \"hej\":\n",
    "    print(\"HERE\")\n",
    "# print('\\n\\n')\n",
    "# sent2 = remove_tag(sent1)\n",
    "# print(sent2)"
   ]
  },
  {
   "cell_type": "code",
   "execution_count": 21,
   "metadata": {},
   "outputs": [],
   "source": [
    "from bs4 import BeautifulSoup"
   ]
  },
  {
   "cell_type": "code",
   "execution_count": 22,
   "metadata": {},
   "outputs": [
    {
     "name": "stdout",
     "output_type": "stream",
     "text": [
      "nan\n",
      "nan\n",
      "nan\n",
      "nan\n",
      "nan\n",
      "nan\n",
      "nan\n",
      "nan\n",
      "nan\n",
      "nan\n",
      "nan\n",
      "nan\n",
      "nan\n",
      "nan\n",
      "nan\n",
      "nan\n",
      "nan\n",
      "nan\n",
      "nan\n",
      "nan\n",
      "nan\n",
      "nan\n",
      "nan\n"
     ]
    }
   ],
   "source": [
    "# Make sure you pip installed these 2 libs first\n",
    "# df['comments'] = df['comments'].astype('string')\n",
    "# The would be the comments column that needs to be cleaned\n",
    "# print(datfram['comments'].head())\n",
    "def remove_tag(string_with_tag):\n",
    "    try:\n",
    "        soup = BeautifulSoup(string_with_tag, 'html5lib')\n",
    "        text = soup.get_text()\n",
    "    except:\n",
    "        # Normally this is caused by an empty cell\n",
    "        print(string_with_tag)\n",
    "        text = ''\n",
    "    return text\n",
    "\n",
    "datfram['comments'] = datfram['comments'].apply(remove_tag)\n",
    "# print(datfram['comments'].head())\n",
    "\n",
    "# datfram.to_excel('clean_expertiza_data.xlsx', encoding = 'utf8')\n",
    "# datfram.to_csv('clean_expertiza_data.csv', encoding = 'utf8')"
   ]
  },
  {
   "cell_type": "code",
   "execution_count": 50,
   "metadata": {},
   "outputs": [
    {
     "name": "stdout",
     "output_type": "stream",
     "text": [
      "['hi', 'he', 'he']\n",
      "{'he', 'hi'}\n",
      "True\n"
     ]
    }
   ],
   "source": [
    "ls = []\n",
    "ls.append(\"hi\")\n",
    "ls.append(\"he\")\n",
    "ls.append(\"he\")\n",
    "print(ls)\n",
    "print(set(ls))\n",
    "print(\"hi\" in ls)"
   ]
  },
  {
   "cell_type": "code",
   "execution_count": 17,
   "metadata": {},
   "outputs": [
    {
     "name": "stdout",
     "output_type": "stream",
     "text": [
      "['ID_main', 'comments', 'answer_tag', 'tag_prompts', 'id', 'prompt', 'value']\n",
      "ID_main         int64\n",
      "comments       object\n",
      "answer_tag      int64\n",
      "tag_prompts     int64\n",
      "id              int64\n",
      "prompt         object\n",
      "value           int64\n",
      "dtype: object\n"
     ]
    }
   ],
   "source": [
    "print(list(datfram))\n",
    "print(datfram.dtypes)"
   ]
  },
  {
   "cell_type": "code",
   "execution_count": 19,
   "metadata": {},
   "outputs": [],
   "source": [
    "df = pd.read_csv(\"expertiza_new_clean_data.csv\", engine = 'python');"
   ]
  },
  {
   "cell_type": "code",
   "execution_count": 10,
   "metadata": {},
   "outputs": [],
   "source": [
    "ls = []\n",
    "with open('problems_expertiza_all.csv', 'w', newline = '') as f:\n",
    "    writer = csv.writer(f)\n",
    "    writer.writerow([\"Mentions_Problem\", \"Comments\"])\n",
    "    for i in range(len(df)):\n",
    "        val = int(df['Mentions_Problem'][i])\n",
    "        if val == -1:\n",
    "            val = 0\n",
    "        text = df['Comments'][i].strip()\n",
    "        if text == \"\" or isinstance(text, str) == False or text == \" \":\n",
    "            continue\n",
    "        if text in ls:\n",
    "            continue\n",
    "        ls.append(text)\n",
    "        writer.writerow([ val, text])"
   ]
  },
  {
   "cell_type": "code",
   "execution_count": 11,
   "metadata": {},
   "outputs": [
    {
     "name": "stdout",
     "output_type": "stream",
     "text": [
      "14609\n"
     ]
    }
   ],
   "source": [
    "print(len(ls))"
   ]
  },
  {
   "cell_type": "code",
   "execution_count": 18,
   "metadata": {},
   "outputs": [
    {
     "name": "stdout",
     "output_type": "stream",
     "text": [
      "7848\n"
     ]
    }
   ],
   "source": [
    "print(len(df))\n",
    "# print(df['comments'].head(30))"
   ]
  },
  {
   "cell_type": "code",
   "execution_count": 21,
   "metadata": {},
   "outputs": [
    {
     "name": "stdout",
     "output_type": "stream",
     "text": [
      "7495\n",
      "7495\n"
     ]
    }
   ],
   "source": [
    "ls2 = []\n",
    "c = 0\n",
    "numEq1 = 0\n",
    "numEq2 = 0\n",
    "for i in range(len(df)):\n",
    "    val = int(df['value'][i])\n",
    "    if val == -1:\n",
    "        val = 0\n",
    "    text = df['comments'][i].strip()\n",
    "    if text == \"\" or isinstance(text, str) == False or text == \" \":\n",
    "        continue\n",
    "    c = 0\n",
    "    for j in range(len(ls2)):\n",
    "        if text == ls2[j]:\n",
    "            numEq1 = numEq1 + 1\n",
    "            c = 1\n",
    "            break\n",
    "    if text in ls2:\n",
    "        numEq2 = numEq2 + 1\n",
    "    if c == 0:\n",
    "        ls2.append(text)\n",
    "print(numEq1)\n",
    "print(numEq2)"
   ]
  },
  {
   "cell_type": "code",
   "execution_count": 28,
   "metadata": {},
   "outputs": [],
   "source": [
    "df = pd.read_csv(\"suggestions_expertiza_all.csv\", engine = 'python');"
   ]
  },
  {
   "cell_type": "code",
   "execution_count": 9,
   "metadata": {},
   "outputs": [
    {
     "name": "stdout",
     "output_type": "stream",
     "text": [
      "6960\n",
      "7649\n",
      "14609\n",
      "14609\n"
     ]
    }
   ],
   "source": [
    "num0 = 0\n",
    "num1 = 0\n",
    "sents = []\n",
    "for i in range(len(df)):\n",
    "    val = int(df['Mentions_Problem'][i])\n",
    "    if val == 0:\n",
    "        num0 = num0 + 1\n",
    "    else:\n",
    "        num1 = num1 + 1\n",
    "    sents.append(df['Comments'][i])\n",
    "print(num0)\n",
    "print(num1)\n",
    "print(len(sents))\n",
    "sets = set(sents)\n",
    "print(len(sets))"
   ]
  },
  {
   "cell_type": "code",
   "execution_count": 23,
   "metadata": {},
   "outputs": [
    {
     "name": "stdout",
     "output_type": "stream",
     "text": [
      "6913\n",
      "2916\n"
     ]
    }
   ],
   "source": [
    "coms = []\n",
    "labs = []\n",
    "# com_list = []\n",
    "# lab_list = []\n",
    "num_0 = 0\n",
    "num_1 = 0\n",
    "for i in range(len(df)):\n",
    "    val = int(df['Suggest_Solutions'][i])\n",
    "    sen = df['Comments'][i].strip()\n",
    "#     if sen in com_list:\n",
    "#         continue\n",
    "#     else:\n",
    "    com_list.append(sen)\n",
    "    lab_list.append(val)\n",
    "    if val == 1:\n",
    "        num_1 = num_1 + 1\n",
    "    else:\n",
    "        num_0 = num_0 + 1\n",
    "print(num_0)\n",
    "print(num_1)"
   ]
  },
  {
   "cell_type": "code",
   "execution_count": 26,
   "metadata": {},
   "outputs": [
    {
     "name": "stdout",
     "output_type": "stream",
     "text": [
      "17101\n",
      "17101\n"
     ]
    }
   ],
   "source": [
    "print(len(com_list))\n",
    "print(len(lab_list))"
   ]
  },
  {
   "cell_type": "code",
   "execution_count": 24,
   "metadata": {},
   "outputs": [
    {
     "name": "stdout",
     "output_type": "stream",
     "text": [
      "7781\n",
      "7781\n",
      "5842\n",
      "1939\n"
     ]
    }
   ],
   "source": [
    "ls = []\n",
    "num_0 = 0\n",
    "num_1 = 0\n",
    "with open('suggestions_expertiza_fall2018_TEST.csv', 'w', newline = '') as f:\n",
    "    writer = csv.writer(f)\n",
    "    writer.writerow([\"Suggest_Solutions\", \"Comments\"])\n",
    "    for i in range(len(df)):\n",
    "        text = df['Comments'][i].strip()\n",
    "#         if text == \"\" or isinstance(text, str) == False or text == \" \":\n",
    "#             continue\n",
    "#         if text in ls:\n",
    "#             continue\n",
    "        val = int(df['Suggest_Solutions'][i])\n",
    "#         if val == 0 and (num_0 > 1938):\n",
    "#             continue\n",
    "        if val == -1 or val == 0:\n",
    "            val = 0\n",
    "            num_0 = num_0 + 1\n",
    "        else:\n",
    "            num_1 = num_1 + 1\n",
    "        ls.append(text)\n",
    "        writer.writerow([ val, text])\n",
    "print(len(df))\n",
    "print(len(ls))\n",
    "print(num_0)\n",
    "print(num_1)"
   ]
  },
  {
   "cell_type": "code",
   "execution_count": 15,
   "metadata": {},
   "outputs": [],
   "source": [
    "df = pd.read_csv(\"suggestions_expertiza_fall2018.csv\", engine = 'python');"
   ]
  },
  {
   "cell_type": "code",
   "execution_count": 16,
   "metadata": {},
   "outputs": [
    {
     "name": "stdout",
     "output_type": "stream",
     "text": [
      "5842\n",
      "1939\n"
     ]
    }
   ],
   "source": [
    "num_0 = 0\n",
    "num_1 = 0\n",
    "for i in range(len(df)):\n",
    "    val = int(df['Suggest_Solutions'][i])\n",
    "    if val == -1 or val == 0:\n",
    "        val = 0\n",
    "        num_0 = num_0 + 1\n",
    "    else:\n",
    "        num_1 = num_1 + 1\n",
    "print(num_0)\n",
    "print(num_1)"
   ]
  },
  {
   "cell_type": "code",
   "execution_count": 34,
   "metadata": {},
   "outputs": [
    {
     "name": "stdout",
     "output_type": "stream",
     "text": [
      "0.343\n",
      "\n",
      "0 F\n",
      "\n",
      "55 , 0\n",
      "[0, 3]\n",
      "[1, 6]\n",
      "0 F\n",
      "1 F\n",
      "\n",
      "65 , 1\n",
      "[0, 3]\n",
      "[2, 5]\n",
      "0 F\n",
      "1 F\n",
      "2 F\n",
      "\n",
      "72 , 2\n",
      "[0, 3]\n",
      "[3, 4]\n",
      "0 F\n",
      "1 F\n",
      "2 F\n",
      "3 F\n",
      "\n",
      "80 , 3\n",
      "[0, 3]\n",
      "[4, 3]\n",
      "0 F\n",
      "1 F\n",
      "2 F\n",
      "3 F\n",
      "4 T\n",
      "\n",
      "87 , 4\n",
      "[1, 2]\n",
      "[4, 3]\n",
      "0 F\n",
      "1 F\n",
      "2 F\n",
      "3 F\n",
      "4 T\n",
      "5 F\n",
      "\n",
      "92 , 5\n",
      "[1, 2]\n",
      "[5, 2]\n",
      "0 F\n",
      "1 F\n",
      "2 F\n",
      "3 F\n",
      "4 T\n",
      "5 F\n",
      "6 F\n",
      "\n",
      "97 , 6\n",
      "[1, 2]\n",
      "[6, 1]\n",
      "0 F\n",
      "1 F\n",
      "2 F\n",
      "3 F\n",
      "4 T\n",
      "5 F\n",
      "6 F\n",
      "7 T\n",
      "\n",
      "110 , 7\n",
      "[2, 1]\n",
      "[6, 1]\n",
      "0 F\n",
      "1 F\n",
      "2 F\n",
      "3 F\n",
      "4 T\n",
      "5 F\n",
      "6 F\n",
      "7 T\n",
      "8 F\n",
      "\n",
      "122 , 8\n",
      "[2, 1]\n",
      "[7, 0]\n",
      "0 F\n",
      "1 F\n",
      "2 F\n",
      "3 F\n",
      "4 T\n",
      "5 F\n",
      "6 F\n",
      "7 T\n",
      "8 F\n",
      "9 T\n",
      "\n",
      "172 , 9\n",
      "[3, 0]\n",
      "[7, 0]\n",
      "0 F\n",
      "1 F\n",
      "2 F\n",
      "3 F\n",
      "4 T\n",
      "5 F\n",
      "6 F\n",
      "7 T\n",
      "8 F\n",
      "9 T\n"
     ]
    },
    {
     "ename": "IndexError",
     "evalue": "list index out of range",
     "output_type": "error",
     "traceback": [
      "\u001b[0;31m---------------------------------------------------------------------------\u001b[0m",
      "\u001b[0;31mIndexError\u001b[0m                                Traceback (most recent call last)",
      "\u001b[0;32m<ipython-input-34-d4dd86705548>\u001b[0m in \u001b[0;36m<module>\u001b[0;34m()\u001b[0m\n\u001b[1;32m     42\u001b[0m     \u001b[0msu\u001b[0m \u001b[0;34m=\u001b[0m \u001b[0ms1\u001b[0m \u001b[0;34m+\u001b[0m \u001b[0ms2\u001b[0m\u001b[0;34m\u001b[0m\u001b[0m\n\u001b[1;32m     43\u001b[0m     \u001b[0;32mfor\u001b[0m \u001b[0mj\u001b[0m \u001b[0;32min\u001b[0m \u001b[0mrange\u001b[0m\u001b[0;34m(\u001b[0m\u001b[0mi\u001b[0m\u001b[0;34m+\u001b[0m\u001b[0;36m1\u001b[0m\u001b[0;34m)\u001b[0m\u001b[0;34m:\u001b[0m\u001b[0;34m\u001b[0m\u001b[0m\n\u001b[0;32m---> 44\u001b[0;31m         \u001b[0;32mif\u001b[0m \u001b[0mls2\u001b[0m\u001b[0;34m[\u001b[0m\u001b[0mj\u001b[0m\u001b[0;34m]\u001b[0m \u001b[0;34m==\u001b[0m \u001b[0;34m'T'\u001b[0m\u001b[0;34m:\u001b[0m\u001b[0;34m\u001b[0m\u001b[0m\n\u001b[0m\u001b[1;32m     45\u001b[0m             \u001b[0my_b\u001b[0m \u001b[0;34m=\u001b[0m \u001b[0my_b\u001b[0m \u001b[0;34m+\u001b[0m \u001b[0;36m1\u001b[0m\u001b[0;34m\u001b[0m\u001b[0m\n\u001b[1;32m     46\u001b[0m             \u001b[0my_a\u001b[0m \u001b[0;34m=\u001b[0m \u001b[0my_a\u001b[0m \u001b[0;34m-\u001b[0m \u001b[0;36m1\u001b[0m\u001b[0;34m\u001b[0m\u001b[0m\n",
      "\u001b[0;31mIndexError\u001b[0m: list index out of range"
     ]
    }
   ],
   "source": [
    "### CSC 422 HW 2 Problem 1 Calculations\n",
    "## Number 1 part a\n",
    "import math as m\n",
    "l = 1\n",
    "r = 1\n",
    "s = l + r\n",
    "answer = -(l/s)*m.log2(l/s)-(r/s)*m.log2(r/s)\n",
    "# print(round(answer,4))\n",
    "p1 = 1.0\n",
    "p2 = 0.0\n",
    "p3 = 1.0\n",
    "t2 = 0/2\n",
    "t3 = 2/2\n",
    "a2 = p1 - (t2*p2 + t3*p3)\n",
    "# print(round(a2,4))\n",
    "## Number 1 part b\n",
    "# ls1 = [7,10,11,13,15,18,20,22,27,30,32,35,37,40,43,50]\n",
    "# ls2 = ['F', \"F\", \"T\", \"F\", \"T\", \"F\", \"F\", \"F\", \"T\", \"T\", \"T\", \"T\", \"F\", \"T\", \"F\", \"F\"]\n",
    "ls1 = [60,70,75,85,90,95,100,120,125,220]\n",
    "ls1 = [55,65,72,80,87,92,97,110,122,172,230]\n",
    "ls2 = ['F','F','F','F','T','F','F','T','F','T']\n",
    "# 9F, 7T #\n",
    "c1 = 0\n",
    "c2 = 3\n",
    "c3 = 3\n",
    "c4 = 4\n",
    "su1 = c1 + c2\n",
    "su2 = c3 + c4\n",
    "tot = su1 + su2\n",
    "g1 = 1 - (c1/su1)**2 - (c2/su1)**2\n",
    "g2 = 1 - (c3/su2)**2 - (c4/su2)**2\n",
    "gini = (su1/tot)*g1 + (su2/tot)*g2\n",
    "print(round(gini,3))\n",
    "print()\n",
    "for i in range(len(ls1)):\n",
    "    y_b = 0 #0\n",
    "    y_a = 3 #7\n",
    "    n_b = 0 #0\n",
    "    n_a = 7 #9\n",
    "    s1 = 3\n",
    "    s2 = 7\n",
    "    su = s1 + s2\n",
    "    for j in range(i+1):\n",
    "        if ls2[j] == 'T':\n",
    "            y_b = y_b + 1\n",
    "            y_a = y_a - 1\n",
    "        else:\n",
    "            n_b = n_b + 1\n",
    "            n_a = n_a - 1\n",
    "        print(j, ls2[j])\n",
    "    print()\n",
    "    g1 =  1 - (y_b/s1)**2 - (n_b/s1)**2\n",
    "    g2 =  1 - (y_a/s2)**2 - (n_a/s2)**2\n",
    "    gini = (s1/su)*g1 + (s2/su)*g2\n",
    "    my_lis = [[y_b,y_a],[n_b,n_a]]\n",
    "    print(ls1[i],\",\", i)\n",
    "    print(my_lis[0])\n",
    "    print(my_lis[1])\n",
    "#     print(round(gini,3))"
   ]
  },
  {
   "cell_type": "code",
   "execution_count": 120,
   "metadata": {},
   "outputs": [],
   "source": [
    "def find(num):\n",
    "    y_b = 0 #0\n",
    "    y_a = 3 #7\n",
    "    n_b = 0 #0\n",
    "    n_a = 7 #9\n",
    "    k = 0\n",
    "    while(ls1[k] <= num):\n",
    "        if(ls2[k] == 'T'):\n",
    "            y_b = y_b + 1\n",
    "            y_a = y_a - 1\n",
    "        else:\n",
    "            n_b = n_b + 1\n",
    "            n_a = n_a - 1\n",
    "        k = k + 1\n",
    "    return y_b,y_a,n_b,n_a"
   ]
  },
  {
   "cell_type": "code",
   "execution_count": 121,
   "metadata": {},
   "outputs": [
    {
     "name": "stdout",
     "output_type": "stream",
     "text": [
      "[0, 3]\n",
      "[1, 6]\n",
      "\n",
      "[0, 3]\n",
      "[2, 5]\n",
      "\n",
      "[0, 3]\n",
      "[3, 4]\n",
      "\n",
      "[0, 3]\n",
      "[4, 3]\n",
      "\n",
      "[1, 2]\n",
      "[4, 3]\n",
      "\n",
      "[1, 2]\n",
      "[5, 2]\n",
      "\n",
      "[1, 2]\n",
      "[6, 1]\n",
      "\n",
      "[2, 1]\n",
      "[6, 1]\n",
      "\n",
      "[2, 1]\n",
      "[7, 0]\n",
      "\n",
      "[3, 0]\n",
      "[7, 0]\n",
      "\n"
     ]
    }
   ],
   "source": [
    "# y_b,y_a,n_b,n_a = find(0)\n",
    "# my_lis = [[y_b,y_a],[n_b,n_a]]\n",
    "# print(my_lis[0])\n",
    "# print(my_lis[1])\n",
    "tup = [(60,'F'),(70,'F'),(75,'F'),(85,'F'),(90,'T'),(95,'F'),(100,'F'),(120,'T'),(125,'F'),(220,'T')]\n",
    "for i in range(len(tup)):\n",
    "    y_b,y_a,n_b,n_a = find(tup[i][0])\n",
    "    my_lis = [[y_b,y_a],[n_b,n_a]]\n",
    "    print(my_lis[0])\n",
    "    print(my_lis[1])\n",
    "    print()"
   ]
  },
  {
   "cell_type": "code",
   "execution_count": 100,
   "metadata": {},
   "outputs": [],
   "source": [
    "n = [7,13,20,22,27,40,43,50,10,11,15,18,30,32,35,37]\n",
    "# n.sort()\n",
    "# print(n)\n",
    "# print(len(n))\n",
    "# print(sum(n)/len(n))"
   ]
  },
  {
   "cell_type": "code",
   "execution_count": 160,
   "metadata": {},
   "outputs": [
    {
     "name": "stdout",
     "output_type": "stream",
     "text": [
      "Gini(N6) = 1 - (0/0)2 - (0/0)2 = 0.0\n",
      "Gini(N7) = 1 - (3/8)2 - (5/8)2 = 0.469\n",
      "Gini(V5) = (0/8)*0.0 + (8/8)*0.469 = 1.469\n"
     ]
    }
   ],
   "source": [
    "#### Use below for HW 2 Q1 Part b\n",
    "V = 5\n",
    "N1 = 6\n",
    "N2 = 7\n",
    "c1 = 0\n",
    "c2 = 0\n",
    "c3 = 3\n",
    "c4 = 5\n",
    "su1 = c1 + c2\n",
    "su2 = c3 + c4\n",
    "tot = su1 + su2\n",
    "g1 = 1 - (c1/su1)**2 - (c2/su1)**2\n",
    "g2 = 1 - (c3/su2)**2 - (c4/su2)**2\n",
    "gini = (su1/tot)*g1 + (su2/tot)*g2\n",
    "# print(round(g1,3))\n",
    "# print(round(g2,3))\n",
    "# print(round(gini,3))\n",
    "print(\"Gini(N{}) = 1 - ({}/{})2 - ({}/{})2 = {}\".format(N1,c1,su1,c2,su1,round(g1,3)))\n",
    "print(\"Gini(N{}) = 1 - ({}/{})2 - ({}/{})2 = {}\".format(N2,c3,su2,c4,su2,round(g2,3)))\n",
    "print(\"Gini(V{}) = ({}/{})*{} + ({}/{})*{} = {}\".format(V,su1,tot,round(g1,3),su2,tot,round(g2,3),round(gini,3)))"
   ]
  },
  {
   "cell_type": "code",
   "execution_count": 111,
   "metadata": {},
   "outputs": [
    {
     "name": "stdout",
     "output_type": "stream",
     "text": [
      "D₁,₁  = (35.0-35.0)² + (15.0-15.0)² = 0.0\n",
      "D₁,₂  = (2.5-35.0)² + (11.0-15.0)² = 32.7\n",
      "D₁,₃  = (10.5-35.0)² + (12.5-15.0)² = 24.6\n",
      "D₁,₄  = (44.0-35.0)² + (11.0-15.0)² = 9.8\n",
      "D₁,₅  = (1.5-35.0)² + (13.0-15.0)² = 33.6\n",
      "D₁,₆  = (48.0-35.0)² + (11.0-15.0)² = 13.6\n",
      "D₁,₇  = (45.0-35.0)² + (13.0-15.0)² = 10.2\n",
      "D₁,₈  = (38.0-35.0)² + (10.0-15.0)² = 5.8\n",
      "D₁,₉  = (7.5-35.0)² + (13.5-15.0)² = 27.5\n",
      "D₂,₁  = (35.0-2.5)² + (15.0-11.0)² = 32.7\n",
      "D₂,₂  = (2.5-2.5)² + (11.0-11.0)² = 0.0\n",
      "D₂,₃  = (10.5-2.5)² + (12.5-11.0)² = 8.1\n",
      "D₂,₄  = (44.0-2.5)² + (11.0-11.0)² = 41.5\n",
      "D₂,₅  = (1.5-2.5)² + (13.0-11.0)² = 2.2\n",
      "D₂,₆  = (48.0-2.5)² + (11.0-11.0)² = 45.5\n",
      "D₂,₇  = (45.0-2.5)² + (13.0-11.0)² = 42.5\n",
      "D₂,₈  = (38.0-2.5)² + (10.0-11.0)² = 35.5\n",
      "D₂,₉  = (7.5-2.5)² + (13.5-11.0)² = 5.6\n",
      "D₃,₁  = (35.0-10.5)² + (15.0-12.5)² = 24.6\n",
      "D₃,₂  = (2.5-10.5)² + (11.0-12.5)² = 8.1\n",
      "D₃,₃  = (10.5-10.5)² + (12.5-12.5)² = 0.0\n",
      "D₃,₄  = (44.0-10.5)² + (11.0-12.5)² = 33.5\n",
      "D₃,₅  = (1.5-10.5)² + (13.0-12.5)² = 9.0\n",
      "D₃,₆  = (48.0-10.5)² + (11.0-12.5)² = 37.5\n",
      "D₃,₇  = (45.0-10.5)² + (13.0-12.5)² = 34.5\n",
      "D₃,₈  = (38.0-10.5)² + (10.0-12.5)² = 27.6\n",
      "D₃,₉  = (7.5-10.5)² + (13.5-12.5)² = 3.2\n",
      "D₄,₁  = (35.0-44.0)² + (15.0-11.0)² = 9.8\n",
      "D₄,₂  = (2.5-44.0)² + (11.0-11.0)² = 41.5\n",
      "D₄,₃  = (10.5-44.0)² + (12.5-11.0)² = 33.5\n",
      "D₄,₄  = (44.0-44.0)² + (11.0-11.0)² = 0.0\n",
      "D₄,₅  = (1.5-44.0)² + (13.0-11.0)² = 42.5\n",
      "D₄,₆  = (48.0-44.0)² + (11.0-11.0)² = 4.0\n",
      "D₄,₇  = (45.0-44.0)² + (13.0-11.0)² = 2.2\n",
      "D₄,₈  = (38.0-44.0)² + (10.0-11.0)² = 6.1\n",
      "D₄,₉  = (7.5-44.0)² + (13.5-11.0)² = 36.6\n",
      "D₅,₁  = (35.0-1.5)² + (15.0-13.0)² = 33.6\n",
      "D₅,₂  = (2.5-1.5)² + (11.0-13.0)² = 2.2\n",
      "D₅,₃  = (10.5-1.5)² + (12.5-13.0)² = 9.0\n",
      "D₅,₄  = (44.0-1.5)² + (11.0-13.0)² = 42.5\n",
      "D₅,₅  = (1.5-1.5)² + (13.0-13.0)² = 0.0\n",
      "D₅,₆  = (48.0-1.5)² + (11.0-13.0)² = 46.5\n",
      "D₅,₇  = (45.0-1.5)² + (13.0-13.0)² = 43.5\n",
      "D₅,₈  = (38.0-1.5)² + (10.0-13.0)² = 36.6\n",
      "D₅,₉  = (7.5-1.5)² + (13.5-13.0)² = 6.0\n",
      "D₆,₁  = (35.0-48.0)² + (15.0-11.0)² = 13.6\n",
      "D₆,₂  = (2.5-48.0)² + (11.0-11.0)² = 45.5\n",
      "D₆,₃  = (10.5-48.0)² + (12.5-11.0)² = 37.5\n",
      "D₆,₄  = (44.0-48.0)² + (11.0-11.0)² = 4.0\n",
      "D₆,₅  = (1.5-48.0)² + (13.0-11.0)² = 46.5\n",
      "D₆,₆  = (48.0-48.0)² + (11.0-11.0)² = 0.0\n",
      "D₆,₇  = (45.0-48.0)² + (13.0-11.0)² = 3.6\n",
      "D₆,₈  = (38.0-48.0)² + (10.0-11.0)² = 10.0\n",
      "D₆,₉  = (7.5-48.0)² + (13.5-11.0)² = 40.6\n",
      "D₇,₁  = (35.0-45.0)² + (15.0-13.0)² = 10.2\n",
      "D₇,₂  = (2.5-45.0)² + (11.0-13.0)² = 42.5\n",
      "D₇,₃  = (10.5-45.0)² + (12.5-13.0)² = 34.5\n",
      "D₇,₄  = (44.0-45.0)² + (11.0-13.0)² = 2.2\n",
      "D₇,₅  = (1.5-45.0)² + (13.0-13.0)² = 43.5\n",
      "D₇,₆  = (48.0-45.0)² + (11.0-13.0)² = 3.6\n",
      "D₇,₇  = (45.0-45.0)² + (13.0-13.0)² = 0.0\n",
      "D₇,₈  = (38.0-45.0)² + (10.0-13.0)² = 7.6\n",
      "D₇,₉  = (7.5-45.0)² + (13.5-13.0)² = 37.5\n",
      "D₈,₁  = (35.0-38.0)² + (15.0-10.0)² = 5.8\n",
      "D₈,₂  = (2.5-38.0)² + (11.0-10.0)² = 35.5\n",
      "D₈,₃  = (10.5-38.0)² + (12.5-10.0)² = 27.6\n",
      "D₈,₄  = (44.0-38.0)² + (11.0-10.0)² = 6.1\n",
      "D₈,₅  = (1.5-38.0)² + (13.0-10.0)² = 36.6\n",
      "D₈,₆  = (48.0-38.0)² + (11.0-10.0)² = 10.0\n",
      "D₈,₇  = (45.0-38.0)² + (13.0-10.0)² = 7.6\n",
      "D₈,₈  = (38.0-38.0)² + (10.0-10.0)² = 0.0\n",
      "D₈,₉  = (7.5-38.0)² + (13.5-10.0)² = 30.7\n",
      "D₉,₁  = (35.0-7.5)² + (15.0-13.5)² = 27.5\n",
      "D₉,₂  = (2.5-7.5)² + (11.0-13.5)² = 5.6\n",
      "D₉,₃  = (10.5-7.5)² + (12.5-13.5)² = 3.2\n",
      "D₉,₄  = (44.0-7.5)² + (11.0-13.5)² = 36.6\n",
      "D₉,₅  = (1.5-7.5)² + (13.0-13.5)² = 6.0\n",
      "D₉,₆  = (48.0-7.5)² + (11.0-13.5)² = 40.6\n",
      "D₉,₇  = (45.0-7.5)² + (13.0-13.5)² = 37.5\n",
      "D₉,₈  = (38.0-7.5)² + (10.0-13.5)² = 30.7\n",
      "D₉,₉  = (7.5-7.5)² + (13.5-13.5)² = 0.0\n",
      "[0.0, 32.7, 24.6, 9.8, 33.6, 13.6, 10.2, 5.8, 27.5]\n",
      "[32.7, 0.0, 8.1, 41.5, 2.2, 45.5, 42.5, 35.5, 5.6]\n",
      "[24.6, 8.1, 0.0, 33.5, 9.0, 37.5, 34.5, 27.6, 3.2]\n",
      "[9.8, 41.5, 33.5, 0.0, 42.5, 4.0, 2.2, 6.1, 36.6]\n",
      "[33.6, 2.2, 9.0, 42.5, 0.0, 46.5, 43.5, 36.6, 6.0]\n",
      "[13.6, 45.5, 37.5, 4.0, 46.5, 0.0, 3.6, 10.0, 40.6]\n",
      "[10.2, 42.5, 34.5, 2.2, 43.5, 3.6, 0.0, 7.6, 37.5]\n",
      "[5.8, 35.5, 27.6, 6.1, 36.6, 10.0, 7.6, 0.0, 30.7]\n",
      "[27.5, 5.6, 3.2, 36.6, 6.0, 40.6, 37.5, 30.7, 0.0]\n"
     ]
    }
   ],
   "source": [
    "## Problem 4\n",
    "ls1 = [35.0,2.5,10.5,44.0,1.5,48.0,45.0,38.0,7.5]\n",
    "ls2 = [15.0,11.0,12.5,11.0,13.0,11.0,13.0,10.0,13.5]\n",
    "mat = [[-1]*9,[-2]*9,[-3]*9,[-4]*9,[-5]*9,[-6]*9,[-7]*9,[-8]*9,[-9]*9]\n",
    "SUB = str.maketrans(\"0123456789\", \"₀₁₂₃₄₅₆₇₈₉\")\n",
    "for i in range(len(ls1)):\n",
    "    for j in range(len(ls1)):\n",
    "        x1 = ls1[i]\n",
    "        x2 = ls1[j]\n",
    "        y1 = ls2[i]\n",
    "        y2 = ls2[j]\n",
    "        d = m.sqrt((x2-x1)**2+(y2-y1)**2)\n",
    "        mat[i][j] = round(d,1)\n",
    "        s1 = \"D{},{}\".format(i+1,j+1).translate(SUB)\n",
    "        s2 = \" = ({}-{})\\N{SUPERSCRIPT TWO} + ({}-{})\\N{SUPERSCRIPT TWO} = {}\".format(x2,x1,y2,y1,round(d,1))\n",
    "        print(s1,s2)\n",
    "#         s = s + \" = ({}-{}) + ({}-{}) = {}\".format(x2,x1,y2,y1,round(d,1))\n",
    "#         print(s)\n",
    "# le = \"H2SO4\".translate(SUB)\n",
    "# print(\"B\\N{SUPERSCRIPT TWO}\")\n",
    "# print(\"H\"+\"\\u2089\")\n",
    "# print(\"H\\u2082\")\n",
    "for i in range (len(mat)):\n",
    "    print(mat[i])\n",
    "# print(m.sqrt(4))"
   ]
  },
  {
   "cell_type": "code",
   "execution_count": 113,
   "metadata": {},
   "outputs": [
    {
     "name": "stdout",
     "output_type": "stream",
     "text": [
      "0.22\n"
     ]
    }
   ],
   "source": [
    "x = (2)/(9)\n",
    "print(round(x,2))"
   ]
  },
  {
   "cell_type": "code",
   "execution_count": null,
   "metadata": {},
   "outputs": [],
   "source": []
  }
 ],
 "metadata": {
  "kernelspec": {
   "display_name": "Python 3",
   "language": "python",
   "name": "python3"
  },
  "language_info": {
   "codemirror_mode": {
    "name": "ipython",
    "version": 3
   },
   "file_extension": ".py",
   "mimetype": "text/x-python",
   "name": "python",
   "nbconvert_exporter": "python",
   "pygments_lexer": "ipython3",
   "version": "3.6.8"
  }
 },
 "nbformat": 4,
 "nbformat_minor": 2
}
