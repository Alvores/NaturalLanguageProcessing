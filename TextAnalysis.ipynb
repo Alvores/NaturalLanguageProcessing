{
 "cells": [
  {
   "cell_type": "markdown",
   "metadata": {},
   "source": [
    "# Citation: Keras Model Code from [tensorflow.org](https://www.tensorflow.org/tutorials/keras/basic_text_classification) text classification\n",
    "Testing out data preprocessing and mdoels for text analysis."
   ]
  },
  {
   "cell_type": "code",
   "execution_count": 2,
   "metadata": {},
   "outputs": [
    {
     "name": "stderr",
     "output_type": "stream",
     "text": [
      "Using TensorFlow backend.\n"
     ]
    }
   ],
   "source": [
    "import nltk\n",
    "import tensorflow as tf\n",
    "import numpy as np\n",
    "import pandas as pd\n",
    "import keras\n",
    "import sklearn"
   ]
  },
  {
   "cell_type": "code",
   "execution_count": 2,
   "metadata": {},
   "outputs": [],
   "source": [
    "########### Load the IMDB move review dataset for sentiment\n",
    "imdb = keras.datasets.imdb\n",
    "(train_data, train_labels), (test_data, test_labels) = imdb.load_data(num_words=10000)"
   ]
  },
  {
   "cell_type": "code",
   "execution_count": 63,
   "metadata": {},
   "outputs": [],
   "source": [
    "########### Load the word index and create reserved words\n",
    "# A dictionary mapping words to an integer index\n",
    "word_index = imdb.get_word_index()\n",
    "\n",
    "# The first indices are reserved\n",
    "word_index = {k:(v+3) for k,v in word_index.items()} \n",
    "word_index[\"<PAD>\"] = 0\n",
    "word_index[\"<START>\"] = 1\n",
    "word_index[\"<UNK>\"] = 2  # unknown\n",
    "word_index[\"<UNUSED>\"] = 3\n",
    "\n",
    "reverse_word_index = dict([(value, key) for (key, value) in word_index.items()])\n",
    "\n",
    "def decode_review(text):\n",
    "    return ' '.join([reverse_word_index.get(i, '?') for i in text])"
   ]
  },
  {
   "cell_type": "code",
   "execution_count": 130,
   "metadata": {},
   "outputs": [
    {
     "name": "stdout",
     "output_type": "stream",
     "text": [
      "7272\n",
      "is_prompt_exists     int64\n",
      "comments            object\n",
      "dtype: object\n"
     ]
    }
   ],
   "source": [
    "########## Read in the datafile\n",
    "df = pd.read_csv(\"suggestions_data_balanced.csv\", engine = 'python');\n",
    "df.fillna(0, inplace=True)\n",
    "num_data = len(df)\n",
    "print(num_data)\n",
    "print(df.dtypes)"
   ]
  },
  {
   "cell_type": "code",
   "execution_count": 3,
   "metadata": {},
   "outputs": [],
   "source": [
    "########## Shuffle the data for randomization purposes\n",
    "# df = sklearn.utils.shuffle(df)\n",
    "df = df.iloc[np.random.permutation(len(df))]\n",
    "df = df.reset_index(drop=True)"
   ]
  },
  {
   "cell_type": "code",
   "execution_count": 4,
   "metadata": {},
   "outputs": [
    {
     "name": "stdout",
     "output_type": "stream",
     "text": [
      "Data: The authors need to be more explicit about the changes they will make. It is good that the team communicated that they will update the wiki to reflect the current DB schema, however instead of stating the potential changes, the structure of the entire wiki was instead presented. I think once the team dives a bit deeper into the project, they will be able to provide the names of the DB tables that were changed or removed. \n",
      "Label: 1\n"
     ]
    }
   ],
   "source": [
    "print(\"Data:\", df['comments'][0], \"\\nLabel:\", df['is_prompt_exists'][0]) # Check randomization"
   ]
  },
  {
   "cell_type": "code",
   "execution_count": 131,
   "metadata": {},
   "outputs": [],
   "source": [
    "###################### Create \n",
    "def bagofwords():\n",
    "#     sentence = []\n",
    "#     sentence.append(\"Hello there my name is name is blank.\")\n",
    "#     sentence.append(\"This is another sample name there phrase.\")\n",
    "#     text = nltk.word_tokenize(sentence[0].lower())\n",
    "#     words = list(set(text))\n",
    "#     text = nltk.word_tokenize(sentence[1].lower())\n",
    "#     words.append(list(set(text)))\n",
    "#     print(words)\n",
    "    length = 0\n",
    "    a = []\n",
    "    for loop in range(num_data):\n",
    "        comment = df['comments'][loop]\n",
    "        sentTok = nltk.sent_tokenize(comment)\n",
    "        length = length + len(sentTok)\n",
    "        for sentence in sentTok:\n",
    "    #         a.append(\"Hello there my name is name is blank.\")\n",
    "    #         a.append(\"This is another sample name there phrase.\")\n",
    "            a.append(sentence)\n",
    "    \n",
    "    \n",
    "    a = (' '.join(a)).lower()\n",
    "#     print(a)\n",
    "#     print('\\n')\n",
    "    text = nltk.word_tokenize(a)\n",
    "#     print(text)\n",
    "    newset = set()\n",
    "    for word in text:\n",
    "#         print(word)\n",
    "        newset.add(word)\n",
    "#     print(newset)\n",
    "#     print('\\n\\n')\n",
    "    # Fill in found words\n",
    "    word_to_ix = { w:(i+4) for i,w in enumerate(sorted(newset)) }\n",
    "    ix_to_word = { (i+4):w for i,w in enumerate(sorted(newset)) }\n",
    "    # Fill in reserved values\n",
    "    ix_to_word[0] = \"<PAD>\"\n",
    "    ix_to_word[1] = \"<START>\"\n",
    "    ix_to_word[2] = \"<UNK>\"\n",
    "    ix_to_word[3] = \"<UNUSED>\"\n",
    "    word_to_ix[\"<PAD>\"] = 0 # Used to equalize text length\n",
    "    word_to_ix[\"<START>\"] = 1\n",
    "    word_to_ix[\"<UNK>\"] = 2  # unknown value\n",
    "    word_to_ix[\"<UNUSED>\"] = 3\n",
    "    return word_to_ix, ix_to_word\n",
    "# print(\"\\nLENGTH:\", length)"
   ]
  },
  {
   "cell_type": "code",
   "execution_count": 132,
   "metadata": {},
   "outputs": [],
   "source": [
    "word_to_ix, ix_to_word = bagofwords()\n",
    "# print(ix_to_word)\n",
    "# print('\\n')\n",
    "# print(word_to_ix)"
   ]
  },
  {
   "cell_type": "code",
   "execution_count": 143,
   "metadata": {},
   "outputs": [
    {
     "name": "stdout",
     "output_type": "stream",
     "text": [
      "afterward\n",
      "4591\n",
      "5392\n",
      "5392\n"
     ]
    }
   ],
   "source": [
    "print(ix_to_word[510])\n",
    "print(word_to_ix[\"straightforward\"]) # Ensure word is in dictionary\n",
    "print(len(ix_to_word))\n",
    "print(len(word_to_ix))\n",
    "# print(ix_to_word)"
   ]
  },
  {
   "cell_type": "code",
   "execution_count": 8,
   "metadata": {},
   "outputs": [
    {
     "name": "stdout",
     "output_type": "stream",
     "text": [
      "Update: 0\n"
     ]
    },
    {
     "name": "stderr",
     "output_type": "stream",
     "text": [
      "/Users/gabrielfinnrzingle/anaconda3/lib/python3.6/site-packages/ipykernel_launcher.py:14: SettingWithCopyWarning: \n",
      "A value is trying to be set on a copy of a slice from a DataFrame\n",
      "\n",
      "See the caveats in the documentation: http://pandas.pydata.org/pandas-docs/stable/indexing.html#indexing-view-versus-copy\n",
      "  \n"
     ]
    },
    {
     "name": "stdout",
     "output_type": "stream",
     "text": [
      "Update: 500\n",
      "Update: 1000\n",
      "Update: 1500\n",
      "Update: 2000\n",
      "Update: 2500\n",
      "Update: 3000\n",
      "Update: 3500\n",
      "Update: 4000\n",
      "Update: 4500\n",
      "Update: 5000\n",
      "Update: 5500\n",
      "Update: 6000\n",
      "Update: 6500\n",
      "Update: 7000\n"
     ]
    }
   ],
   "source": [
    "###################### Convert original data to number representations\n",
    "###################### WARNING: Conversion process is time consuming (multiple minutes)\n",
    "loop = 0\n",
    "for loop in range(num_data):\n",
    "    if (loop % 500 == 0):\n",
    "        print(\"Update:\", loop) # Check spot in converter\n",
    "    comment = df['comments'][loop]\n",
    "    comment = comment.lower()\n",
    "    text = nltk.word_tokenize(comment)\n",
    "    length = len(text)\n",
    "    for i in range(length):\n",
    "        text[i] = word_to_ix[text[i]]\n",
    "#         print(text[i]) \n",
    "#     print(text)\n",
    "    df['comments'][loop] = text"
   ]
  },
  {
   "cell_type": "code",
   "execution_count": 3,
   "metadata": {},
   "outputs": [
    {
     "name": "stdout",
     "output_type": "stream",
     "text": [
      "                                            comments  is_prompt_exists\n",
      "0  [4853, 760, 3247, 4916, 827, 3188, 2008, 405, ...                 1\n",
      "1  [5005, 1618, 574, 811, 3559, 663, 1736, 2556, ...                 1\n",
      "2  [4853, 4781, 2374, 2302, 398, 2299, 3320, 3347...                -1\n",
      "3  [2738, 60, 2366, 2164, 3042, 4916, 2336, 5276,...                 1\n",
      "4  [4866, 5169, 4879, 4834, 4853, 2759, 628, 3154...                -1\n",
      "7272\n"
     ]
    },
    {
     "ename": "KeyError",
     "evalue": "'Sentence'",
     "output_type": "error",
     "traceback": [
      "\u001b[0;31m---------------------------------------------------------------------------\u001b[0m",
      "\u001b[0;31mKeyError\u001b[0m                                  Traceback (most recent call last)",
      "\u001b[0;32m~/anaconda3/lib/python3.6/site-packages/pandas/core/indexes/base.py\u001b[0m in \u001b[0;36mget_loc\u001b[0;34m(self, key, method, tolerance)\u001b[0m\n\u001b[1;32m   2524\u001b[0m             \u001b[0;32mtry\u001b[0m\u001b[0;34m:\u001b[0m\u001b[0;34m\u001b[0m\u001b[0m\n\u001b[0;32m-> 2525\u001b[0;31m                 \u001b[0;32mreturn\u001b[0m \u001b[0mself\u001b[0m\u001b[0;34m.\u001b[0m\u001b[0m_engine\u001b[0m\u001b[0;34m.\u001b[0m\u001b[0mget_loc\u001b[0m\u001b[0;34m(\u001b[0m\u001b[0mkey\u001b[0m\u001b[0;34m)\u001b[0m\u001b[0;34m\u001b[0m\u001b[0m\n\u001b[0m\u001b[1;32m   2526\u001b[0m             \u001b[0;32mexcept\u001b[0m \u001b[0mKeyError\u001b[0m\u001b[0;34m:\u001b[0m\u001b[0;34m\u001b[0m\u001b[0m\n",
      "\u001b[0;32mpandas/_libs/index.pyx\u001b[0m in \u001b[0;36mpandas._libs.index.IndexEngine.get_loc\u001b[0;34m()\u001b[0m\n",
      "\u001b[0;32mpandas/_libs/index.pyx\u001b[0m in \u001b[0;36mpandas._libs.index.IndexEngine.get_loc\u001b[0;34m()\u001b[0m\n",
      "\u001b[0;32mpandas/_libs/hashtable_class_helper.pxi\u001b[0m in \u001b[0;36mpandas._libs.hashtable.PyObjectHashTable.get_item\u001b[0;34m()\u001b[0m\n",
      "\u001b[0;32mpandas/_libs/hashtable_class_helper.pxi\u001b[0m in \u001b[0;36mpandas._libs.hashtable.PyObjectHashTable.get_item\u001b[0;34m()\u001b[0m\n",
      "\u001b[0;31mKeyError\u001b[0m: 'Sentence'",
      "\nDuring handling of the above exception, another exception occurred:\n",
      "\u001b[0;31mKeyError\u001b[0m                                  Traceback (most recent call last)",
      "\u001b[0;32m<ipython-input-3-94efce7cbac9>\u001b[0m in \u001b[0;36m<module>\u001b[0;34m()\u001b[0m\n\u001b[1;32m      4\u001b[0m \u001b[0mprint\u001b[0m\u001b[0;34m(\u001b[0m\u001b[0mdf\u001b[0m\u001b[0;34m.\u001b[0m\u001b[0mhead\u001b[0m\u001b[0;34m(\u001b[0m\u001b[0;34m)\u001b[0m\u001b[0;34m)\u001b[0m\u001b[0;34m\u001b[0m\u001b[0m\n\u001b[1;32m      5\u001b[0m \u001b[0mprint\u001b[0m\u001b[0;34m(\u001b[0m\u001b[0mlen\u001b[0m\u001b[0;34m(\u001b[0m\u001b[0mdf\u001b[0m\u001b[0;34m)\u001b[0m\u001b[0;34m)\u001b[0m\u001b[0;34m\u001b[0m\u001b[0m\n\u001b[0;32m----> 6\u001b[0;31m \u001b[0mprint\u001b[0m\u001b[0;34m(\u001b[0m\u001b[0mdf\u001b[0m\u001b[0;34m[\u001b[0m\u001b[0;34m\"Sentence\"\u001b[0m\u001b[0;34m]\u001b[0m\u001b[0;34m[\u001b[0m\u001b[0;36m0\u001b[0m\u001b[0;34m]\u001b[0m\u001b[0;34m)\u001b[0m\u001b[0;34m\u001b[0m\u001b[0m\n\u001b[0m\u001b[1;32m      7\u001b[0m \u001b[0mdf\u001b[0m\u001b[0;34m[\u001b[0m\u001b[0;34m\"Sentence\"\u001b[0m\u001b[0;34m]\u001b[0m\u001b[0;34m[\u001b[0m\u001b[0;36m0\u001b[0m\u001b[0;34m]\u001b[0m \u001b[0;34m=\u001b[0m \u001b[0mdf\u001b[0m\u001b[0;34m[\u001b[0m\u001b[0;34m\"Sentence\"\u001b[0m\u001b[0;34m]\u001b[0m\u001b[0;34m[\u001b[0m\u001b[0;36m0\u001b[0m\u001b[0;34m]\u001b[0m\u001b[0;34m[\u001b[0m\u001b[0;36m1\u001b[0m\u001b[0;34m:\u001b[0m\u001b[0;34m]\u001b[0m\u001b[0;34m\u001b[0m\u001b[0m\n\u001b[1;32m      8\u001b[0m \u001b[0mprint\u001b[0m\u001b[0;34m(\u001b[0m\u001b[0;34m'\\n'\u001b[0m\u001b[0;34m)\u001b[0m\u001b[0;34m\u001b[0m\u001b[0m\n",
      "\u001b[0;32m~/anaconda3/lib/python3.6/site-packages/pandas/core/frame.py\u001b[0m in \u001b[0;36m__getitem__\u001b[0;34m(self, key)\u001b[0m\n\u001b[1;32m   2137\u001b[0m             \u001b[0;32mreturn\u001b[0m \u001b[0mself\u001b[0m\u001b[0;34m.\u001b[0m\u001b[0m_getitem_multilevel\u001b[0m\u001b[0;34m(\u001b[0m\u001b[0mkey\u001b[0m\u001b[0;34m)\u001b[0m\u001b[0;34m\u001b[0m\u001b[0m\n\u001b[1;32m   2138\u001b[0m         \u001b[0;32melse\u001b[0m\u001b[0;34m:\u001b[0m\u001b[0;34m\u001b[0m\u001b[0m\n\u001b[0;32m-> 2139\u001b[0;31m             \u001b[0;32mreturn\u001b[0m \u001b[0mself\u001b[0m\u001b[0;34m.\u001b[0m\u001b[0m_getitem_column\u001b[0m\u001b[0;34m(\u001b[0m\u001b[0mkey\u001b[0m\u001b[0;34m)\u001b[0m\u001b[0;34m\u001b[0m\u001b[0m\n\u001b[0m\u001b[1;32m   2140\u001b[0m \u001b[0;34m\u001b[0m\u001b[0m\n\u001b[1;32m   2141\u001b[0m     \u001b[0;32mdef\u001b[0m \u001b[0m_getitem_column\u001b[0m\u001b[0;34m(\u001b[0m\u001b[0mself\u001b[0m\u001b[0;34m,\u001b[0m \u001b[0mkey\u001b[0m\u001b[0;34m)\u001b[0m\u001b[0;34m:\u001b[0m\u001b[0;34m\u001b[0m\u001b[0m\n",
      "\u001b[0;32m~/anaconda3/lib/python3.6/site-packages/pandas/core/frame.py\u001b[0m in \u001b[0;36m_getitem_column\u001b[0;34m(self, key)\u001b[0m\n\u001b[1;32m   2144\u001b[0m         \u001b[0;31m# get column\u001b[0m\u001b[0;34m\u001b[0m\u001b[0;34m\u001b[0m\u001b[0m\n\u001b[1;32m   2145\u001b[0m         \u001b[0;32mif\u001b[0m \u001b[0mself\u001b[0m\u001b[0;34m.\u001b[0m\u001b[0mcolumns\u001b[0m\u001b[0;34m.\u001b[0m\u001b[0mis_unique\u001b[0m\u001b[0;34m:\u001b[0m\u001b[0;34m\u001b[0m\u001b[0m\n\u001b[0;32m-> 2146\u001b[0;31m             \u001b[0;32mreturn\u001b[0m \u001b[0mself\u001b[0m\u001b[0;34m.\u001b[0m\u001b[0m_get_item_cache\u001b[0m\u001b[0;34m(\u001b[0m\u001b[0mkey\u001b[0m\u001b[0;34m)\u001b[0m\u001b[0;34m\u001b[0m\u001b[0m\n\u001b[0m\u001b[1;32m   2147\u001b[0m \u001b[0;34m\u001b[0m\u001b[0m\n\u001b[1;32m   2148\u001b[0m         \u001b[0;31m# duplicate columns & possible reduce dimensionality\u001b[0m\u001b[0;34m\u001b[0m\u001b[0;34m\u001b[0m\u001b[0m\n",
      "\u001b[0;32m~/anaconda3/lib/python3.6/site-packages/pandas/core/generic.py\u001b[0m in \u001b[0;36m_get_item_cache\u001b[0;34m(self, item)\u001b[0m\n\u001b[1;32m   1840\u001b[0m         \u001b[0mres\u001b[0m \u001b[0;34m=\u001b[0m \u001b[0mcache\u001b[0m\u001b[0;34m.\u001b[0m\u001b[0mget\u001b[0m\u001b[0;34m(\u001b[0m\u001b[0mitem\u001b[0m\u001b[0;34m)\u001b[0m\u001b[0;34m\u001b[0m\u001b[0m\n\u001b[1;32m   1841\u001b[0m         \u001b[0;32mif\u001b[0m \u001b[0mres\u001b[0m \u001b[0;32mis\u001b[0m \u001b[0;32mNone\u001b[0m\u001b[0;34m:\u001b[0m\u001b[0;34m\u001b[0m\u001b[0m\n\u001b[0;32m-> 1842\u001b[0;31m             \u001b[0mvalues\u001b[0m \u001b[0;34m=\u001b[0m \u001b[0mself\u001b[0m\u001b[0;34m.\u001b[0m\u001b[0m_data\u001b[0m\u001b[0;34m.\u001b[0m\u001b[0mget\u001b[0m\u001b[0;34m(\u001b[0m\u001b[0mitem\u001b[0m\u001b[0;34m)\u001b[0m\u001b[0;34m\u001b[0m\u001b[0m\n\u001b[0m\u001b[1;32m   1843\u001b[0m             \u001b[0mres\u001b[0m \u001b[0;34m=\u001b[0m \u001b[0mself\u001b[0m\u001b[0;34m.\u001b[0m\u001b[0m_box_item_values\u001b[0m\u001b[0;34m(\u001b[0m\u001b[0mitem\u001b[0m\u001b[0;34m,\u001b[0m \u001b[0mvalues\u001b[0m\u001b[0;34m)\u001b[0m\u001b[0;34m\u001b[0m\u001b[0m\n\u001b[1;32m   1844\u001b[0m             \u001b[0mcache\u001b[0m\u001b[0;34m[\u001b[0m\u001b[0mitem\u001b[0m\u001b[0;34m]\u001b[0m \u001b[0;34m=\u001b[0m \u001b[0mres\u001b[0m\u001b[0;34m\u001b[0m\u001b[0m\n",
      "\u001b[0;32m~/anaconda3/lib/python3.6/site-packages/pandas/core/internals.py\u001b[0m in \u001b[0;36mget\u001b[0;34m(self, item, fastpath)\u001b[0m\n\u001b[1;32m   3841\u001b[0m \u001b[0;34m\u001b[0m\u001b[0m\n\u001b[1;32m   3842\u001b[0m             \u001b[0;32mif\u001b[0m \u001b[0;32mnot\u001b[0m \u001b[0misna\u001b[0m\u001b[0;34m(\u001b[0m\u001b[0mitem\u001b[0m\u001b[0;34m)\u001b[0m\u001b[0;34m:\u001b[0m\u001b[0;34m\u001b[0m\u001b[0m\n\u001b[0;32m-> 3843\u001b[0;31m                 \u001b[0mloc\u001b[0m \u001b[0;34m=\u001b[0m \u001b[0mself\u001b[0m\u001b[0;34m.\u001b[0m\u001b[0mitems\u001b[0m\u001b[0;34m.\u001b[0m\u001b[0mget_loc\u001b[0m\u001b[0;34m(\u001b[0m\u001b[0mitem\u001b[0m\u001b[0;34m)\u001b[0m\u001b[0;34m\u001b[0m\u001b[0m\n\u001b[0m\u001b[1;32m   3844\u001b[0m             \u001b[0;32melse\u001b[0m\u001b[0;34m:\u001b[0m\u001b[0;34m\u001b[0m\u001b[0m\n\u001b[1;32m   3845\u001b[0m                 \u001b[0mindexer\u001b[0m \u001b[0;34m=\u001b[0m \u001b[0mnp\u001b[0m\u001b[0;34m.\u001b[0m\u001b[0marange\u001b[0m\u001b[0;34m(\u001b[0m\u001b[0mlen\u001b[0m\u001b[0;34m(\u001b[0m\u001b[0mself\u001b[0m\u001b[0;34m.\u001b[0m\u001b[0mitems\u001b[0m\u001b[0;34m)\u001b[0m\u001b[0;34m)\u001b[0m\u001b[0;34m[\u001b[0m\u001b[0misna\u001b[0m\u001b[0;34m(\u001b[0m\u001b[0mself\u001b[0m\u001b[0;34m.\u001b[0m\u001b[0mitems\u001b[0m\u001b[0;34m)\u001b[0m\u001b[0;34m]\u001b[0m\u001b[0;34m\u001b[0m\u001b[0m\n",
      "\u001b[0;32m~/anaconda3/lib/python3.6/site-packages/pandas/core/indexes/base.py\u001b[0m in \u001b[0;36mget_loc\u001b[0;34m(self, key, method, tolerance)\u001b[0m\n\u001b[1;32m   2525\u001b[0m                 \u001b[0;32mreturn\u001b[0m \u001b[0mself\u001b[0m\u001b[0;34m.\u001b[0m\u001b[0m_engine\u001b[0m\u001b[0;34m.\u001b[0m\u001b[0mget_loc\u001b[0m\u001b[0;34m(\u001b[0m\u001b[0mkey\u001b[0m\u001b[0;34m)\u001b[0m\u001b[0;34m\u001b[0m\u001b[0m\n\u001b[1;32m   2526\u001b[0m             \u001b[0;32mexcept\u001b[0m \u001b[0mKeyError\u001b[0m\u001b[0;34m:\u001b[0m\u001b[0;34m\u001b[0m\u001b[0m\n\u001b[0;32m-> 2527\u001b[0;31m                 \u001b[0;32mreturn\u001b[0m \u001b[0mself\u001b[0m\u001b[0;34m.\u001b[0m\u001b[0m_engine\u001b[0m\u001b[0;34m.\u001b[0m\u001b[0mget_loc\u001b[0m\u001b[0;34m(\u001b[0m\u001b[0mself\u001b[0m\u001b[0;34m.\u001b[0m\u001b[0m_maybe_cast_indexer\u001b[0m\u001b[0;34m(\u001b[0m\u001b[0mkey\u001b[0m\u001b[0;34m)\u001b[0m\u001b[0;34m)\u001b[0m\u001b[0;34m\u001b[0m\u001b[0m\n\u001b[0m\u001b[1;32m   2528\u001b[0m \u001b[0;34m\u001b[0m\u001b[0m\n\u001b[1;32m   2529\u001b[0m         \u001b[0mindexer\u001b[0m \u001b[0;34m=\u001b[0m \u001b[0mself\u001b[0m\u001b[0;34m.\u001b[0m\u001b[0mget_indexer\u001b[0m\u001b[0;34m(\u001b[0m\u001b[0;34m[\u001b[0m\u001b[0mkey\u001b[0m\u001b[0;34m]\u001b[0m\u001b[0;34m,\u001b[0m \u001b[0mmethod\u001b[0m\u001b[0;34m=\u001b[0m\u001b[0mmethod\u001b[0m\u001b[0;34m,\u001b[0m \u001b[0mtolerance\u001b[0m\u001b[0;34m=\u001b[0m\u001b[0mtolerance\u001b[0m\u001b[0;34m)\u001b[0m\u001b[0;34m\u001b[0m\u001b[0m\n",
      "\u001b[0;32mpandas/_libs/index.pyx\u001b[0m in \u001b[0;36mpandas._libs.index.IndexEngine.get_loc\u001b[0;34m()\u001b[0m\n",
      "\u001b[0;32mpandas/_libs/index.pyx\u001b[0m in \u001b[0;36mpandas._libs.index.IndexEngine.get_loc\u001b[0;34m()\u001b[0m\n",
      "\u001b[0;32mpandas/_libs/hashtable_class_helper.pxi\u001b[0m in \u001b[0;36mpandas._libs.hashtable.PyObjectHashTable.get_item\u001b[0;34m()\u001b[0m\n",
      "\u001b[0;32mpandas/_libs/hashtable_class_helper.pxi\u001b[0m in \u001b[0;36mpandas._libs.hashtable.PyObjectHashTable.get_item\u001b[0;34m()\u001b[0m\n",
      "\u001b[0;31mKeyError\u001b[0m: 'Sentence'"
     ]
    }
   ],
   "source": [
    "##################### Print out portions for testing\n",
    "df = pd.read_csv(\"suggestions_data_balanced_converted.csv\", engine = 'python');\n",
    "df.fillna(0, inplace=True)\n",
    "print(df.head())\n",
    "print(len(df))\n",
    "print(df[\"Sentence\"][0])\n",
    "df[\"Sentence\"][0] = df[\"Sentence\"][0][1:]\n",
    "print('\\n')\n",
    "print(df[\"Sentence\"][0])\n",
    "df[\"Sentence\"][0] = df[\"Sentence\"][0][:len(df[\"Sentence\"] - 2)]\n",
    "print('\\n')\n",
    "print(df[\"Sentence\"][0])"
   ]
  },
  {
   "cell_type": "code",
   "execution_count": 127,
   "metadata": {},
   "outputs": [],
   "source": [
    "##################### Converted word to number data into a csv file to save time\n",
    "num_to_print = len(df)\n",
    "import csv\n",
    "# with open('suggestions_data_balanced_converted2.csv', 'w', newline = '') as f:\n",
    "#     writer = csv.writer(f)\n",
    "#     writer.writerow([\"Sentence\", \"Label\"])\n",
    "#     for i in range(num_to_print):\n",
    "#         sentence = traindata[i]\n",
    "#         sentence = [int(i) for i in sentence]\n",
    "#         label = df['Label'][i]\n",
    "#         if (df['Label'][i] == -1):\n",
    "#             label = 0\n",
    "#         writer.writerow([sentence, label])\n",
    "\n",
    "### (train_data, train_labels), (test_data, test_labels) Use this to get CSV form\n",
    "# print(train_data[0])\n",
    "# with open('imdb_move_reviews.csv', 'w', newline = '') as f:\n",
    "#     writer = csv.writer(f)\n",
    "#     writer.writerow([\"sent_train\", \"train_label\", \"sent_test\", \"test_label\"])\n",
    "#     for i in range(25000):\n",
    "#         sent_train = train_data[i]\n",
    "#         train_label = train_labels[i]\n",
    "#         sent_test = test_data[i]\n",
    "#         test_label = test_labels[i]\n",
    "#         writer.writerow([sent_train, train_label, sent_test, test_label])"
   ]
  },
  {
   "cell_type": "code",
   "execution_count": 416,
   "metadata": {},
   "outputs": [
    {
     "name": "stdout",
     "output_type": "stream",
     "text": [
      "the changes mentioned are pretty straightforward , more information on how their plan to make those changes are should be provided in the document . \n",
      "\n",
      "the images and visual aids explain the flow very well . there were no uml diagrams in the document though . \n",
      "\n",
      "although , the writeup explains the functionality very well , they have n't mentioned which design pattern they have used an why ? . \n",
      "\n",
      "no new tests have been added \n",
      "\n",
      "changes are very good , the author has proposed design patterns they will be used in the implementation , along with that method to calculate score has been explained elaborately \n",
      "\n",
      "the design appears to be sound , but i think more details are needed . \n",
      "\n",
      "1. the plan is sound and seems to be clearly explained bullet points \n",
      "\n",
      "the principles used to solving the problem are sound \n",
      "\n",
      "yes , the code is well written and follows the conventions of ruby design principles . \n",
      "\n",
      "code written following the coding standards \n",
      "\n"
     ]
    }
   ],
   "source": [
    "##################### Convert words back to check conversion \n",
    "# for i in range(num_data):\n",
    "#     comment = df['comments'][i]\n",
    "#     length = len(comment)\n",
    "#     count = 0;\n",
    "#     text = []\n",
    "#     for num in comment:\n",
    "#         text.append(ix_to_word[num])\n",
    "#         count += 1\n",
    "#     text = (' '.join(text))\n",
    "#     print(text,'\\n')"
   ]
  },
  {
   "cell_type": "code",
   "execution_count": 144,
   "metadata": {},
   "outputs": [],
   "source": [
    "############# Retrieve number converted data (saves time)\n",
    "df = pd.read_csv(\"suggestions_data_balanced_converted2.csv\", engine = 'python');"
   ]
  },
  {
   "cell_type": "code",
   "execution_count": 8,
   "metadata": {},
   "outputs": [],
   "source": [
    "############# Initialize training data\n",
    "num_data = len(df)\n",
    "num_train = int(num_data * 0.8) # df.head this amount\n",
    "num_test = int(num_data - num_train) # df.tail this amount\n",
    "# print(num_train)\n",
    "# print(num_test)\n",
    "# print(len(df), \"  \", num_train+num_test)\n",
    "# train_data = df['Sentence'].head(num_train)\n",
    "train_data = full_data[:num_train]\n",
    "# for i in range(8):\n",
    "#     print(train_data[i])"
   ]
  },
  {
   "cell_type": "code",
   "execution_count": 9,
   "metadata": {},
   "outputs": [],
   "source": [
    "############# Initialize testing data **(requires full dataset conversion for tail() to work)**\n",
    "# print(df['comments'].tail(2))\n",
    "# test_data = df['Sentence'].tail(num_test)\n",
    "test_data = full_data[num_train:]\n",
    "# test_data = df['comments'].head(4) #### Remove later (PLACEHOLDER STATEMENT)\n",
    "# for i in range(2):\n",
    "#     print(test_data[i])"
   ]
  },
  {
   "cell_type": "code",
   "execution_count": 147,
   "metadata": {},
   "outputs": [],
   "source": [
    "############ Function enabling conversion of indexed number sentence into word sentence\n",
    "def decode_review(text):\n",
    "#     return ' '.join([reverse_word_index.get(i, '?') for i in text])\n",
    "    return ' '.join([ix_to_word[i] for i in text])"
   ]
  },
  {
   "cell_type": "code",
   "execution_count": 170,
   "metadata": {},
   "outputs": [
    {
     "name": "stdout",
     "output_type": "stream",
     "text": [
      "they very thoroughly tested the job applications model and controller . there were tests for the admin user but i could n't replicate them on the actual website so either the tests did n't pass or the user given in the readme was n't an\n"
     ]
    }
   ],
   "source": [
    "print(decode_review(train_data[4]))"
   ]
  },
  {
   "cell_type": "code",
   "execution_count": 172,
   "metadata": {},
   "outputs": [
    {
     "name": "stdout",
     "output_type": "stream",
     "text": [
      "Full: 341\n"
     ]
    }
   ],
   "source": [
    "############# Find the maximum sentence length to use for padding training data\n",
    "maxlength = 0\n",
    "for array in range(len(full_data)):\n",
    "#     maxlength = max(len(array),maxlength)\n",
    "    maxlength = max(len(full_data[array]), maxlength)\n",
    "print(\"Full:\", maxlength)\n",
    "# for array in range(len(test_data)):\n",
    "# #     maxlength = max(len(array),maxlength)\n",
    "#     maxlength = max(len(test_data[array + 5817]), maxlength)\n",
    "# print(\"Test:\", maxlength)"
   ]
  },
  {
   "cell_type": "code",
   "execution_count": 176,
   "metadata": {},
   "outputs": [
    {
     "name": "stdout",
     "output_type": "stream",
     "text": [
      "[4853, 2004, 5275, 398, 2919, 2366, 4916, 2155, 737, 4907, 110, 2464, 85, 3190, 3347, 4853, 4901, 85, 2477, 5031, 4853, 1026, 4851, 5345, 3247, 4916, 827, 2980, 4916, 4853, 2115, 3470, 3347, 4853, 3733, 110, 474, 398, 2907, 4916, 3260, 4938, 4453, 4851, 398, 3861, 971, 2380, 4853, 1023, 4916, 2861, 3188, 2500, 4866, 663, 1265, 5306, 827, 855, 4916, 4876]\n"
     ]
    }
   ],
   "source": [
    "for array in train_data:\n",
    "    print(train_data[5816])\n",
    "    break"
   ]
  },
  {
   "cell_type": "code",
   "execution_count": 227,
   "metadata": {},
   "outputs": [
    {
     "ename": "AttributeError",
     "evalue": "'list' object has no attribute 'split'",
     "output_type": "error",
     "traceback": [
      "\u001b[0;31m---------------------------------------------------------------------------\u001b[0m",
      "\u001b[0;31mAttributeError\u001b[0m                            Traceback (most recent call last)",
      "\u001b[0;32m<ipython-input-227-c57a6dc51d31>\u001b[0m in \u001b[0;36m<module>\u001b[0;34m()\u001b[0m\n\u001b[1;32m      2\u001b[0m \u001b[0;31m#     train_data[i+1] = train_data[i+1].split(\",\")\u001b[0m\u001b[0;34m\u001b[0m\u001b[0;34m\u001b[0m\u001b[0m\n\u001b[1;32m      3\u001b[0m \u001b[0;32mfor\u001b[0m \u001b[0mi\u001b[0m \u001b[0;32min\u001b[0m \u001b[0mrange\u001b[0m \u001b[0;34m(\u001b[0m\u001b[0mnum_test\u001b[0m\u001b[0;34m)\u001b[0m\u001b[0;34m:\u001b[0m\u001b[0;34m\u001b[0m\u001b[0m\n\u001b[0;32m----> 4\u001b[0;31m     \u001b[0mtest_data\u001b[0m\u001b[0;34m[\u001b[0m\u001b[0mi\u001b[0m \u001b[0;34m+\u001b[0m \u001b[0;36m5817\u001b[0m\u001b[0;34m]\u001b[0m \u001b[0;34m=\u001b[0m \u001b[0mtest_data\u001b[0m\u001b[0;34m[\u001b[0m\u001b[0mi\u001b[0m \u001b[0;34m+\u001b[0m \u001b[0;36m5817\u001b[0m\u001b[0;34m]\u001b[0m\u001b[0;34m.\u001b[0m\u001b[0msplit\u001b[0m\u001b[0;34m(\u001b[0m\u001b[0;34m\",\"\u001b[0m\u001b[0;34m)\u001b[0m\u001b[0;34m\u001b[0m\u001b[0m\n\u001b[0m",
      "\u001b[0;31mAttributeError\u001b[0m: 'list' object has no attribute 'split'"
     ]
    }
   ],
   "source": [
    "# for i in range (num_train):\n",
    "#     train_data[i+1] = train_data[i+1].split(\",\")\n",
    "for i in range (num_test):\n",
    "    test_data[i + 5817] = test_data[i + 5817].split(\",\")"
   ]
  },
  {
   "cell_type": "code",
   "execution_count": 177,
   "metadata": {},
   "outputs": [
    {
     "name": "stdout",
     "output_type": "stream",
     "text": [
      "341\n",
      "[4853, 760, 3247, 4916, 827, 3188, 2008, 405, 4853, 1026, 4866, 5306, 2993, 110, 2738, 2729, 2299, 4851, 4853, 4781, 1170, 4851, 4866, 5306, 5074, 4853, 5302, 4916, 3937, 4853, 1445, 1474, 4213, 85, 2464, 2653, 3347, 4565, 4853, 3634, 1026, 85, 4853, 4609, 3347, 4853, 1877, 5302, 5241, 2653, 3670, 110, 2477, 4870, 3364, 4853, 4781, 1691, 398, 869, 1510, 2700, 4853, 3733, 85, 4866, 5306, 827, 404, 4916, 3769, 4853, 3223, 3347, 4853, 1474, 4749, 4851, 5275, 1025, 3397]\n",
      "1\n",
      "1\n",
      "0\n",
      "1\n",
      "0\n",
      "0\n",
      "1\n",
      "0\n",
      "1\n",
      "0\n"
     ]
    }
   ],
   "source": [
    "############# Initialize training and test labels\n",
    "train_labels = df['Label'].head(num_train) # is_prompt_exists\n",
    "test_labels = df['Label'].tail(num_test)\n",
    "print(maxlength)\n",
    "print(train_data[0])\n",
    "for i in range(10):\n",
    "    print(train_labels[i])"
   ]
  },
  {
   "cell_type": "code",
   "execution_count": 10,
   "metadata": {},
   "outputs": [
    {
     "name": "stdout",
     "output_type": "stream",
     "text": [
      "[5005, 1618, 574, 811, 3559, 663, 1736, 2556, 4853, 1577, 1698, 85, 5169, 2299, 2759, 110, 947, 2477, 4681, 5375, 2345, 1729, 4464, 3151, 3347, 4240, 574, 1464, 4749, 2556, 5377, 1577, 1698, 110, 4860, 663, 4464, 3882, 110, 2115, 85, 3151, 663, 4853, 859, 3930, 2500, 5375, 5352, 4853, 4813, 3572, 574, 5099, 4778, 641, 110, 4857, 85, 3151, 971, 2402, 5375, 574, 5377, 4788, 4916, 5022, 5377, 3733, 860, 574, 2970, 4853, 4132, 3347, 2997, 3136, 5279, 1609]\n",
      "\n",
      "\n",
      "[5005\n",
      "5005\n"
     ]
    }
   ],
   "source": [
    "print(train_data[1])\n",
    "# newstr = train_data[1:]\n",
    "print('\\n')\n",
    "newstr = \"[5005\"\n",
    "print(newstr)\n",
    "newstr = newstr[1:]\n",
    "print(newstr)\n",
    "# results = map(int, train_data[1])\n",
    "# results = list(map(int, train_data[1]))\n",
    "# print(results)"
   ]
  },
  {
   "cell_type": "code",
   "execution_count": 7,
   "metadata": {},
   "outputs": [
    {
     "name": "stdout",
     "output_type": "stream",
     "text": [
      "4853 \n",
      "\n"
     ]
    }
   ],
   "source": [
    "# df = pd.read_csv(\"suggestions_data_balanced_converted.csv\", engine = 'python');\n",
    "# df.fillna(0, inplace=True)\n",
    "# print(df['Sentence'][0], '\\n')\n",
    "# splittest = (' '.join(df['Sentence'][0]))\n",
    "# print(splittest)\n",
    "traindata = []\n",
    "for dat in df['comments']:\n",
    "    paragraph = []\n",
    "    sentence = []\n",
    "    for letter in dat:\n",
    "        if (letter == '[' or letter == ']' or letter == ' '):\n",
    "            continue\n",
    "        elif (letter == ','):\n",
    "            sentence = (''.join(sentence))\n",
    "            paragraph.append(sentence)\n",
    "    #         print(sentence)\n",
    "            sentence = []\n",
    "        else:\n",
    "            sentence.append(letter)\n",
    "#     paragraph = (' '.join(paragraph))\n",
    "    paragraph = [int(i) for i in paragraph]\n",
    "    traindata.append(paragraph)\n",
    "# print(paragraph, '\\n')\n",
    "print(traindata[0][0], '\\n')\n",
    "full_data = traindata\n",
    "# print(train_data[0])"
   ]
  },
  {
   "cell_type": "code",
   "execution_count": 11,
   "metadata": {},
   "outputs": [
    {
     "ename": "NameError",
     "evalue": "name 'word_to_ix' is not defined",
     "output_type": "error",
     "traceback": [
      "\u001b[0;31m---------------------------------------------------------------------------\u001b[0m",
      "\u001b[0;31mNameError\u001b[0m                                 Traceback (most recent call last)",
      "\u001b[0;32m<ipython-input-11-5ad5e00cb471>\u001b[0m in \u001b[0;36m<module>\u001b[0;34m()\u001b[0m\n\u001b[1;32m      2\u001b[0m \u001b[0;31m# For non IMDB dataset, used maxlength for maxlen instead of 256\u001b[0m\u001b[0;34m\u001b[0m\u001b[0;34m\u001b[0m\u001b[0m\n\u001b[1;32m      3\u001b[0m train_data = keras.preprocessing.sequence.pad_sequences(train_data,\n\u001b[0;32m----> 4\u001b[0;31m                                                        \u001b[0mvalue\u001b[0m\u001b[0;34m=\u001b[0m\u001b[0mword_to_ix\u001b[0m\u001b[0;34m[\u001b[0m\u001b[0;34m\"<PAD>\"\u001b[0m\u001b[0;34m]\u001b[0m\u001b[0;34m,\u001b[0m\u001b[0;34m\u001b[0m\u001b[0m\n\u001b[0m\u001b[1;32m      5\u001b[0m                                                        \u001b[0mpadding\u001b[0m\u001b[0;34m=\u001b[0m\u001b[0;34m'post'\u001b[0m\u001b[0;34m,\u001b[0m\u001b[0;34m\u001b[0m\u001b[0m\n\u001b[1;32m      6\u001b[0m                                                        maxlen=maxlength)\n",
      "\u001b[0;31mNameError\u001b[0m: name 'word_to_ix' is not defined"
     ]
    }
   ],
   "source": [
    "############# Pad the words to equalize array length\n",
    "# For non IMDB dataset, used maxlength for maxlen instead of 256\n",
    "train_data = keras.preprocessing.sequence.pad_sequences(train_data,\n",
    "                                                       value=word_to_ix[\"<PAD>\"],\n",
    "                                                       padding='post',\n",
    "                                                       maxlen=maxlength)\n",
    "\n",
    "test_data = keras.preprocessing.sequence.pad_sequences(test_data,\n",
    "                                                      value=word_to_ix[\"<PAD>\"],\n",
    "                                                      padding='post',\n",
    "                                                      maxlen=maxlength)\n",
    "\n",
    "# train_data = keras.preprocessing.sequence.pad_sequences(train_data,\n",
    "#                                                        value=word_index[\"<PAD>\"],\n",
    "#                                                        padding='post',\n",
    "#                                                        maxlen=256)\n",
    "\n",
    "# test_data = keras.preprocessing.sequence.pad_sequences(test_data,\n",
    "#                                                       value=word_index[\"<PAD>\"],\n",
    "#                                                       padding='post',\n",
    "#                                                       maxlen=256)"
   ]
  },
  {
   "cell_type": "code",
   "execution_count": 179,
   "metadata": {},
   "outputs": [
    {
     "data": {
      "text/plain": [
       "(341, 341)"
      ]
     },
     "execution_count": 179,
     "metadata": {},
     "output_type": "execute_result"
    }
   ],
   "source": [
    "len(train_data[0]), len(train_data[1]) # Check the new length of some train data"
   ]
  },
  {
   "cell_type": "code",
   "execution_count": 180,
   "metadata": {},
   "outputs": [
    {
     "name": "stdout",
     "output_type": "stream",
     "text": [
      "[4853  760 3247 4916  827 3188 2008  405 4853 1026 4866 5306 2993  110\n",
      " 2738 2729 2299 4851 4853 4781 1170 4851 4866 5306 5074 4853 5302 4916\n",
      " 3937 4853 1445 1474 4213   85 2464 2653 3347 4565 4853 3634 1026   85\n",
      " 4853 4609 3347 4853 1877 5302 5241 2653 3670  110 2477 4870 3364 4853\n",
      " 4781 1691  398  869 1510 2700 4853 3733   85 4866 5306  827  404 4916\n",
      " 3769 4853 3223 3347 4853 1474 4749 4851 5275 1025 3397    0    0    0\n",
      "    0    0    0    0    0    0    0    0    0    0    0    0    0    0\n",
      "    0    0    0    0    0    0    0    0    0    0    0    0    0    0\n",
      "    0    0    0    0    0    0    0    0    0    0    0    0    0    0\n",
      "    0    0    0    0    0    0    0    0    0    0    0    0    0    0\n",
      "    0    0    0    0    0    0    0    0    0    0    0    0    0    0\n",
      "    0    0    0    0    0    0    0    0    0    0    0    0    0    0\n",
      "    0    0    0    0    0    0    0    0    0    0    0    0    0    0\n",
      "    0    0    0    0    0    0    0    0    0    0    0    0    0    0\n",
      "    0    0    0    0    0    0    0    0    0    0    0    0    0    0\n",
      "    0    0    0    0    0    0    0    0    0    0    0    0    0    0\n",
      "    0    0    0    0    0    0    0    0    0    0    0    0    0    0\n",
      "    0    0    0    0    0    0    0    0    0    0    0    0    0    0\n",
      "    0    0    0    0    0    0    0    0    0    0    0    0    0    0\n",
      "    0    0    0    0    0    0    0    0    0    0    0    0    0    0\n",
      "    0    0    0    0    0    0    0    0    0    0    0    0    0    0\n",
      "    0    0    0    0    0    0    0    0    0    0    0    0    0    0\n",
      "    0    0    0    0    0    0    0    0    0    0    0    0    0    0\n",
      "    0    0    0    0    0    0    0    0    0    0    0    0    0    0\n",
      "    0    0    0    0    0]\n"
     ]
    }
   ],
   "source": [
    "print(train_data[0]) # Check new padded number sentences"
   ]
  },
  {
   "cell_type": "code",
   "execution_count": 247,
   "metadata": {},
   "outputs": [
    {
     "name": "stdout",
     "output_type": "stream",
     "text": [
      "_________________________________________________________________\n",
      "Layer (type)                 Output Shape              Param #   \n",
      "=================================================================\n",
      "embedding_16 (Embedding)     (None, None, 50)          363600    \n",
      "_________________________________________________________________\n",
      "global_average_pooling1d_16  (None, 50)                0         \n",
      "_________________________________________________________________\n",
      "dense_31 (Dense)             (None, 50)                2550      \n",
      "_________________________________________________________________\n",
      "dense_32 (Dense)             (None, 1)                 51        \n",
      "=================================================================\n",
      "Total params: 366,201\n",
      "Trainable params: 366,201\n",
      "Non-trainable params: 0\n",
      "_________________________________________________________________\n"
     ]
    }
   ],
   "source": [
    "############# Creates the model\n",
    "vocab_size = num_data # suggestions_data_balanced.csv dataset length becomes input shape: 7272\n",
    "#vocab_size = len(word_to_ix)\n",
    "# vocab_size = 10000 # For IMDB Dataset\n",
    "\n",
    "model = keras.Sequential() \n",
    "model.add(keras.layers.Embedding(vocab_size, 50)) # original right parameter is 16\n",
    "model.add(keras.layers.GlobalAveragePooling1D())\n",
    "model.add(keras.layers.Dense(50, activation=tf.nn.relu)) # original left parameter  is 16\n",
    "model.add(keras.layers.Dense(1, activation=tf.nn.sigmoid))\n",
    "\n",
    "model.summary()"
   ]
  },
  {
   "cell_type": "code",
   "execution_count": 248,
   "metadata": {},
   "outputs": [],
   "source": [
    "############ Configured model with optimizer and loss function\n",
    "model.compile(optimizer = tf.train.AdamOptimizer(),\n",
    "             loss = 'binary_crossentropy',\n",
    "             metrics=['accuracy'])"
   ]
  },
  {
   "cell_type": "code",
   "execution_count": 185,
   "metadata": {},
   "outputs": [],
   "source": [
    "########### Initiate validation sets\n",
    "# Note -> vocab_size = len(df)\n",
    "val_size = int(num_train * 0.8) # Set apart 20% of train data for validation\n",
    "\n",
    "x_val = train_data[:num_train-val_size]\n",
    "partial_x_train = train_data[num_train-val_size:]\n",
    "\n",
    "y_val = train_labels[:num_train-val_size]\n",
    "partial_y_train = train_labels[num_train-val_size:]\n",
    "\n",
    "#### Below is for IMDB Dataset\n",
    "# x_val = train_data[:10000]\n",
    "# partial_x_train = train_data[10000:]\n",
    "\n",
    "# y_val = train_labels[:10000]\n",
    "# partial_y_train = train_labels[10000:]"
   ]
  },
  {
   "cell_type": "code",
   "execution_count": 218,
   "metadata": {},
   "outputs": [
    {
     "name": "stdout",
     "output_type": "stream",
     "text": [
      "5392\n",
      "1164\n",
      "4653\n",
      "[4853  760 3247 4916  827 3188 2008  405 4853 1026 4866 5306 2993  110\n",
      " 2738 2729 2299 4851 4853 4781 1170 4851 4866 5306 5074 4853 5302 4916\n",
      " 3937 4853 1445 1474 4213   85 2464 2653 3347 4565 4853 3634 1026   85\n",
      " 4853 4609 3347 4853 1877 5302 5241 2653 3670  110 2477 4870 3364 4853\n",
      " 4781 1691  398  869 1510 2700 4853 3733   85 4866 5306  827  404 4916\n",
      " 3769 4853 3223 3347 4853 1474 4749 4851 5275 1025 3397    0    0    0\n",
      "    0    0    0    0    0    0    0    0    0    0    0    0    0    0\n",
      "    0    0    0    0    0    0    0    0    0    0    0    0    0    0\n",
      "    0    0    0    0    0    0    0    0    0    0    0    0    0    0\n",
      "    0    0    0    0    0    0    0    0    0    0    0    0    0    0\n",
      "    0    0    0    0    0    0    0    0    0    0    0    0    0    0\n",
      "    0    0    0    0    0    0    0    0    0    0    0    0    0    0\n",
      "    0    0    0    0    0    0    0    0    0    0    0    0    0    0\n",
      "    0    0    0    0    0    0    0    0    0    0    0    0    0    0\n",
      "    0    0    0    0    0    0    0    0    0    0    0    0    0    0\n",
      "    0    0    0    0    0    0    0    0    0    0    0    0    0    0\n",
      "    0    0    0    0    0    0    0    0    0    0    0    0    0    0\n",
      "    0    0    0    0    0    0    0    0    0    0    0    0    0    0\n",
      "    0    0    0    0    0    0    0    0    0    0    0    0    0    0\n",
      "    0    0    0    0    0    0    0    0    0    0    0    0    0    0\n",
      "    0    0    0    0    0    0    0    0    0    0    0    0    0    0\n",
      "    0    0    0    0    0    0    0    0    0    0    0    0    0    0\n",
      "    0    0    0    0    0    0    0    0    0    0    0    0    0    0\n",
      "    0    0    0    0    0    0    0    0    0    0    0    0    0    0\n",
      "    0    0    0    0    0]\n"
     ]
    }
   ],
   "source": [
    "# print(x_val[0])\n",
    "# print(partial_x_train[0])\n",
    "# print(len(train_data))\n",
    "# print(len(x_val))\n",
    "# print(len(partial_x_train))\n",
    "\n",
    "print(len(word_to_ix))\n",
    "print(len(x_val))\n",
    "print(len(partial_x_train))\n",
    "print(x_val[0])"
   ]
  },
  {
   "cell_type": "code",
   "execution_count": 249,
   "metadata": {},
   "outputs": [
    {
     "name": "stdout",
     "output_type": "stream",
     "text": [
      "Train on 4653 samples, validate on 1164 samples\n",
      "Epoch 1/9\n",
      "4653/4653 [==============================] - 2s 465us/step - loss: 0.6334 - acc: 0.6478 - val_loss: 0.5916 - val_acc: 0.6864\n",
      "Epoch 2/9\n",
      "4653/4653 [==============================] - 1s 292us/step - loss: 0.5588 - acc: 0.7180 - val_loss: 0.5702 - val_acc: 0.7036\n",
      "Epoch 3/9\n",
      "4653/4653 [==============================] - 1s 290us/step - loss: 0.5261 - acc: 0.7494 - val_loss: 0.5468 - val_acc: 0.7277\n",
      "Epoch 4/9\n",
      "4653/4653 [==============================] - 1s 297us/step - loss: 0.4868 - acc: 0.7814 - val_loss: 0.5425 - val_acc: 0.7363\n",
      "Epoch 5/9\n",
      "4653/4653 [==============================] - 2s 328us/step - loss: 0.4547 - acc: 0.7986 - val_loss: 0.5315 - val_acc: 0.7637\n",
      "Epoch 6/9\n",
      "4653/4653 [==============================] - 2s 344us/step - loss: 0.4352 - acc: 0.8055 - val_loss: 0.5271 - val_acc: 0.7680\n",
      "Epoch 7/9\n",
      "4653/4653 [==============================] - 1s 306us/step - loss: 0.4166 - acc: 0.8199 - val_loss: 0.5434 - val_acc: 0.7620\n",
      "Epoch 8/9\n",
      "4653/4653 [==============================] - 1s 305us/step - loss: 0.4045 - acc: 0.8272 - val_loss: 0.5380 - val_acc: 0.7706\n",
      "Epoch 9/9\n",
      "4653/4653 [==============================] - 1s 296us/step - loss: 0.3953 - acc: 0.8248 - val_loss: 0.5416 - val_acc: 0.7672\n"
     ]
    }
   ],
   "source": [
    "############ Trains the model\n",
    "# history = model.fit(partial_x_train,\n",
    "#                    partial_y_train,\n",
    "#                    epochs=20,\n",
    "#                    batch_size=256,\n",
    "#                    validation_data=(x_val, y_val),\n",
    "#                    verbose=1)\n",
    "#### Below is for IMDB Dataset\n",
    "history = model.fit(partial_x_train,\n",
    "                   partial_y_train,\n",
    "                   epochs=9,\n",
    "                   batch_size=10,\n",
    "                   validation_data=(x_val, y_val),\n",
    "                   verbose=1)"
   ]
  },
  {
   "cell_type": "code",
   "execution_count": null,
   "metadata": {},
   "outputs": [],
   "source": [
    "########### Evaluate the model\n",
    "results = model.evaluate(test_data, test_labels)\n",
    "\n",
    "print(results)\n",
    "print(df.head(5))"
   ]
  },
  {
   "cell_type": "code",
   "execution_count": 189,
   "metadata": {},
   "outputs": [
    {
     "data": {
      "text/plain": [
       "dict_keys(['val_loss', 'val_acc', 'loss', 'acc'])"
      ]
     },
     "execution_count": 189,
     "metadata": {},
     "output_type": "execute_result"
    }
   ],
   "source": [
    "########### Graph the data\n",
    "history_dict = history.history\n",
    "history_dict.keys()"
   ]
  },
  {
   "cell_type": "code",
   "execution_count": 192,
   "metadata": {},
   "outputs": [
    {
     "data": {
      "image/png": "[encoded data removed]",
      "text/plain": [
       "<Figure size 432x288 with 1 Axes>"
      ]
     },
     "metadata": {},
     "output_type": "display_data"
    }
   ],
   "source": [
    "import matplotlib.pyplot as plt\n",
    "\n",
    "acc = history.history['acc']\n",
    "val_acc = history.history['val_acc']\n",
    "loss = history.history['loss']\n",
    "val_loss = history.history['val_loss']\n",
    "\n",
    "epochs = range(1, len(acc) + 1)\n",
    "\n",
    "# \"bo\" is for \"blue dot\"\n",
    "plt.plot(epochs, loss, 'bo', label='Training loss')\n",
    "# b is for \"solid blue line\"\n",
    "plt.plot(epochs, val_loss, 'b', label='Validation loss')\n",
    "plt.title('Training and validation loss')\n",
    "plt.xlabel('Epochs')\n",
    "plt.ylabel('Loss')\n",
    "plt.legend()\n",
    "\n",
    "plt.show()"
   ]
  },
  {
   "cell_type": "code",
   "execution_count": 193,
   "metadata": {},
   "outputs": [
    {
     "data": {
      "image/png": "[encoded data removed]",
      "text/plain": [
       "<Figure size 432x288 with 1 Axes>"
      ]
     },
     "metadata": {},
     "output_type": "display_data"
    }
   ],
   "source": [
    "plt.clf()   # clear figure\n",
    "acc_values = history_dict['acc']\n",
    "val_acc_values = history_dict['val_acc']\n",
    "\n",
    "plt.plot(epochs, acc, 'bo', label='Training acc')\n",
    "plt.plot(epochs, val_acc, 'b', label='Validation acc')\n",
    "plt.title('Training and validation accuracy')\n",
    "plt.xlabel('Epochs')\n",
    "plt.ylabel('Accuracy')\n",
    "plt.legend()\n",
    "\n",
    "plt.show()"
   ]
  },
  {
   "cell_type": "markdown",
   "metadata": {},
   "source": [
    "#@title MIT License\n",
    "'#\n",
    "'# Copyright (c) 2017 François Chollet\n",
    "'#\n",
    "'# Permission is hereby granted, free of charge, to any person obtaining a\n",
    "'# copy of this software and associated documentation files (the \"Software\"),\n",
    "'# to deal in the Software without restriction, including without limitation\n",
    "'# the rights to use, copy, modify, merge, publish, distribute, sublicense,\n",
    "'# and/or sell copies of the Software, and to permit persons to whom the\n",
    "'# Software is furnished to do so, subject to the following conditions:\n",
    "'#\n",
    "'# The above copyright notice and this permission notice shall be included in\n",
    "'# all copies or substantial portions of the Software."
   ]
  },
  {
   "cell_type": "code",
   "execution_count": 318,
   "metadata": {},
   "outputs": [
    {
     "name": "stdout",
     "output_type": "stream",
     "text": [
      "Review             object\n",
      "min_politeness    float64\n",
      "max_politeness    float64\n",
      "min_formality     float64\n",
      "max_formality     float64\n",
      "dtype: object\n"
     ]
    }
   ],
   "source": [
    "datfram = pd.read_csv(\"chromium_custom_data.csv\", engine = 'python');\n",
    "print(datfram.dtypes)"
   ]
  },
  {
   "cell_type": "code",
   "execution_count": 319,
   "metadata": {},
   "outputs": [
    {
     "name": "stdout",
     "output_type": "stream",
     "text": [
      "0.624467635\n"
     ]
    }
   ],
   "source": [
    "print(datfram['max_politeness'][0])"
   ]
  },
  {
   "cell_type": "code",
   "execution_count": 320,
   "metadata": {},
   "outputs": [],
   "source": [
    "with open('chromium_custom.csv', 'w', newline = '') as f:\n",
    "    writer = csv.writer(f)\n",
    "    writer.writerow([\"Review\", \"Politeness\", \"Formality\"])\n",
    "    for i in range(len(datfram)):\n",
    "        rev = datfram['Review'][i]\n",
    "        if isinstance(rev, str) == False:\n",
    "            continue\n",
    "        pol = (datfram['min_politeness'][i] + datfram['max_politeness'][i]) / 2.0\n",
    "        pol = int(round(pol, 0))\n",
    "        form = (datfram['min_formality'][i] + datfram['max_formality'][i]) / 2.0\n",
    "        form = int(round(form, 0))\n",
    "        writer.writerow([rev, pol, form])"
   ]
  },
  {
   "cell_type": "code",
   "execution_count": 321,
   "metadata": {},
   "outputs": [
    {
     "name": "stdout",
     "output_type": "stream",
     "text": [
      "Review        object\n",
      "Politeness     int64\n",
      "Formality      int64\n",
      "dtype: object\n",
      "99998\n"
     ]
    }
   ],
   "source": [
    "datfram = pd.read_csv(\"chromium_custom.csv\", engine = 'python');\n",
    "print(datfram.dtypes)\n",
    "print(len(datfram))"
   ]
  },
  {
   "cell_type": "code",
   "execution_count": 322,
   "metadata": {},
   "outputs": [],
   "source": [
    "text_length = 0\n",
    "yes_polite = 0\n",
    "yes_form = 0\n",
    "i = 0\n",
    "for i in range(len(datfram)):\n",
    "    length = len(datfram['Review'][i])\n",
    "    pol = datfram['Politeness'][i]\n",
    "    form = datfram['Formality'][i]\n",
    "    \n",
    "    if (length > text_length):\n",
    "        text_length = length\n",
    "    yes_polite = yes_polite + pol\n",
    "    yes_form = yes_form + form\n",
    "    "
   ]
  },
  {
   "cell_type": "code",
   "execution_count": 323,
   "metadata": {},
   "outputs": [
    {
     "name": "stdout",
     "output_type": "stream",
     "text": [
      "17807\n",
      "19245\n",
      "8831\n"
     ]
    }
   ],
   "source": [
    "print(text_length)\n",
    "print(yes_polite)\n",
    "print(yes_form)"
   ]
  },
  {
   "cell_type": "code",
   "execution_count": null,
   "metadata": {},
   "outputs": [],
   "source": []
  }
 ],
 "metadata": {
  "kernelspec": {
   "display_name": "Python 3",
   "language": "python",
   "name": "python3"
  },
  "language_info": {
   "codemirror_mode": {
    "name": "ipython",
    "version": 3
   },
   "file_extension": ".py",
   "mimetype": "text/x-python",
   "name": "python",
   "nbconvert_exporter": "python",
   "pygments_lexer": "ipython3",
   "version": "3.6.4"
  }
 },
 "nbformat": 4,
 "nbformat_minor": 2
}
