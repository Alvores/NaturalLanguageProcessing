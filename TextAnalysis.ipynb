{
 "cells": [
  {
   "cell_type": "markdown",
   "metadata": {},
   "source": [
    "# Citation: Keras Model Code from [tensorflow.org](https://www.tensorflow.org/tutorials/keras/basic_text_classification) text classification\n",
    "Testing out data preprocessing and mdoels for text analysis."
   ]
  },
  {
   "cell_type": "code",
   "execution_count": 1,
   "metadata": {},
   "outputs": [
    {
     "name": "stderr",
     "output_type": "stream",
     "text": [
      "Using TensorFlow backend.\n"
     ]
    }
   ],
   "source": [
    "import nltk\n",
    "import tensorflow as tf\n",
    "import numpy as np\n",
    "import pandas as pd\n",
    "import keras\n",
    "import sklearn"
   ]
  },
  {
   "cell_type": "code",
   "execution_count": 2,
   "metadata": {},
   "outputs": [],
   "source": [
    "########### Load the IMDB move review dataset for sentiment\n",
    "imdb = keras.datasets.imdb\n",
    "(train_data, train_labels), (test_data, test_labels) = imdb.load_data(num_words=10000)"
   ]
  },
  {
   "cell_type": "code",
   "execution_count": 63,
   "metadata": {},
   "outputs": [],
   "source": [
    "########### Load the word index and create reserved words\n",
    "# A dictionary mapping words to an integer index\n",
    "word_index = imdb.get_word_index()\n",
    "\n",
    "# The first indices are reserved\n",
    "word_index = {k:(v+3) for k,v in word_index.items()} \n",
    "word_index[\"<PAD>\"] = 0\n",
    "word_index[\"<START>\"] = 1\n",
    "word_index[\"<UNK>\"] = 2  # unknown\n",
    "word_index[\"<UNUSED>\"] = 3\n",
    "\n",
    "reverse_word_index = dict([(value, key) for (key, value) in word_index.items()])\n",
    "\n",
    "def decode_review(text):\n",
    "    return ' '.join([reverse_word_index.get(i, '?') for i in text])"
   ]
  },
  {
   "cell_type": "code",
   "execution_count": 130,
   "metadata": {},
   "outputs": [
    {
     "name": "stdout",
     "output_type": "stream",
     "text": [
      "7272\n",
      "is_prompt_exists     int64\n",
      "comments            object\n",
      "dtype: object\n"
     ]
    }
   ],
   "source": [
    "########## Read in the datafile\n",
    "df = pd.read_csv(\"suggestions_data_balanced.csv\", engine = 'python');\n",
    "df.fillna(0, inplace=True)\n",
    "num_data = len(df)\n",
    "print(num_data)\n",
    "print(df.dtypes)"
   ]
  },
  {
   "cell_type": "code",
   "execution_count": 3,
   "metadata": {},
   "outputs": [],
   "source": [
    "########## Shuffle the data for randomization purposes\n",
    "# df = sklearn.utils.shuffle(df)\n",
    "df = df.iloc[np.random.permutation(len(df))]\n",
    "df = df.reset_index(drop=True)"
   ]
  },
  {
   "cell_type": "code",
   "execution_count": 4,
   "metadata": {},
   "outputs": [
    {
     "name": "stdout",
     "output_type": "stream",
     "text": [
      "Data: The authors need to be more explicit about the changes they will make. It is good that the team communicated that they will update the wiki to reflect the current DB schema, however instead of stating the potential changes, the structure of the entire wiki was instead presented. I think once the team dives a bit deeper into the project, they will be able to provide the names of the DB tables that were changed or removed. \n",
      "Label: 1\n"
     ]
    }
   ],
   "source": [
    "print(\"Data:\", df['comments'][0], \"\\nLabel:\", df['is_prompt_exists'][0]) # Check randomization"
   ]
  },
  {
   "cell_type": "code",
   "execution_count": 131,
   "metadata": {},
   "outputs": [],
   "source": [
    "###################### Create \n",
    "def bagofwords():\n",
    "#     sentence = []\n",
    "#     sentence.append(\"Hello there my name is name is blank.\")\n",
    "#     sentence.append(\"This is another sample name there phrase.\")\n",
    "#     text = nltk.word_tokenize(sentence[0].lower())\n",
    "#     words = list(set(text))\n",
    "#     text = nltk.word_tokenize(sentence[1].lower())\n",
    "#     words.append(list(set(text)))\n",
    "#     print(words)\n",
    "    length = 0\n",
    "    a = []\n",
    "    for loop in range(num_data):\n",
    "        comment = df['comments'][loop]\n",
    "        sentTok = nltk.sent_tokenize(comment)\n",
    "        length = length + len(sentTok)\n",
    "        for sentence in sentTok:\n",
    "    #         a.append(\"Hello there my name is name is blank.\")\n",
    "    #         a.append(\"This is another sample name there phrase.\")\n",
    "            a.append(sentence)\n",
    "    \n",
    "    \n",
    "    a = (' '.join(a)).lower()\n",
    "#     print(a)\n",
    "#     print('\\n')\n",
    "    text = nltk.word_tokenize(a)\n",
    "#     print(text)\n",
    "    newset = set()\n",
    "    for word in text:\n",
    "#         print(word)\n",
    "        newset.add(word)\n",
    "#     print(newset)\n",
    "#     print('\\n\\n')\n",
    "    # Fill in found words\n",
    "    word_to_ix = { w:(i+4) for i,w in enumerate(sorted(newset)) }\n",
    "    ix_to_word = { (i+4):w for i,w in enumerate(sorted(newset)) }\n",
    "    # Fill in reserved values\n",
    "    ix_to_word[0] = \"<PAD>\"\n",
    "    ix_to_word[1] = \"<START>\"\n",
    "    ix_to_word[2] = \"<UNK>\"\n",
    "    ix_to_word[3] = \"<UNUSED>\"\n",
    "    word_to_ix[\"<PAD>\"] = 0 # Used to equalize text length\n",
    "    word_to_ix[\"<START>\"] = 1\n",
    "    word_to_ix[\"<UNK>\"] = 2  # unknown value\n",
    "    word_to_ix[\"<UNUSED>\"] = 3\n",
    "    return word_to_ix, ix_to_word\n",
    "# print(\"\\nLENGTH:\", length)"
   ]
  },
  {
   "cell_type": "code",
   "execution_count": 132,
   "metadata": {},
   "outputs": [],
   "source": [
    "word_to_ix, ix_to_word = bagofwords()\n",
    "# print(ix_to_word)\n",
    "# print('\\n')\n",
    "# print(word_to_ix)"
   ]
  },
  {
   "cell_type": "code",
   "execution_count": 143,
   "metadata": {},
   "outputs": [
    {
     "name": "stdout",
     "output_type": "stream",
     "text": [
      "afterward\n",
      "4591\n",
      "5392\n",
      "5392\n"
     ]
    }
   ],
   "source": [
    "print(ix_to_word[510])\n",
    "print(word_to_ix[\"straightforward\"]) # Ensure word is in dictionary\n",
    "print(len(ix_to_word))\n",
    "print(len(word_to_ix))\n",
    "# print(ix_to_word)"
   ]
  },
  {
   "cell_type": "code",
   "execution_count": 8,
   "metadata": {},
   "outputs": [
    {
     "name": "stdout",
     "output_type": "stream",
     "text": [
      "Update: 0\n"
     ]
    },
    {
     "name": "stderr",
     "output_type": "stream",
     "text": [
      "/Users/gabrielfinnrzingle/anaconda3/lib/python3.6/site-packages/ipykernel_launcher.py:14: SettingWithCopyWarning: \n",
      "A value is trying to be set on a copy of a slice from a DataFrame\n",
      "\n",
      "See the caveats in the documentation: http://pandas.pydata.org/pandas-docs/stable/indexing.html#indexing-view-versus-copy\n",
      "  \n"
     ]
    },
    {
     "name": "stdout",
     "output_type": "stream",
     "text": [
      "Update: 500\n",
      "Update: 1000\n",
      "Update: 1500\n",
      "Update: 2000\n",
      "Update: 2500\n",
      "Update: 3000\n",
      "Update: 3500\n",
      "Update: 4000\n",
      "Update: 4500\n",
      "Update: 5000\n",
      "Update: 5500\n",
      "Update: 6000\n",
      "Update: 6500\n",
      "Update: 7000\n"
     ]
    }
   ],
   "source": [
    "###################### Convert original data to number representations\n",
    "###################### WARNING: Conversion process is time consuming (multiple minutes)\n",
    "loop = 0\n",
    "for loop in range(num_data):\n",
    "    if (loop % 500 == 0):\n",
    "        print(\"Update:\", loop) # Check spot in converter\n",
    "    comment = df['comments'][loop]\n",
    "    comment = comment.lower()\n",
    "    text = nltk.word_tokenize(comment)\n",
    "    length = len(text)\n",
    "    for i in range(length):\n",
    "        text[i] = word_to_ix[text[i]]\n",
    "#         print(text[i]) \n",
    "#     print(text)\n",
    "    df['comments'][loop] = text"
   ]
  },
  {
   "cell_type": "code",
   "execution_count": 30,
   "metadata": {},
   "outputs": [
    {
     "name": "stdout",
     "output_type": "stream",
     "text": [
      "                                            Sentence  Label\n",
      "0  [4853, 760, 3247, 4916, 827, 3188, 2008, 405, ...      1\n",
      "1  [5005, 1618, 574, 811, 3559, 663, 1736, 2556, ...      1\n",
      "2  [4853, 4781, 2374, 2302, 398, 2299, 3320, 3347...      0\n",
      "3  [2738, 60, 2366, 2164, 3042, 4916, 2336, 5276,...      1\n",
      "4  [4866, 5169, 4879, 4834, 4853, 2759, 628, 3154...      0\n",
      "7272\n",
      "[4853, 760, 3247, 4916, 827, 3188, 2008, 405, 4853, 1026, 4866, 5306, 2993, 110, 2738, 2729, 2299, 4851, 4853, 4781, 1170, 4851, 4866, 5306, 5074, 4853, 5302, 4916, 3937, 4853, 1445, 1474, 4213, 85, 2464, 2653, 3347, 4565, 4853, 3634, 1026, 85, 4853, 4609, 3347, 4853, 1877, 5302, 5241, 2653, 3670, 110, 2477, 4870, 3364, 4853, 4781, 1691, 398, 869, 1510, 2700, 4853, 3733, 85, 4866, 5306, 827, 404, 4916, 3769, 4853, 3223, 3347, 4853, 1474, 4749, 4851, 5275, 1025, 3397, 3981, 110]\n"
     ]
    },
    {
     "name": "stderr",
     "output_type": "stream",
     "text": [
      "/Users/gabrielfinnrzingle/anaconda3/lib/python3.6/site-packages/ipykernel_launcher.py:7: SettingWithCopyWarning: \n",
      "A value is trying to be set on a copy of a slice from a DataFrame\n",
      "\n",
      "See the caveats in the documentation: http://pandas.pydata.org/pandas-docs/stable/indexing.html#indexing-view-versus-copy\n",
      "  import sys\n"
     ]
    },
    {
     "name": "stdout",
     "output_type": "stream",
     "text": [
      "\n",
      "\n",
      "4853, 760, 3247, 4916, 827, 3188, 2008, 405, 4853, 1026, 4866, 5306, 2993, 110, 2738, 2729, 2299, 4851, 4853, 4781, 1170, 4851, 4866, 5306, 5074, 4853, 5302, 4916, 3937, 4853, 1445, 1474, 4213, 85, 2464, 2653, 3347, 4565, 4853, 3634, 1026, 85, 4853, 4609, 3347, 4853, 1877, 5302, 5241, 2653, 3670, 110, 2477, 4870, 3364, 4853, 4781, 1691, 398, 869, 1510, 2700, 4853, 3733, 85, 4866, 5306, 827, 404, 4916, 3769, 4853, 3223, 3347, 4853, 1474, 4749, 4851, 5275, 1025, 3397, 3981, 110]\n"
     ]
    },
    {
     "ename": "TypeError",
     "evalue": "unsupported operand type(s) for -: 'str' and 'int'",
     "output_type": "error",
     "traceback": [
      "\u001b[0;31m---------------------------------------------------------------------------\u001b[0m",
      "\u001b[0;31mTypeError\u001b[0m                                 Traceback (most recent call last)",
      "\u001b[0;32m~/anaconda3/lib/python3.6/site-packages/pandas/core/ops.py\u001b[0m in \u001b[0;36mna_op\u001b[0;34m(x, y)\u001b[0m\n\u001b[1;32m    675\u001b[0m         \u001b[0;32mtry\u001b[0m\u001b[0;34m:\u001b[0m\u001b[0;34m\u001b[0m\u001b[0m\n\u001b[0;32m--> 676\u001b[0;31m             \u001b[0mresult\u001b[0m \u001b[0;34m=\u001b[0m \u001b[0mexpressions\u001b[0m\u001b[0;34m.\u001b[0m\u001b[0mevaluate\u001b[0m\u001b[0;34m(\u001b[0m\u001b[0mop\u001b[0m\u001b[0;34m,\u001b[0m \u001b[0mstr_rep\u001b[0m\u001b[0;34m,\u001b[0m \u001b[0mx\u001b[0m\u001b[0;34m,\u001b[0m \u001b[0my\u001b[0m\u001b[0;34m,\u001b[0m \u001b[0;34m**\u001b[0m\u001b[0meval_kwargs\u001b[0m\u001b[0;34m)\u001b[0m\u001b[0;34m\u001b[0m\u001b[0m\n\u001b[0m\u001b[1;32m    677\u001b[0m         \u001b[0;32mexcept\u001b[0m \u001b[0mTypeError\u001b[0m\u001b[0;34m:\u001b[0m\u001b[0;34m\u001b[0m\u001b[0m\n",
      "\u001b[0;32m~/anaconda3/lib/python3.6/site-packages/pandas/core/computation/expressions.py\u001b[0m in \u001b[0;36mevaluate\u001b[0;34m(op, op_str, a, b, use_numexpr, **eval_kwargs)\u001b[0m\n\u001b[1;32m    203\u001b[0m     \u001b[0;32mif\u001b[0m \u001b[0muse_numexpr\u001b[0m\u001b[0;34m:\u001b[0m\u001b[0;34m\u001b[0m\u001b[0m\n\u001b[0;32m--> 204\u001b[0;31m         \u001b[0;32mreturn\u001b[0m \u001b[0m_evaluate\u001b[0m\u001b[0;34m(\u001b[0m\u001b[0mop\u001b[0m\u001b[0;34m,\u001b[0m \u001b[0mop_str\u001b[0m\u001b[0;34m,\u001b[0m \u001b[0ma\u001b[0m\u001b[0;34m,\u001b[0m \u001b[0mb\u001b[0m\u001b[0;34m,\u001b[0m \u001b[0;34m**\u001b[0m\u001b[0meval_kwargs\u001b[0m\u001b[0;34m)\u001b[0m\u001b[0;34m\u001b[0m\u001b[0m\n\u001b[0m\u001b[1;32m    205\u001b[0m     \u001b[0;32mreturn\u001b[0m \u001b[0m_evaluate_standard\u001b[0m\u001b[0;34m(\u001b[0m\u001b[0mop\u001b[0m\u001b[0;34m,\u001b[0m \u001b[0mop_str\u001b[0m\u001b[0;34m,\u001b[0m \u001b[0ma\u001b[0m\u001b[0;34m,\u001b[0m \u001b[0mb\u001b[0m\u001b[0;34m)\u001b[0m\u001b[0;34m\u001b[0m\u001b[0m\n",
      "\u001b[0;32m~/anaconda3/lib/python3.6/site-packages/pandas/core/computation/expressions.py\u001b[0m in \u001b[0;36m_evaluate_numexpr\u001b[0;34m(op, op_str, a, b, truediv, reversed, **eval_kwargs)\u001b[0m\n\u001b[1;32m    118\u001b[0m     \u001b[0;32mif\u001b[0m \u001b[0mresult\u001b[0m \u001b[0;32mis\u001b[0m \u001b[0;32mNone\u001b[0m\u001b[0;34m:\u001b[0m\u001b[0;34m\u001b[0m\u001b[0m\n\u001b[0;32m--> 119\u001b[0;31m         \u001b[0mresult\u001b[0m \u001b[0;34m=\u001b[0m \u001b[0m_evaluate_standard\u001b[0m\u001b[0;34m(\u001b[0m\u001b[0mop\u001b[0m\u001b[0;34m,\u001b[0m \u001b[0mop_str\u001b[0m\u001b[0;34m,\u001b[0m \u001b[0ma\u001b[0m\u001b[0;34m,\u001b[0m \u001b[0mb\u001b[0m\u001b[0;34m)\u001b[0m\u001b[0;34m\u001b[0m\u001b[0m\n\u001b[0m\u001b[1;32m    120\u001b[0m \u001b[0;34m\u001b[0m\u001b[0m\n",
      "\u001b[0;32m~/anaconda3/lib/python3.6/site-packages/pandas/core/computation/expressions.py\u001b[0m in \u001b[0;36m_evaluate_standard\u001b[0;34m(op, op_str, a, b, **eval_kwargs)\u001b[0m\n\u001b[1;32m     63\u001b[0m     \u001b[0;32mwith\u001b[0m \u001b[0mnp\u001b[0m\u001b[0;34m.\u001b[0m\u001b[0merrstate\u001b[0m\u001b[0;34m(\u001b[0m\u001b[0mall\u001b[0m\u001b[0;34m=\u001b[0m\u001b[0;34m'ignore'\u001b[0m\u001b[0;34m)\u001b[0m\u001b[0;34m:\u001b[0m\u001b[0;34m\u001b[0m\u001b[0m\n\u001b[0;32m---> 64\u001b[0;31m         \u001b[0;32mreturn\u001b[0m \u001b[0mop\u001b[0m\u001b[0;34m(\u001b[0m\u001b[0ma\u001b[0m\u001b[0;34m,\u001b[0m \u001b[0mb\u001b[0m\u001b[0;34m)\u001b[0m\u001b[0;34m\u001b[0m\u001b[0m\n\u001b[0m\u001b[1;32m     65\u001b[0m \u001b[0;34m\u001b[0m\u001b[0m\n",
      "\u001b[0;31mTypeError\u001b[0m: unsupported operand type(s) for -: 'str' and 'int'",
      "\nDuring handling of the above exception, another exception occurred:\n",
      "\u001b[0;31mTypeError\u001b[0m                                 Traceback (most recent call last)",
      "\u001b[0;32m~/anaconda3/lib/python3.6/site-packages/pandas/core/ops.py\u001b[0m in \u001b[0;36msafe_na_op\u001b[0;34m(lvalues, rvalues)\u001b[0m\n\u001b[1;32m    699\u001b[0m             \u001b[0;32mwith\u001b[0m \u001b[0mnp\u001b[0m\u001b[0;34m.\u001b[0m\u001b[0merrstate\u001b[0m\u001b[0;34m(\u001b[0m\u001b[0mall\u001b[0m\u001b[0;34m=\u001b[0m\u001b[0;34m'ignore'\u001b[0m\u001b[0;34m)\u001b[0m\u001b[0;34m:\u001b[0m\u001b[0;34m\u001b[0m\u001b[0m\n\u001b[0;32m--> 700\u001b[0;31m                 \u001b[0;32mreturn\u001b[0m \u001b[0mna_op\u001b[0m\u001b[0;34m(\u001b[0m\u001b[0mlvalues\u001b[0m\u001b[0;34m,\u001b[0m \u001b[0mrvalues\u001b[0m\u001b[0;34m)\u001b[0m\u001b[0;34m\u001b[0m\u001b[0m\n\u001b[0m\u001b[1;32m    701\u001b[0m         \u001b[0;32mexcept\u001b[0m \u001b[0mException\u001b[0m\u001b[0;34m:\u001b[0m\u001b[0;34m\u001b[0m\u001b[0m\n",
      "\u001b[0;32m~/anaconda3/lib/python3.6/site-packages/pandas/core/ops.py\u001b[0m in \u001b[0;36mna_op\u001b[0;34m(x, y)\u001b[0m\n\u001b[1;32m    685\u001b[0m                 \u001b[0mmask\u001b[0m \u001b[0;34m=\u001b[0m \u001b[0mnotna\u001b[0m\u001b[0;34m(\u001b[0m\u001b[0mx\u001b[0m\u001b[0;34m)\u001b[0m\u001b[0;34m\u001b[0m\u001b[0m\n\u001b[0;32m--> 686\u001b[0;31m                 \u001b[0mresult\u001b[0m\u001b[0;34m[\u001b[0m\u001b[0mmask\u001b[0m\u001b[0;34m]\u001b[0m \u001b[0;34m=\u001b[0m \u001b[0mop\u001b[0m\u001b[0;34m(\u001b[0m\u001b[0mx\u001b[0m\u001b[0;34m[\u001b[0m\u001b[0mmask\u001b[0m\u001b[0;34m]\u001b[0m\u001b[0;34m,\u001b[0m \u001b[0my\u001b[0m\u001b[0;34m)\u001b[0m\u001b[0;34m\u001b[0m\u001b[0m\n\u001b[0m\u001b[1;32m    687\u001b[0m             \u001b[0;32melse\u001b[0m\u001b[0;34m:\u001b[0m\u001b[0;34m\u001b[0m\u001b[0m\n",
      "\u001b[0;31mTypeError\u001b[0m: unsupported operand type(s) for -: 'str' and 'int'",
      "\nDuring handling of the above exception, another exception occurred:\n",
      "\u001b[0;31mTypeError\u001b[0m                                 Traceback (most recent call last)",
      "\u001b[0;32m<ipython-input-30-8e702762ed79>\u001b[0m in \u001b[0;36m<module>\u001b[0;34m()\u001b[0m\n\u001b[1;32m      8\u001b[0m \u001b[0mprint\u001b[0m\u001b[0;34m(\u001b[0m\u001b[0;34m'\\n'\u001b[0m\u001b[0;34m)\u001b[0m\u001b[0;34m\u001b[0m\u001b[0m\n\u001b[1;32m      9\u001b[0m \u001b[0mprint\u001b[0m\u001b[0;34m(\u001b[0m\u001b[0mdf\u001b[0m\u001b[0;34m[\u001b[0m\u001b[0;34m\"Sentence\"\u001b[0m\u001b[0;34m]\u001b[0m\u001b[0;34m[\u001b[0m\u001b[0;36m0\u001b[0m\u001b[0;34m]\u001b[0m\u001b[0;34m)\u001b[0m\u001b[0;34m\u001b[0m\u001b[0m\n\u001b[0;32m---> 10\u001b[0;31m \u001b[0mdf\u001b[0m\u001b[0;34m[\u001b[0m\u001b[0;34m\"Sentence\"\u001b[0m\u001b[0;34m]\u001b[0m\u001b[0;34m[\u001b[0m\u001b[0;36m0\u001b[0m\u001b[0;34m]\u001b[0m \u001b[0;34m=\u001b[0m \u001b[0mdf\u001b[0m\u001b[0;34m[\u001b[0m\u001b[0;34m\"Sentence\"\u001b[0m\u001b[0;34m]\u001b[0m\u001b[0;34m[\u001b[0m\u001b[0;36m0\u001b[0m\u001b[0;34m]\u001b[0m\u001b[0;34m[\u001b[0m\u001b[0;34m:\u001b[0m\u001b[0mlen\u001b[0m\u001b[0;34m(\u001b[0m\u001b[0mdf\u001b[0m\u001b[0;34m[\u001b[0m\u001b[0;34m\"Sentence\"\u001b[0m\u001b[0;34m]\u001b[0m \u001b[0;34m-\u001b[0m \u001b[0;36m2\u001b[0m\u001b[0;34m)\u001b[0m\u001b[0;34m]\u001b[0m\u001b[0;34m\u001b[0m\u001b[0m\n\u001b[0m\u001b[1;32m     11\u001b[0m \u001b[0mprint\u001b[0m\u001b[0;34m(\u001b[0m\u001b[0;34m'\\n'\u001b[0m\u001b[0;34m)\u001b[0m\u001b[0;34m\u001b[0m\u001b[0m\n\u001b[1;32m     12\u001b[0m \u001b[0mprint\u001b[0m\u001b[0;34m(\u001b[0m\u001b[0mdf\u001b[0m\u001b[0;34m[\u001b[0m\u001b[0;34m\"Sentence\"\u001b[0m\u001b[0;34m]\u001b[0m\u001b[0;34m[\u001b[0m\u001b[0;36m0\u001b[0m\u001b[0;34m]\u001b[0m\u001b[0;34m)\u001b[0m\u001b[0;34m\u001b[0m\u001b[0m\n",
      "\u001b[0;32m~/anaconda3/lib/python3.6/site-packages/pandas/core/ops.py\u001b[0m in \u001b[0;36mwrapper\u001b[0;34m(left, right, name, na_op)\u001b[0m\n\u001b[1;32m    737\u001b[0m                 \u001b[0mlvalues\u001b[0m \u001b[0;34m=\u001b[0m \u001b[0mlvalues\u001b[0m\u001b[0;34m.\u001b[0m\u001b[0mvalues\u001b[0m\u001b[0;34m\u001b[0m\u001b[0m\n\u001b[1;32m    738\u001b[0m \u001b[0;34m\u001b[0m\u001b[0m\n\u001b[0;32m--> 739\u001b[0;31m         \u001b[0mresult\u001b[0m \u001b[0;34m=\u001b[0m \u001b[0mwrap_results\u001b[0m\u001b[0;34m(\u001b[0m\u001b[0msafe_na_op\u001b[0m\u001b[0;34m(\u001b[0m\u001b[0mlvalues\u001b[0m\u001b[0;34m,\u001b[0m \u001b[0mrvalues\u001b[0m\u001b[0;34m)\u001b[0m\u001b[0;34m)\u001b[0m\u001b[0;34m\u001b[0m\u001b[0m\n\u001b[0m\u001b[1;32m    740\u001b[0m         return construct_result(\n\u001b[1;32m    741\u001b[0m             \u001b[0mleft\u001b[0m\u001b[0;34m,\u001b[0m\u001b[0;34m\u001b[0m\u001b[0m\n",
      "\u001b[0;32m~/anaconda3/lib/python3.6/site-packages/pandas/core/ops.py\u001b[0m in \u001b[0;36msafe_na_op\u001b[0;34m(lvalues, rvalues)\u001b[0m\n\u001b[1;32m    708\u001b[0m                 \u001b[0;32mif\u001b[0m \u001b[0mis_object_dtype\u001b[0m\u001b[0;34m(\u001b[0m\u001b[0mlvalues\u001b[0m\u001b[0;34m)\u001b[0m\u001b[0;34m:\u001b[0m\u001b[0;34m\u001b[0m\u001b[0m\n\u001b[1;32m    709\u001b[0m                     return libalgos.arrmap_object(lvalues,\n\u001b[0;32m--> 710\u001b[0;31m                                                   lambda x: op(x, rvalues))\n\u001b[0m\u001b[1;32m    711\u001b[0m             \u001b[0;32mraise\u001b[0m\u001b[0;34m\u001b[0m\u001b[0m\n\u001b[1;32m    712\u001b[0m \u001b[0;34m\u001b[0m\u001b[0m\n",
      "\u001b[0;32mpandas/_libs/algos_common_helper.pxi\u001b[0m in \u001b[0;36mpandas._libs.algos.arrmap_object\u001b[0;34m()\u001b[0m\n",
      "\u001b[0;32m~/anaconda3/lib/python3.6/site-packages/pandas/core/ops.py\u001b[0m in \u001b[0;36m<lambda>\u001b[0;34m(x)\u001b[0m\n\u001b[1;32m    708\u001b[0m                 \u001b[0;32mif\u001b[0m \u001b[0mis_object_dtype\u001b[0m\u001b[0;34m(\u001b[0m\u001b[0mlvalues\u001b[0m\u001b[0;34m)\u001b[0m\u001b[0;34m:\u001b[0m\u001b[0;34m\u001b[0m\u001b[0m\n\u001b[1;32m    709\u001b[0m                     return libalgos.arrmap_object(lvalues,\n\u001b[0;32m--> 710\u001b[0;31m                                                   lambda x: op(x, rvalues))\n\u001b[0m\u001b[1;32m    711\u001b[0m             \u001b[0;32mraise\u001b[0m\u001b[0;34m\u001b[0m\u001b[0m\n\u001b[1;32m    712\u001b[0m \u001b[0;34m\u001b[0m\u001b[0m\n",
      "\u001b[0;31mTypeError\u001b[0m: unsupported operand type(s) for -: 'str' and 'int'"
     ]
    }
   ],
   "source": [
    "##################### Print out portions for testing\n",
    "df = pd.read_csv(\"suggestions_data_balanced_converted2.csv\", engine = 'python');\n",
    "df.fillna(0, inplace=True)\n",
    "print(df.head())\n",
    "print(len(df))\n",
    "print(df[\"Sentence\"][0])\n",
    "df[\"Sentence\"][0] = df[\"Sentence\"][0][1:]\n",
    "print('\\n')\n",
    "print(df[\"Sentence\"][0])\n",
    "df[\"Sentence\"][0] = df[\"Sentence\"][0][:len(df[\"Sentence\"] - 2)]\n",
    "print('\\n')\n",
    "print(df[\"Sentence\"][0])"
   ]
  },
  {
   "cell_type": "code",
   "execution_count": 127,
   "metadata": {},
   "outputs": [],
   "source": [
    "##################### Converted word to number data into a csv file to save time\n",
    "num_to_print = len(df)\n",
    "import csv\n",
    "# with open('suggestions_data_balanced_converted2.csv', 'w', newline = '') as f:\n",
    "#     writer = csv.writer(f)\n",
    "#     writer.writerow([\"Sentence\", \"Label\"])\n",
    "#     for i in range(num_to_print):\n",
    "#         sentence = traindata[i]\n",
    "#         sentence = [int(i) for i in sentence]\n",
    "#         label = df['Label'][i]\n",
    "#         if (df['Label'][i] == -1):\n",
    "#             label = 0\n",
    "#         writer.writerow([sentence, label])\n",
    "\n",
    "### (train_data, train_labels), (test_data, test_labels) Use this to get CSV form\n",
    "# print(train_data[0])\n",
    "# with open('imdb_move_reviews.csv', 'w', newline = '') as f:\n",
    "#     writer = csv.writer(f)\n",
    "#     writer.writerow([\"sent_train\", \"train_label\", \"sent_test\", \"test_label\"])\n",
    "#     for i in range(25000):\n",
    "#         sent_train = train_data[i]\n",
    "#         train_label = train_labels[i]\n",
    "#         sent_test = test_data[i]\n",
    "#         test_label = test_labels[i]\n",
    "#         writer.writerow([sent_train, train_label, sent_test, test_label])"
   ]
  },
  {
   "cell_type": "code",
   "execution_count": 416,
   "metadata": {},
   "outputs": [
    {
     "name": "stdout",
     "output_type": "stream",
     "text": [
      "the changes mentioned are pretty straightforward , more information on how their plan to make those changes are should be provided in the document . \n",
      "\n",
      "the images and visual aids explain the flow very well . there were no uml diagrams in the document though . \n",
      "\n",
      "although , the writeup explains the functionality very well , they have n't mentioned which design pattern they have used an why ? . \n",
      "\n",
      "no new tests have been added \n",
      "\n",
      "changes are very good , the author has proposed design patterns they will be used in the implementation , along with that method to calculate score has been explained elaborately \n",
      "\n",
      "the design appears to be sound , but i think more details are needed . \n",
      "\n",
      "1. the plan is sound and seems to be clearly explained bullet points \n",
      "\n",
      "the principles used to solving the problem are sound \n",
      "\n",
      "yes , the code is well written and follows the conventions of ruby design principles . \n",
      "\n",
      "code written following the coding standards \n",
      "\n"
     ]
    }
   ],
   "source": [
    "##################### Convert words back to check conversion \n",
    "# for i in range(num_data):\n",
    "#     comment = df['comments'][i]\n",
    "#     length = len(comment)\n",
    "#     count = 0;\n",
    "#     text = []\n",
    "#     for num in comment:\n",
    "#         text.append(ix_to_word[num])\n",
    "#         count += 1\n",
    "#     text = (' '.join(text))\n",
    "#     print(text,'\\n')"
   ]
  },
  {
   "cell_type": "code",
   "execution_count": 144,
   "metadata": {},
   "outputs": [],
   "source": [
    "############# Retrieve number converted data (saves time)\n",
    "df = pd.read_csv(\"suggestions_data_balanced_converted2.csv\", engine = 'python');"
   ]
  },
  {
   "cell_type": "code",
   "execution_count": 168,
   "metadata": {},
   "outputs": [],
   "source": [
    "############# Initialize training data\n",
    "num_train = int(num_data * 0.8) # df.head this amount\n",
    "num_test = int(num_data - num_train) # df.tail this amount\n",
    "# print(num_train)\n",
    "# print(num_test)\n",
    "# print(len(df), \"  \", num_train+num_test)\n",
    "# train_data = df['Sentence'].head(num_train)\n",
    "train_data = full_data[:num_train]\n",
    "# for i in range(8):\n",
    "#     print(train_data[i])"
   ]
  },
  {
   "cell_type": "code",
   "execution_count": 169,
   "metadata": {},
   "outputs": [],
   "source": [
    "############# Initialize testing data **(requires full dataset conversion for tail() to work)**\n",
    "# print(df['comments'].tail(2))\n",
    "# test_data = df['Sentence'].tail(num_test)\n",
    "test_data = full_data[num_train:]\n",
    "# test_data = df['comments'].head(4) #### Remove later (PLACEHOLDER STATEMENT)\n",
    "# for i in range(2):\n",
    "#     print(test_data[i])"
   ]
  },
  {
   "cell_type": "code",
   "execution_count": 147,
   "metadata": {},
   "outputs": [],
   "source": [
    "############ Function enabling conversion of indexed number sentence into word sentence\n",
    "def decode_review(text):\n",
    "#     return ' '.join([reverse_word_index.get(i, '?') for i in text])\n",
    "    return ' '.join([ix_to_word[i] for i in text])"
   ]
  },
  {
   "cell_type": "code",
   "execution_count": 170,
   "metadata": {},
   "outputs": [
    {
     "name": "stdout",
     "output_type": "stream",
     "text": [
      "they very thoroughly tested the job applications model and controller . there were tests for the admin user but i could n't replicate them on the actual website so either the tests did n't pass or the user given in the readme was n't an\n"
     ]
    }
   ],
   "source": [
    "print(decode_review(train_data[4]))"
   ]
  },
  {
   "cell_type": "code",
   "execution_count": 172,
   "metadata": {},
   "outputs": [
    {
     "name": "stdout",
     "output_type": "stream",
     "text": [
      "Full: 341\n"
     ]
    }
   ],
   "source": [
    "############# Find the maximum sentence length to use for padding training data\n",
    "maxlength = 0\n",
    "for array in range(len(full_data)):\n",
    "#     maxlength = max(len(array),maxlength)\n",
    "    maxlength = max(len(full_data[array]), maxlength)\n",
    "print(\"Full:\", maxlength)\n",
    "# for array in range(len(test_data)):\n",
    "# #     maxlength = max(len(array),maxlength)\n",
    "#     maxlength = max(len(test_data[array + 5817]), maxlength)\n",
    "# print(\"Test:\", maxlength)"
   ]
  },
  {
   "cell_type": "code",
   "execution_count": 176,
   "metadata": {},
   "outputs": [
    {
     "name": "stdout",
     "output_type": "stream",
     "text": [
      "[4853, 2004, 5275, 398, 2919, 2366, 4916, 2155, 737, 4907, 110, 2464, 85, 3190, 3347, 4853, 4901, 85, 2477, 5031, 4853, 1026, 4851, 5345, 3247, 4916, 827, 2980, 4916, 4853, 2115, 3470, 3347, 4853, 3733, 110, 474, 398, 2907, 4916, 3260, 4938, 4453, 4851, 398, 3861, 971, 2380, 4853, 1023, 4916, 2861, 3188, 2500, 4866, 663, 1265, 5306, 827, 855, 4916, 4876]\n"
     ]
    }
   ],
   "source": [
    "for array in train_data:\n",
    "    print(train_data[5816])\n",
    "    break"
   ]
  },
  {
   "cell_type": "code",
   "execution_count": 227,
   "metadata": {},
   "outputs": [
    {
     "ename": "AttributeError",
     "evalue": "'list' object has no attribute 'split'",
     "output_type": "error",
     "traceback": [
      "\u001b[0;31m---------------------------------------------------------------------------\u001b[0m",
      "\u001b[0;31mAttributeError\u001b[0m                            Traceback (most recent call last)",
      "\u001b[0;32m<ipython-input-227-c57a6dc51d31>\u001b[0m in \u001b[0;36m<module>\u001b[0;34m()\u001b[0m\n\u001b[1;32m      2\u001b[0m \u001b[0;31m#     train_data[i+1] = train_data[i+1].split(\",\")\u001b[0m\u001b[0;34m\u001b[0m\u001b[0;34m\u001b[0m\u001b[0m\n\u001b[1;32m      3\u001b[0m \u001b[0;32mfor\u001b[0m \u001b[0mi\u001b[0m \u001b[0;32min\u001b[0m \u001b[0mrange\u001b[0m \u001b[0;34m(\u001b[0m\u001b[0mnum_test\u001b[0m\u001b[0;34m)\u001b[0m\u001b[0;34m:\u001b[0m\u001b[0;34m\u001b[0m\u001b[0m\n\u001b[0;32m----> 4\u001b[0;31m     \u001b[0mtest_data\u001b[0m\u001b[0;34m[\u001b[0m\u001b[0mi\u001b[0m \u001b[0;34m+\u001b[0m \u001b[0;36m5817\u001b[0m\u001b[0;34m]\u001b[0m \u001b[0;34m=\u001b[0m \u001b[0mtest_data\u001b[0m\u001b[0;34m[\u001b[0m\u001b[0mi\u001b[0m \u001b[0;34m+\u001b[0m \u001b[0;36m5817\u001b[0m\u001b[0;34m]\u001b[0m\u001b[0;34m.\u001b[0m\u001b[0msplit\u001b[0m\u001b[0;34m(\u001b[0m\u001b[0;34m\",\"\u001b[0m\u001b[0;34m)\u001b[0m\u001b[0;34m\u001b[0m\u001b[0m\n\u001b[0m",
      "\u001b[0;31mAttributeError\u001b[0m: 'list' object has no attribute 'split'"
     ]
    }
   ],
   "source": [
    "# for i in range (num_train):\n",
    "#     train_data[i+1] = train_data[i+1].split(\",\")\n",
    "for i in range (num_test):\n",
    "    test_data[i + 5817] = test_data[i + 5817].split(\",\")"
   ]
  },
  {
   "cell_type": "code",
   "execution_count": 177,
   "metadata": {},
   "outputs": [
    {
     "name": "stdout",
     "output_type": "stream",
     "text": [
      "341\n",
      "[4853, 760, 3247, 4916, 827, 3188, 2008, 405, 4853, 1026, 4866, 5306, 2993, 110, 2738, 2729, 2299, 4851, 4853, 4781, 1170, 4851, 4866, 5306, 5074, 4853, 5302, 4916, 3937, 4853, 1445, 1474, 4213, 85, 2464, 2653, 3347, 4565, 4853, 3634, 1026, 85, 4853, 4609, 3347, 4853, 1877, 5302, 5241, 2653, 3670, 110, 2477, 4870, 3364, 4853, 4781, 1691, 398, 869, 1510, 2700, 4853, 3733, 85, 4866, 5306, 827, 404, 4916, 3769, 4853, 3223, 3347, 4853, 1474, 4749, 4851, 5275, 1025, 3397]\n",
      "1\n",
      "1\n",
      "0\n",
      "1\n",
      "0\n",
      "0\n",
      "1\n",
      "0\n",
      "1\n",
      "0\n"
     ]
    }
   ],
   "source": [
    "############# Initialize training and test labels\n",
    "train_labels = df['Label'].head(num_train) # is_prompt_exists\n",
    "test_labels = df['Label'].tail(num_test)\n",
    "print(maxlength)\n",
    "print(train_data[0])\n",
    "for i in range(10):\n",
    "    print(train_labels[i])"
   ]
  },
  {
   "cell_type": "code",
   "execution_count": 28,
   "metadata": {},
   "outputs": [
    {
     "name": "stdout",
     "output_type": "stream",
     "text": [
      "[   1  194 1153  194 8255   78  228    5    6 1463 4369 5012  134   26\n",
      "    4  715    8  118 1634   14  394   20   13  119  954  189  102    5\n",
      "  207  110 3103   21   14   69  188    8   30   23    7    4  249  126\n",
      "   93    4  114    9 2300 1523    5  647    4  116    9   35 8163    4\n",
      "  229    9  340 1322    4  118    9    4  130 4901   19    4 1002    5\n",
      "   89   29  952   46   37    4  455    9   45   43   38 1543 1905  398\n",
      "    4 1649   26 6853    5  163   11 3215    2    4 1153    9  194  775\n",
      "    7 8255    2  349 2637  148  605    2 8003   15  123  125   68    2\n",
      " 6853   15  349  165 4362   98    5    4  228    9   43    2 1157   15\n",
      "  299  120    5  120  174   11  220  175  136   50    9 4373  228 8255\n",
      "    5    2  656  245 2350    5    4 9837  131  152  491   18    2   32\n",
      " 7464 1212   14    9    6  371   78   22  625   64 1382    9    8  168\n",
      "  145   23    4 1690   15   16    4 1355    5   28    6   52  154  462\n",
      "   33   89   78  285   16  145   95    0    0    0    0    0    0    0\n",
      "    0    0    0    0    0    0    0    0    0    0    0    0    0    0\n",
      "    0    0    0    0    0    0    0    0    0    0    0    0    0    0\n",
      "    0    0    0    0    0    0    0    0    0    0    0    0    0    0\n",
      "    0    0    0    0    0    0    0    0    0    0    0    0    0    0\n",
      "    0    0    0    0]\n",
      "\n",
      "\n",
      "[5005\n",
      "5005\n"
     ]
    }
   ],
   "source": [
    "print(train_data[1])\n",
    "# newstr = train_data[1:]\n",
    "print('\\n')\n",
    "newstr = \"[5005\"\n",
    "print(newstr)\n",
    "newstr = newstr[1:]\n",
    "print(newstr)\n",
    "# results = map(int, train_data[1])\n",
    "# results = list(map(int, train_data[1]))\n",
    "# print(results)"
   ]
  },
  {
   "cell_type": "code",
   "execution_count": 167,
   "metadata": {},
   "outputs": [
    {
     "name": "stdout",
     "output_type": "stream",
     "text": [
      "4853 \n",
      "\n"
     ]
    }
   ],
   "source": [
    "# df = pd.read_csv(\"suggestions_data_balanced_converted.csv\", engine = 'python');\n",
    "# df.fillna(0, inplace=True)\n",
    "# print(df['Sentence'][0], '\\n')\n",
    "# splittest = (' '.join(df['Sentence'][0]))\n",
    "# print(splittest)\n",
    "traindata = []\n",
    "for dat in df['Sentence']:\n",
    "    paragraph = []\n",
    "    sentence = []\n",
    "    for letter in dat:\n",
    "        if (letter == '[' or letter == ']' or letter == ' '):\n",
    "            continue\n",
    "        elif (letter == ','):\n",
    "            sentence = (''.join(sentence))\n",
    "            paragraph.append(sentence)\n",
    "    #         print(sentence)\n",
    "            sentence = []\n",
    "        else:\n",
    "            sentence.append(letter)\n",
    "#     paragraph = (' '.join(paragraph))\n",
    "    paragraph = [int(i) for i in paragraph]\n",
    "    traindata.append(paragraph)\n",
    "# print(paragraph, '\\n')\n",
    "print(traindata[0][0], '\\n')\n",
    "full_data = traindata\n",
    "# print(train_data[0])"
   ]
  },
  {
   "cell_type": "code",
   "execution_count": 178,
   "metadata": {},
   "outputs": [],
   "source": [
    "############# Pad the words to equalize array length\n",
    "# For non IMDB dataset, used maxlength for maxlen instead of 256\n",
    "train_data = keras.preprocessing.sequence.pad_sequences(train_data,\n",
    "                                                       value=word_to_ix[\"<PAD>\"],\n",
    "                                                       padding='post',\n",
    "                                                       maxlen=maxlength)\n",
    "\n",
    "test_data = keras.preprocessing.sequence.pad_sequences(test_data,\n",
    "                                                      value=word_to_ix[\"<PAD>\"],\n",
    "                                                      padding='post',\n",
    "                                                      maxlen=maxlength)\n",
    "\n",
    "# train_data = keras.preprocessing.sequence.pad_sequences(train_data,\n",
    "#                                                        value=word_index[\"<PAD>\"],\n",
    "#                                                        padding='post',\n",
    "#                                                        maxlen=256)\n",
    "\n",
    "# test_data = keras.preprocessing.sequence.pad_sequences(test_data,\n",
    "#                                                       value=word_index[\"<PAD>\"],\n",
    "#                                                       padding='post',\n",
    "#                                                       maxlen=256)"
   ]
  },
  {
   "cell_type": "code",
   "execution_count": 179,
   "metadata": {},
   "outputs": [
    {
     "data": {
      "text/plain": [
       "(341, 341)"
      ]
     },
     "execution_count": 179,
     "metadata": {},
     "output_type": "execute_result"
    }
   ],
   "source": [
    "len(train_data[0]), len(train_data[1]) # Check the new length of some train data"
   ]
  },
  {
   "cell_type": "code",
   "execution_count": 180,
   "metadata": {},
   "outputs": [
    {
     "name": "stdout",
     "output_type": "stream",
     "text": [
      "[4853  760 3247 4916  827 3188 2008  405 4853 1026 4866 5306 2993  110\n",
      " 2738 2729 2299 4851 4853 4781 1170 4851 4866 5306 5074 4853 5302 4916\n",
      " 3937 4853 1445 1474 4213   85 2464 2653 3347 4565 4853 3634 1026   85\n",
      " 4853 4609 3347 4853 1877 5302 5241 2653 3670  110 2477 4870 3364 4853\n",
      " 4781 1691  398  869 1510 2700 4853 3733   85 4866 5306  827  404 4916\n",
      " 3769 4853 3223 3347 4853 1474 4749 4851 5275 1025 3397    0    0    0\n",
      "    0    0    0    0    0    0    0    0    0    0    0    0    0    0\n",
      "    0    0    0    0    0    0    0    0    0    0    0    0    0    0\n",
      "    0    0    0    0    0    0    0    0    0    0    0    0    0    0\n",
      "    0    0    0    0    0    0    0    0    0    0    0    0    0    0\n",
      "    0    0    0    0    0    0    0    0    0    0    0    0    0    0\n",
      "    0    0    0    0    0    0    0    0    0    0    0    0    0    0\n",
      "    0    0    0    0    0    0    0    0    0    0    0    0    0    0\n",
      "    0    0    0    0    0    0    0    0    0    0    0    0    0    0\n",
      "    0    0    0    0    0    0    0    0    0    0    0    0    0    0\n",
      "    0    0    0    0    0    0    0    0    0    0    0    0    0    0\n",
      "    0    0    0    0    0    0    0    0    0    0    0    0    0    0\n",
      "    0    0    0    0    0    0    0    0    0    0    0    0    0    0\n",
      "    0    0    0    0    0    0    0    0    0    0    0    0    0    0\n",
      "    0    0    0    0    0    0    0    0    0    0    0    0    0    0\n",
      "    0    0    0    0    0    0    0    0    0    0    0    0    0    0\n",
      "    0    0    0    0    0    0    0    0    0    0    0    0    0    0\n",
      "    0    0    0    0    0    0    0    0    0    0    0    0    0    0\n",
      "    0    0    0    0    0    0    0    0    0    0    0    0    0    0\n",
      "    0    0    0    0    0]\n"
     ]
    }
   ],
   "source": [
    "print(train_data[0]) # Check new padded number sentences"
   ]
  },
  {
   "cell_type": "code",
   "execution_count": 182,
   "metadata": {},
   "outputs": [
    {
     "name": "stdout",
     "output_type": "stream",
     "text": [
      "_________________________________________________________________\n",
      "Layer (type)                 Output Shape              Param #   \n",
      "=================================================================\n",
      "embedding_3 (Embedding)      (None, None, 16)          116352    \n",
      "_________________________________________________________________\n",
      "global_average_pooling1d_3 ( (None, 16)                0         \n",
      "_________________________________________________________________\n",
      "dense_5 (Dense)              (None, 16)                272       \n",
      "_________________________________________________________________\n",
      "dense_6 (Dense)              (None, 1)                 17        \n",
      "=================================================================\n",
      "Total params: 116,641\n",
      "Trainable params: 116,641\n",
      "Non-trainable params: 0\n",
      "_________________________________________________________________\n"
     ]
    }
   ],
   "source": [
    "############# Creates the model\n",
    "vocab_size = num_data # suggestions_data_balanced.csv dataset length becomes input shape: 7272\n",
    "# vocab_size = 10000 # For IMDB Dataset\n",
    "\n",
    "model = keras.Sequential()\n",
    "model.add(keras.layers.Embedding(vocab_size, 16))\n",
    "model.add(keras.layers.GlobalAveragePooling1D())\n",
    "model.add(keras.layers.Dense(16, activation=tf.nn.relu))\n",
    "model.add(keras.layers.Dense(1, activation=tf.nn.sigmoid))\n",
    "\n",
    "model.summary()"
   ]
  },
  {
   "cell_type": "code",
   "execution_count": 183,
   "metadata": {},
   "outputs": [],
   "source": [
    "############ Configured model with optimizer and loss function\n",
    "model.compile(optimizer = tf.train.AdamOptimizer(),\n",
    "             loss = 'binary_crossentropy',\n",
    "             metrics=['accuracy'])"
   ]
  },
  {
   "cell_type": "code",
   "execution_count": 185,
   "metadata": {},
   "outputs": [],
   "source": [
    "########### Initiate validation sets\n",
    "# Note -> vocab_size = len(df)\n",
    "val_size = int(num_train * 0.8) # Set apart 20% of train data for validation\n",
    "\n",
    "x_val = train_data[:num_train-val_size]\n",
    "partial_x_train = train_data[num_train-val_size:]\n",
    "\n",
    "y_val = train_labels[:num_train-val_size]\n",
    "partial_y_train = train_labels[num_train-val_size:]\n",
    "\n",
    "#### Below is for IMDB Dataset\n",
    "# x_val = train_data[:10000]\n",
    "# partial_x_train = train_data[10000:]\n",
    "\n",
    "# y_val = train_labels[:10000]\n",
    "# partial_y_train = train_labels[10000:]"
   ]
  },
  {
   "cell_type": "code",
   "execution_count": 186,
   "metadata": {},
   "outputs": [
    {
     "name": "stdout",
     "output_type": "stream",
     "text": [
      "1164\n",
      "4653\n",
      "[4853  760 3247 4916  827 3188 2008  405 4853 1026 4866 5306 2993  110\n",
      " 2738 2729 2299 4851 4853 4781 1170 4851 4866 5306 5074 4853 5302 4916\n",
      " 3937 4853 1445 1474 4213   85 2464 2653 3347 4565 4853 3634 1026   85\n",
      " 4853 4609 3347 4853 1877 5302 5241 2653 3670  110 2477 4870 3364 4853\n",
      " 4781 1691  398  869 1510 2700 4853 3733   85 4866 5306  827  404 4916\n",
      " 3769 4853 3223 3347 4853 1474 4749 4851 5275 1025 3397    0    0    0\n",
      "    0    0    0    0    0    0    0    0    0    0    0    0    0    0\n",
      "    0    0    0    0    0    0    0    0    0    0    0    0    0    0\n",
      "    0    0    0    0    0    0    0    0    0    0    0    0    0    0\n",
      "    0    0    0    0    0    0    0    0    0    0    0    0    0    0\n",
      "    0    0    0    0    0    0    0    0    0    0    0    0    0    0\n",
      "    0    0    0    0    0    0    0    0    0    0    0    0    0    0\n",
      "    0    0    0    0    0    0    0    0    0    0    0    0    0    0\n",
      "    0    0    0    0    0    0    0    0    0    0    0    0    0    0\n",
      "    0    0    0    0    0    0    0    0    0    0    0    0    0    0\n",
      "    0    0    0    0    0    0    0    0    0    0    0    0    0    0\n",
      "    0    0    0    0    0    0    0    0    0    0    0    0    0    0\n",
      "    0    0    0    0    0    0    0    0    0    0    0    0    0    0\n",
      "    0    0    0    0    0    0    0    0    0    0    0    0    0    0\n",
      "    0    0    0    0    0    0    0    0    0    0    0    0    0    0\n",
      "    0    0    0    0    0    0    0    0    0    0    0    0    0    0\n",
      "    0    0    0    0    0    0    0    0    0    0    0    0    0    0\n",
      "    0    0    0    0    0    0    0    0    0    0    0    0    0    0\n",
      "    0    0    0    0    0    0    0    0    0    0    0    0    0    0\n",
      "    0    0    0    0    0]\n"
     ]
    }
   ],
   "source": [
    "# print(x_val[0])\n",
    "# print(partial_x_train[0])\n",
    "# print(len(train_data))\n",
    "# print(len(x_val))\n",
    "# print(len(partial_x_train))\n",
    "\n",
    "print(len(x_val))\n",
    "print(len(partial_x_train))\n",
    "print(x_val[0])"
   ]
  },
  {
   "cell_type": "code",
   "execution_count": 187,
   "metadata": {},
   "outputs": [
    {
     "name": "stdout",
     "output_type": "stream",
     "text": [
      "Train on 4653 samples, validate on 1164 samples\n",
      "Epoch 1/40\n",
      "4653/4653 [==============================] - 1s 128us/step - loss: 0.6925 - acc: 0.5216 - val_loss: 0.6921 - val_acc: 0.5507\n",
      "Epoch 2/40\n",
      "4653/4653 [==============================] - 0s 23us/step - loss: 0.6916 - acc: 0.6389 - val_loss: 0.6913 - val_acc: 0.6658\n",
      "Epoch 3/40\n",
      "4653/4653 [==============================] - 0s 23us/step - loss: 0.6903 - acc: 0.6875 - val_loss: 0.6899 - val_acc: 0.6632\n",
      "Epoch 4/40\n",
      "4653/4653 [==============================] - 0s 23us/step - loss: 0.6883 - acc: 0.6828 - val_loss: 0.6879 - val_acc: 0.6796\n",
      "Epoch 5/40\n",
      "4653/4653 [==============================] - 0s 23us/step - loss: 0.6858 - acc: 0.6834 - val_loss: 0.6857 - val_acc: 0.6787\n",
      "Epoch 6/40\n",
      "4653/4653 [==============================] - 0s 23us/step - loss: 0.6830 - acc: 0.6871 - val_loss: 0.6831 - val_acc: 0.6684\n",
      "Epoch 7/40\n",
      "4653/4653 [==============================] - 0s 24us/step - loss: 0.6795 - acc: 0.6910 - val_loss: 0.6801 - val_acc: 0.6701\n",
      "Epoch 8/40\n",
      "4653/4653 [==============================] - 0s 23us/step - loss: 0.6759 - acc: 0.6847 - val_loss: 0.6767 - val_acc: 0.6813\n",
      "Epoch 9/40\n",
      "4653/4653 [==============================] - 0s 23us/step - loss: 0.6711 - acc: 0.6963 - val_loss: 0.6724 - val_acc: 0.6684\n",
      "Epoch 10/40\n",
      "4653/4653 [==============================] - 0s 23us/step - loss: 0.6659 - acc: 0.6985 - val_loss: 0.6678 - val_acc: 0.6684\n",
      "Epoch 11/40\n",
      "4653/4653 [==============================] - 0s 23us/step - loss: 0.6599 - acc: 0.6961 - val_loss: 0.6624 - val_acc: 0.6684\n",
      "Epoch 12/40\n",
      "4653/4653 [==============================] - 0s 23us/step - loss: 0.6532 - acc: 0.6959 - val_loss: 0.6566 - val_acc: 0.6684\n",
      "Epoch 13/40\n",
      "4653/4653 [==============================] - 0s 24us/step - loss: 0.6464 - acc: 0.6927 - val_loss: 0.6509 - val_acc: 0.6624\n",
      "Epoch 14/40\n",
      "4653/4653 [==============================] - 0s 23us/step - loss: 0.6396 - acc: 0.6987 - val_loss: 0.6449 - val_acc: 0.6667\n",
      "Epoch 15/40\n",
      "4653/4653 [==============================] - 0s 24us/step - loss: 0.6324 - acc: 0.6918 - val_loss: 0.6392 - val_acc: 0.6667\n",
      "Epoch 16/40\n",
      "4653/4653 [==============================] - 0s 25us/step - loss: 0.6249 - acc: 0.7006 - val_loss: 0.6337 - val_acc: 0.6710\n",
      "Epoch 17/40\n",
      "4653/4653 [==============================] - 0s 23us/step - loss: 0.6182 - acc: 0.6937 - val_loss: 0.6280 - val_acc: 0.6658\n",
      "Epoch 18/40\n",
      "4653/4653 [==============================] - 0s 23us/step - loss: 0.6113 - acc: 0.7004 - val_loss: 0.6233 - val_acc: 0.6753\n",
      "Epoch 19/40\n",
      "4653/4653 [==============================] - 0s 24us/step - loss: 0.6056 - acc: 0.7056 - val_loss: 0.6184 - val_acc: 0.6753\n",
      "Epoch 20/40\n",
      "4653/4653 [==============================] - 0s 23us/step - loss: 0.5997 - acc: 0.6995 - val_loss: 0.6144 - val_acc: 0.6692\n",
      "Epoch 21/40\n",
      "4653/4653 [==============================] - 0s 23us/step - loss: 0.5946 - acc: 0.7051 - val_loss: 0.6107 - val_acc: 0.6701\n",
      "Epoch 22/40\n",
      "4653/4653 [==============================] - 0s 24us/step - loss: 0.5903 - acc: 0.7000 - val_loss: 0.6075 - val_acc: 0.6710\n",
      "Epoch 23/40\n",
      "4653/4653 [==============================] - 0s 26us/step - loss: 0.5859 - acc: 0.7069 - val_loss: 0.6047 - val_acc: 0.6735\n",
      "Epoch 24/40\n",
      "4653/4653 [==============================] - 0s 23us/step - loss: 0.5826 - acc: 0.7017 - val_loss: 0.6026 - val_acc: 0.6692\n",
      "Epoch 25/40\n",
      "4653/4653 [==============================] - 0s 24us/step - loss: 0.5782 - acc: 0.7075 - val_loss: 0.6006 - val_acc: 0.6804\n",
      "Epoch 26/40\n",
      "4653/4653 [==============================] - 0s 27us/step - loss: 0.5753 - acc: 0.7054 - val_loss: 0.5986 - val_acc: 0.6718\n",
      "Epoch 27/40\n",
      "4653/4653 [==============================] - 0s 28us/step - loss: 0.5729 - acc: 0.7118 - val_loss: 0.5970 - val_acc: 0.6761\n",
      "Epoch 28/40\n",
      "4653/4653 [==============================] - 0s 27us/step - loss: 0.5698 - acc: 0.7081 - val_loss: 0.5956 - val_acc: 0.6735\n",
      "Epoch 29/40\n",
      "4653/4653 [==============================] - 0s 28us/step - loss: 0.5684 - acc: 0.7081 - val_loss: 0.5940 - val_acc: 0.6804\n",
      "Epoch 30/40\n",
      "4653/4653 [==============================] - 0s 28us/step - loss: 0.5665 - acc: 0.7159 - val_loss: 0.5930 - val_acc: 0.6787\n",
      "Epoch 31/40\n",
      "4653/4653 [==============================] - 0s 27us/step - loss: 0.5637 - acc: 0.7124 - val_loss: 0.5927 - val_acc: 0.6796\n",
      "Epoch 32/40\n",
      "4653/4653 [==============================] - 0s 26us/step - loss: 0.5611 - acc: 0.7118 - val_loss: 0.5907 - val_acc: 0.6830\n",
      "Epoch 33/40\n",
      "4653/4653 [==============================] - 0s 26us/step - loss: 0.5595 - acc: 0.7217 - val_loss: 0.5897 - val_acc: 0.6847\n",
      "Epoch 34/40\n",
      "4653/4653 [==============================] - 0s 23us/step - loss: 0.5564 - acc: 0.7172 - val_loss: 0.5887 - val_acc: 0.6830\n",
      "Epoch 35/40\n",
      "4653/4653 [==============================] - 0s 25us/step - loss: 0.5548 - acc: 0.7228 - val_loss: 0.5873 - val_acc: 0.6856\n",
      "Epoch 36/40\n",
      "4653/4653 [==============================] - 0s 24us/step - loss: 0.5528 - acc: 0.7202 - val_loss: 0.5864 - val_acc: 0.6856\n",
      "Epoch 37/40\n",
      "4653/4653 [==============================] - 0s 25us/step - loss: 0.5505 - acc: 0.7219 - val_loss: 0.5851 - val_acc: 0.6881\n",
      "Epoch 38/40\n",
      "4653/4653 [==============================] - 0s 25us/step - loss: 0.5480 - acc: 0.7262 - val_loss: 0.5840 - val_acc: 0.6924\n",
      "Epoch 39/40\n",
      "4653/4653 [==============================] - 0s 23us/step - loss: 0.5475 - acc: 0.7210 - val_loss: 0.5830 - val_acc: 0.6890\n",
      "Epoch 40/40\n",
      "4653/4653 [==============================] - 0s 23us/step - loss: 0.5441 - acc: 0.7316 - val_loss: 0.5823 - val_acc: 0.7002\n"
     ]
    }
   ],
   "source": [
    "############ Trains the model\n",
    "# history = model.fit(partial_x_train,\n",
    "#                    partial_y_train,\n",
    "#                    epochs=20,\n",
    "#                    batch_size=256,\n",
    "#                    validation_data=(x_val, y_val),\n",
    "#                    verbose=1)\n",
    "#### Below is for IMDB Dataset\n",
    "history = model.fit(partial_x_train,\n",
    "                   partial_y_train,\n",
    "                   epochs=40,\n",
    "                   batch_size=512,\n",
    "                   validation_data=(x_val, y_val),\n",
    "                   verbose=1)"
   ]
  },
  {
   "cell_type": "code",
   "execution_count": 188,
   "metadata": {},
   "outputs": [
    {
     "name": "stdout",
     "output_type": "stream",
     "text": [
      "1455/1455 [==============================] - 0s 21us/step\n",
      "[0.573122971492125, 0.7154639177306001]\n"
     ]
    }
   ],
   "source": [
    "########### Evaluate the model\n",
    "results = model.evaluate(test_data, test_labels)\n",
    "\n",
    "print(results)"
   ]
  },
  {
   "cell_type": "code",
   "execution_count": 251,
   "metadata": {},
   "outputs": [
    {
     "data": {
      "text/plain": [
       "dict_keys(['val_loss', 'val_acc', 'loss', 'acc'])"
      ]
     },
     "execution_count": 251,
     "metadata": {},
     "output_type": "execute_result"
    }
   ],
   "source": [
    "########### Graph the data\n",
    "history_dict = history.history\n",
    "history_dict.keys()"
   ]
  },
  {
   "cell_type": "code",
   "execution_count": 252,
   "metadata": {},
   "outputs": [
    {
     "data": {
      "image/png": "[encoded data removed]",
      "text/plain": [
       "<Figure size 432x288 with 1 Axes>"
      ]
     },
     "metadata": {},
     "output_type": "display_data"
    }
   ],
   "source": [
    "import matplotlib.pyplot as plt\n",
    "\n",
    "acc = history.history['acc']\n",
    "val_acc = history.history['val_acc']\n",
    "loss = history.history['loss']\n",
    "val_loss = history.history['val_loss']\n",
    "\n",
    "epochs = range(1, len(acc) + 1)\n",
    "\n",
    "# \"bo\" is for \"blue dot\"\n",
    "plt.plot(epochs, loss, 'bo', label='Training loss')\n",
    "# b is for \"solid blue line\"\n",
    "plt.plot(epochs, val_loss, 'b', label='Validation loss')\n",
    "plt.title('Training and validation loss')\n",
    "plt.xlabel('Epochs')\n",
    "plt.ylabel('Loss')\n",
    "plt.legend()\n",
    "\n",
    "plt.show()"
   ]
  },
  {
   "cell_type": "code",
   "execution_count": 253,
   "metadata": {},
   "outputs": [
    {
     "data": {
      "image/png": "[encoded data removed]",
      "text/plain": [
       "<Figure size 432x288 with 1 Axes>"
      ]
     },
     "metadata": {},
     "output_type": "display_data"
    }
   ],
   "source": [
    "plt.clf()   # clear figure\n",
    "acc_values = history_dict['acc']\n",
    "val_acc_values = history_dict['val_acc']\n",
    "\n",
    "plt.plot(epochs, acc, 'bo', label='Training acc')\n",
    "plt.plot(epochs, val_acc, 'b', label='Validation acc')\n",
    "plt.title('Training and validation accuracy')\n",
    "plt.xlabel('Epochs')\n",
    "plt.ylabel('Accuracy')\n",
    "plt.legend()\n",
    "\n",
    "plt.show()"
   ]
  },
  {
   "cell_type": "markdown",
   "metadata": {},
   "source": [
    "#@title MIT License\n",
    "'#\n",
    "'# Copyright (c) 2017 François Chollet\n",
    "'#\n",
    "'# Permission is hereby granted, free of charge, to any person obtaining a\n",
    "'# copy of this software and associated documentation files (the \"Software\"),\n",
    "'# to deal in the Software without restriction, including without limitation\n",
    "'# the rights to use, copy, modify, merge, publish, distribute, sublicense,\n",
    "'# and/or sell copies of the Software, and to permit persons to whom the\n",
    "'# Software is furnished to do so, subject to the following conditions:\n",
    "'#\n",
    "'# The above copyright notice and this permission notice shall be included in\n",
    "'# all copies or substantial portions of the Software."
   ]
  },
  {
   "cell_type": "code",
   "execution_count": null,
   "metadata": {},
   "outputs": [],
   "source": []
  }
 ],
 "metadata": {
  "kernelspec": {
   "display_name": "Python 3",
   "language": "python",
   "name": "python3"
  },
  "language_info": {
   "codemirror_mode": {
    "name": "ipython",
    "version": 3
   },
   "file_extension": ".py",
   "mimetype": "text/x-python",
   "name": "python",
   "nbconvert_exporter": "python",
   "pygments_lexer": "ipython3",
   "version": "3.6.4"
  }
 },
 "nbformat": 4,
 "nbformat_minor": 2
}
