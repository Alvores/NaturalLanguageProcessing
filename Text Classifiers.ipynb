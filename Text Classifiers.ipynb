{
 "cells": [
  {
   "cell_type": "markdown",
   "metadata": {},
   "source": [
    "# Text Classifiers:\n",
    "#### This notebook contains various classifiers that can be used on a provided text dataset."
   ]
  },
  {
   "cell_type": "code",
   "execution_count": 180,
   "metadata": {},
   "outputs": [],
   "source": [
    "import pandas as pd\n",
    "import numpy as np\n",
    "from sklearn.model_selection import train_test_split\n",
    "from sklearn.feature_extraction.text import CountVectorizer\n",
    "from sklearn.feature_extraction.text import TfidfTransformer\n",
    "from sklearn.naive_bayes import MultinomialNB\n",
    "from sklearn.pipeline import Pipeline\n",
    "from sklearn.linear_model import SGDClassifier\n",
    "from sklearn.metrics import confusion_matrix, classification_report\n",
    "\n",
    "import nltk\n",
    "import tensorflow as tf\n",
    "import keras\n",
    "import sklearn\n",
    "import csv"
   ]
  },
  {
   "cell_type": "code",
   "execution_count": 181,
   "metadata": {},
   "outputs": [],
   "source": [
    "import itertools\n",
    "import matplotlib.pyplot as plt\n",
    "from sklearn import svm, datasets\n",
    "\n",
    "## This function is called by the classifiers to provide a visulization of the results\n",
    "def plot_confusion_matrix(cm, classes, Y_test,\n",
    "                          predictions,\n",
    "                          title='Confusion matrix',\n",
    "                          cmap=plt.cm.Blues):\n",
    "    print(\"Confusion Matrix:\")\n",
    "    print(cm)\n",
    "\n",
    "    plt.imshow(cm, interpolation='nearest', cmap=cmap)\n",
    "    plt.title(title)\n",
    "    plt.colorbar()\n",
    "    tick_marks = np.arange(len(classes))\n",
    "    plt.xticks(tick_marks, classes, rotation=45)\n",
    "    plt.yticks(tick_marks, classes)\n",
    "\n",
    "    thresh = cm.max() / 2.\n",
    "    for i, j in itertools.product(range(cm.shape[0]), range(cm.shape[1])):\n",
    "        plt.text(j, i, format(cm[i, j],'d'),\n",
    "                 horizontalalignment=\"center\",\n",
    "                 color=\"white\" if cm[i, j] > thresh else \"black\")\n",
    "\n",
    "    plt.ylabel('True label')\n",
    "    plt.xlabel('Predicted label')\n",
    "    plt.tight_layout()\n",
    "    print(classification_report(Y_test, predictions, target_names = classes))\n",
    "    print(\"True Negative:\", cm[0][0])\n",
    "    print(\"False Negative:\", cm[1][0])\n",
    "    print(\"True Positive:\", cm[1][1])\n",
    "    print(\"False Positive:\", cm[0][1])"
   ]
  },
  {
   "cell_type": "markdown",
   "metadata": {},
   "source": [
    "### Complete -> Enter the name of the dataset you want to test into the file_in variable:\n",
    "##### The file_out dataset is the name of the dataset that will stored the number converted version of the text data. Set the name of file_out to the name of the converted dataset if you already have a dataset that has numeric representations of the dataset already instead of words. Otherwise, file_out will be the output file name that is the converted data of the file_in dataset that gets read in for classification for the tensorflow model. Also, if you already have a converted file, make sure that re_read is set to 0 so that it does not get overwritten."
   ]
  },
  {
   "cell_type": "code",
   "execution_count": 182,
   "metadata": {},
   "outputs": [],
   "source": [
    "### Enter filenames below:\n",
    "file_in = \"suggestions_data_balanced.csv\"\n",
    "file_out = \"suggestions_data_balanced_converted.csv\"\n",
    "### Enter column names for data and labels below:\n",
    "data_col = \"comments\"\n",
    "label_col = \"is_prompt_exists\"\n",
    "### Set re_read to 0 if you already have a converted text file, 1 if it needs to be created\n",
    "re_read = 0"
   ]
  },
  {
   "cell_type": "code",
   "execution_count": 183,
   "metadata": {},
   "outputs": [
    {
     "name": "stdout",
     "output_type": "stream",
     "text": [
      "suggestions_data_balanced.csv\n",
      "is_prompt_exists     int64\n",
      "comments            object\n",
      "dtype: object\n",
      "Sample size: 7272\n",
      "   is_prompt_exists                                           comments\n",
      "0                -1  The changes mentioned are pretty straightforwa...\n",
      "1                -1  The images and visual aids explain the flow ve...\n",
      "2                -1  Although, the writeup explains the functionali...\n",
      "3                -1                       No new tests have been added\n",
      "4                -1  Changes are very good, the author has proposed...\n"
     ]
    }
   ],
   "source": [
    "df = pd.read_csv(file_in, engine = 'python');\n",
    "print(file_in)\n",
    "print(df.dtypes)\n",
    "print(\"Sample size:\", len(df))\n",
    "print(df.head(5))"
   ]
  },
  {
   "cell_type": "markdown",
   "metadata": {},
   "source": [
    "#### Setting up the data."
   ]
  },
  {
   "cell_type": "code",
   "execution_count": 184,
   "metadata": {},
   "outputs": [],
   "source": [
    "X = df[data_col]\n",
    "Y = df[label_col]"
   ]
  },
  {
   "cell_type": "code",
   "execution_count": 185,
   "metadata": {},
   "outputs": [
    {
     "name": "stdout",
     "output_type": "stream",
     "text": [
      "Train data amount: 5090\n",
      "Test data amount: 2182\n"
     ]
    }
   ],
   "source": [
    "X_train, X_test, Y_train, Y_test = train_test_split(\n",
    " X, Y, test_size=0.3, random_state=42)\n",
    "print(\"Train data amount:\", len(X_train))\n",
    "print(\"Test data amount:\", len(X_test))"
   ]
  },
  {
   "cell_type": "markdown",
   "metadata": {},
   "source": [
    "## Multinomial Naive Bayes classifier:"
   ]
  },
  {
   "cell_type": "code",
   "execution_count": 186,
   "metadata": {},
   "outputs": [],
   "source": [
    "#### Multinomial Naive Bayes\n",
    "text_clf = Pipeline([('vect', CountVectorizer(stop_words='english')),\n",
    " ('tfidf', TfidfTransformer()),\n",
    " ('clf', MultinomialNB()),\n",
    "])"
   ]
  },
  {
   "cell_type": "code",
   "execution_count": 187,
   "metadata": {},
   "outputs": [],
   "source": [
    "text_clf = text_clf.fit(X_train,Y_train)"
   ]
  },
  {
   "cell_type": "code",
   "execution_count": 188,
   "metadata": {},
   "outputs": [
    {
     "name": "stdout",
     "output_type": "stream",
     "text": [
      "Accuracy: 0.6842346471127406\n",
      "[[689 429]\n",
      " [260 804]]\n"
     ]
    }
   ],
   "source": [
    "predicted = text_clf.predict(X_test)\n",
    "accuracy = np.mean(predicted == Y_test)\n",
    "print(\"Accuracy:\", accuracy)\n",
    "cm = confusion_matrix(Y_test, predicted)\n",
    "print(cm)"
   ]
  },
  {
   "cell_type": "code",
   "execution_count": 189,
   "metadata": {},
   "outputs": [
    {
     "name": "stdout",
     "output_type": "stream",
     "text": [
      "Confusion Matrix:\n",
      "[[689 429]\n",
      " [260 804]]\n",
      "             precision    recall  f1-score   support\n",
      "\n",
      "      False       0.73      0.62      0.67      1118\n",
      "       True       0.65      0.76      0.70      1064\n",
      "\n",
      "avg / total       0.69      0.68      0.68      2182\n",
      "\n",
      "True Negative: 689\n",
      "False Negative: 260\n",
      "True Positive: 804\n",
      "False Positive: 429\n"
     ]
    },
    {
     "data": {
      "image/png": "[encoded data removed]",
      "text/plain": [
       "<Figure size 432x288 with 2 Axes>"
      ]
     },
     "metadata": {},
     "output_type": "display_data"
    }
   ],
   "source": [
    "## Graphical visualization\n",
    "cnf_matrix = confusion_matrix(Y_test, predicted)\n",
    "plt.figure()\n",
    "class_names = ['False, True']\n",
    "plot_confusion_matrix(cnf_matrix, classes=['False', 'True'],\n",
    "                      Y_test = Y_test, predictions = predicted,\n",
    "                      title='Confusion matrix')"
   ]
  },
  {
   "cell_type": "markdown",
   "metadata": {},
   "source": [
    "## Support Vector Machine classifier:"
   ]
  },
  {
   "cell_type": "code",
   "execution_count": 190,
   "metadata": {},
   "outputs": [],
   "source": [
    "#### Support Vector Machine\n",
    "text_clf_svm = Pipeline([('vect', CountVectorizer()),\n",
    "                         ('tfidf', TfidfTransformer()),\n",
    "                         ('clf-svm', SGDClassifier(loss='hinge',\n",
    "                                                  penalty='l2',\n",
    "                                                  max_iter=5,\n",
    "                                                  random_state=42)), \n",
    "                    ])"
   ]
  },
  {
   "cell_type": "code",
   "execution_count": 191,
   "metadata": {},
   "outputs": [],
   "source": [
    "_ = text_clf_svm.fit(X_train,Y_train)"
   ]
  },
  {
   "cell_type": "code",
   "execution_count": 192,
   "metadata": {},
   "outputs": [
    {
     "name": "stdout",
     "output_type": "stream",
     "text": [
      "Accuracy: 0.7493125572868927\n"
     ]
    }
   ],
   "source": [
    "predicted_svm = text_clf_svm.predict(X_test)\n",
    "accuracy = np.mean(predicted_svm == Y_test)\n",
    "print(\"Accuracy:\", accuracy)"
   ]
  },
  {
   "cell_type": "code",
   "execution_count": 193,
   "metadata": {},
   "outputs": [
    {
     "name": "stdout",
     "output_type": "stream",
     "text": [
      "Confusion Matrix:\n",
      "[[828 290]\n",
      " [257 807]]\n",
      "             precision    recall  f1-score   support\n",
      "\n",
      "      False       0.76      0.74      0.75      1118\n",
      "       True       0.74      0.76      0.75      1064\n",
      "\n",
      "avg / total       0.75      0.75      0.75      2182\n",
      "\n",
      "True Negative: 828\n",
      "False Negative: 257\n",
      "True Positive: 807\n",
      "False Positive: 290\n"
     ]
    },
    {
     "data": {
      "image/png": "[encoded data removed]",
      "text/plain": [
       "<Figure size 432x288 with 2 Axes>"
      ]
     },
     "metadata": {},
     "output_type": "display_data"
    }
   ],
   "source": [
    "## Graphical visualization\n",
    "cnf_matrix = confusion_matrix(Y_test, predicted_svm)\n",
    "plt.figure()\n",
    "class_names = ['False, True']\n",
    "plot_confusion_matrix(cnf_matrix, classes=['False', 'True'],\n",
    "                      Y_test = Y_test, predictions = predicted_svm,\n",
    "                      title='Confusion matrix')"
   ]
  },
  {
   "cell_type": "markdown",
   "metadata": {},
   "source": [
    "## Gridsearch classifier:"
   ]
  },
  {
   "cell_type": "code",
   "execution_count": 194,
   "metadata": {},
   "outputs": [],
   "source": [
    "#### Gridsearch\n",
    "from sklearn.model_selection import GridSearchCV\n",
    "parameters = {'vect__ngram_range': [(1, 1), (1, 2)],\n",
    "              'tfidf__use_idf': (True, False),\n",
    "              'clf-svm__alpha': (1e-2, 1e-3),\n",
    "    }"
   ]
  },
  {
   "cell_type": "code",
   "execution_count": 195,
   "metadata": {},
   "outputs": [],
   "source": [
    "## Can use on previous svm or bayes classifier\n",
    "gs_clf = GridSearchCV(text_clf_svm, parameters, n_jobs=-1)\n",
    "gs_clf = gs_clf.fit(X_train,Y_train)\n",
    "predicted_gs = gs_clf.predict(X_test)\n",
    "accuracy = np.mean(predicted_gs == Y_test)"
   ]
  },
  {
   "cell_type": "code",
   "execution_count": 196,
   "metadata": {},
   "outputs": [
    {
     "name": "stdout",
     "output_type": "stream",
     "text": [
      "Grid search best score: 0.7760314341846758\n",
      "{'clf-svm__alpha': 0.001, 'tfidf__use_idf': True, 'vect__ngram_range': (1, 2)}\n",
      "Accuracy: 0.7694775435380385\n"
     ]
    }
   ],
   "source": [
    "print(\"Grid search best score:\", gs_clf.best_score_)\n",
    "print(gs_clf.best_params_)\n",
    "print(\"Accuracy:\", accuracy)"
   ]
  },
  {
   "cell_type": "code",
   "execution_count": 197,
   "metadata": {},
   "outputs": [
    {
     "name": "stdout",
     "output_type": "stream",
     "text": [
      "Confusion Matrix:\n",
      "[[852 266]\n",
      " [237 827]]\n",
      "             precision    recall  f1-score   support\n",
      "\n",
      "      False       0.78      0.76      0.77      1118\n",
      "       True       0.76      0.78      0.77      1064\n",
      "\n",
      "avg / total       0.77      0.77      0.77      2182\n",
      "\n",
      "True Negative: 852\n",
      "False Negative: 237\n",
      "True Positive: 827\n",
      "False Positive: 266\n"
     ]
    },
    {
     "data": {
      "image/png": "[encoded data removed]",
      "text/plain": [
       "<Figure size 432x288 with 2 Axes>"
      ]
     },
     "metadata": {},
     "output_type": "display_data"
    }
   ],
   "source": [
    "## Graphical visualization\n",
    "cnf_matrix = confusion_matrix(Y_test, predicted_gs)\n",
    "plt.figure()\n",
    "class_names = ['False, True']\n",
    "plot_confusion_matrix(cnf_matrix, classes=['False', 'True'],\n",
    "                      Y_test = Y_test, predictions = predicted_gs,\n",
    "                      title='Confusion matrix')"
   ]
  },
  {
   "cell_type": "markdown",
   "metadata": {},
   "source": [
    "## Tensorflow/Keras Classifier"
   ]
  },
  {
   "cell_type": "markdown",
   "metadata": {},
   "source": [
    "#### Create a numeric version of this text data set if not present (uncomment below if to do so). Also determines length of vocabulary to use for embedding layer size:"
   ]
  },
  {
   "cell_type": "code",
   "execution_count": 198,
   "metadata": {},
   "outputs": [],
   "source": [
    "# Create the word mappings\n",
    "def bagofwords():\n",
    "    num_data = len(df)\n",
    "    a = []\n",
    "    loop = 0\n",
    "    for loop in range(num_data):\n",
    "        comment = df[data_col][loop]\n",
    "        sentTok = nltk.sent_tokenize(comment)\n",
    "        for sentence in sentTok:\n",
    "            a.append(sentence)    \n",
    "    a = (' '.join(a)).lower()\n",
    "    text = nltk.word_tokenize(a)\n",
    "    newset = set()\n",
    "    for word in text:\n",
    "        newset.add(word)\n",
    "    # Fill in found words\n",
    "    word_to_ix = { w:(i+4) for i,w in enumerate(sorted(newset)) }\n",
    "    ix_to_word = { (i+4):w for i,w in enumerate(sorted(newset)) }\n",
    "    # Fill in reserved values\n",
    "    ix_to_word[0] = \"<PAD>\"\n",
    "    ix_to_word[1] = \"<START>\"\n",
    "    ix_to_word[2] = \"<UNK>\"\n",
    "    ix_to_word[3] = \"<UNUSED>\"\n",
    "    word_to_ix[\"<PAD>\"] = 0 # Used to equalize text length\n",
    "    word_to_ix[\"<START>\"] = 1\n",
    "    word_to_ix[\"<UNK>\"] = 2  # unknown value\n",
    "    word_to_ix[\"<UNUSED>\"] = 3\n",
    "    return word_to_ix, ix_to_word"
   ]
  },
  {
   "cell_type": "code",
   "execution_count": 199,
   "metadata": {},
   "outputs": [
    {
     "name": "stdout",
     "output_type": "stream",
     "text": [
      "Size of vocabulary: 5392\n"
     ]
    }
   ],
   "source": [
    "word_to_ix, ix_to_word = bagofwords()\n",
    "# print(ix_to_word[3853])\n",
    "# print(word_to_ix[\"please\"]) # Ensure word is in dictionary\n",
    "print(\"Size of vocabulary:\", len(ix_to_word))"
   ]
  },
  {
   "cell_type": "markdown",
   "metadata": {},
   "source": [
    "##### An update text will be printed in order to keep track of the conversion process."
   ]
  },
  {
   "cell_type": "code",
   "execution_count": 200,
   "metadata": {},
   "outputs": [],
   "source": [
    "## Convert original data to number representations\n",
    "if (re_read == 1):\n",
    "    num_data = len(df)\n",
    "    loop = 0\n",
    "    converted_text_data = []\n",
    "    print(\"Total to print:\", num_data)\n",
    "    for loop in range(num_data):\n",
    "        if (loop % 5000 == 0): # For larger datasets\n",
    "            print(\"Update:\", loop) # Check spot in converter\n",
    "        comment = df[data_col][loop]\n",
    "        if isinstance(comment, str) == False: # Skip missing text from dataset if present\n",
    "            continue\n",
    "        comment = comment.lower()\n",
    "        text = nltk.word_tokenize(comment)\n",
    "        length = len(text)\n",
    "        i = 0\n",
    "        for i in range(length):\n",
    "            try:\n",
    "                text[i] = word_to_ix[text[i]]\n",
    "            except KeyError:\n",
    "                text[i] = 2 # Unknown mapping\n",
    "        text = [int(i) for i in text]\n",
    "        converted_text_data.append(text)"
   ]
  },
  {
   "cell_type": "code",
   "execution_count": 201,
   "metadata": {},
   "outputs": [],
   "source": [
    "if (re_read == 1):\n",
    "    with open(file_out, 'w', newline = '') as f:\n",
    "        writer = csv.writer(f)\n",
    "        writer.writerow([data_col, label_col])\n",
    "        i = 0\n",
    "        for i in range(num_data):\n",
    "            rev = converted_text_data[i]\n",
    "            label = df[label_col][i]\n",
    "            if (label != 1):\n",
    "                label = 0\n",
    "            writer.writerow([rev, label])"
   ]
  },
  {
   "cell_type": "code",
   "execution_count": 202,
   "metadata": {},
   "outputs": [],
   "source": [
    "if (re_read == 1):\n",
    "    print(len(df))\n",
    "    print(len(converted_text_data))"
   ]
  },
  {
   "cell_type": "markdown",
   "metadata": {},
   "source": [
    "#### Read in the converted text to number dataset, shuffle data, and run the classifier:"
   ]
  },
  {
   "cell_type": "code",
   "execution_count": 203,
   "metadata": {},
   "outputs": [
    {
     "name": "stdout",
     "output_type": "stream",
     "text": [
      "suggestions_data_balanced_converted.csv\n",
      "comments            object\n",
      "is_prompt_exists     int64\n",
      "dtype: object\n",
      "Sample size: 7272\n"
     ]
    }
   ],
   "source": [
    "df = pd.read_csv(file_out, engine = 'python');\n",
    "print(file_out)\n",
    "print(df.dtypes)\n",
    "df = df.iloc[np.random.permutation(len(df))]\n",
    "df = df.reset_index(drop=True)\n",
    "print(\"Sample size:\", len(df))"
   ]
  },
  {
   "cell_type": "code",
   "execution_count": 204,
   "metadata": {},
   "outputs": [
    {
     "name": "stdout",
     "output_type": "stream",
     "text": [
      "Dataset length: 7272\n"
     ]
    }
   ],
   "source": [
    "## Parses the integer list data from file into a proper integer list for the classifier\n",
    "full_data = []\n",
    "for dat in df[data_col]:\n",
    "    paragraph = []\n",
    "    sentence = []\n",
    "    for letter in dat:\n",
    "        if (letter == '[' or letter == ']' or letter == ' '):\n",
    "            continue\n",
    "        elif (letter == ','):\n",
    "            sentence = (''.join(sentence))\n",
    "            paragraph.append(sentence)\n",
    "            sentence = []\n",
    "        else:\n",
    "            sentence.append(letter)\n",
    "    paragraph = [int(i) for i in paragraph]\n",
    "    full_data.append(paragraph)\n",
    "print(\"Dataset length:\", len(full_data))"
   ]
  },
  {
   "cell_type": "code",
   "execution_count": 205,
   "metadata": {},
   "outputs": [
    {
     "name": "stdout",
     "output_type": "stream",
     "text": [
      "Number train data: 5817\n",
      "Number test data: 1455\n"
     ]
    }
   ],
   "source": [
    "## Initialize train and test data, train and test labels\n",
    "num_data = len(df)\n",
    "num_train = int(num_data * 0.8) # df.head this amount\n",
    "num_test = int(num_data - num_train) # df.tail this amount\n",
    "train_data = full_data[:num_train]\n",
    "test_data = full_data[num_train:]\n",
    "train_labels = df[label_col].head(num_train) # is_prompt_exists\n",
    "test_labels = df[label_col].tail(num_test)\n",
    "print(\"Number train data:\", len(train_data))\n",
    "print(\"Number test data:\", len(test_data))"
   ]
  },
  {
   "cell_type": "code",
   "execution_count": 206,
   "metadata": {},
   "outputs": [
    {
     "name": "stdout",
     "output_type": "stream",
     "text": [
      "Max text length: 342\n"
     ]
    }
   ],
   "source": [
    "## Find the maximum sentence length to use for padding training data\n",
    "maxlength = 0\n",
    "for i in range(len(full_data)):\n",
    "    maxlength = max(len(full_data[i]), maxlength)\n",
    "print(\"Max text length:\", maxlength)"
   ]
  },
  {
   "cell_type": "code",
   "execution_count": 207,
   "metadata": {},
   "outputs": [],
   "source": [
    "## Pad the words to standardized text array length\n",
    "train_data = keras.preprocessing.sequence.pad_sequences(train_data,\n",
    "                                                       value=word_to_ix[\"<PAD>\"],\n",
    "                                                       padding='post',\n",
    "                                                       maxlen=maxlength)\n",
    "\n",
    "test_data = keras.preprocessing.sequence.pad_sequences(test_data,\n",
    "                                                      value=word_to_ix[\"<PAD>\"],\n",
    "                                                      padding='post',\n",
    "                                                      maxlen=maxlength)"
   ]
  },
  {
   "cell_type": "code",
   "execution_count": 208,
   "metadata": {},
   "outputs": [
    {
     "name": "stdout",
     "output_type": "stream",
     "text": [
      "Training data length: 4653\n",
      "Validation data length: 1164\n"
     ]
    }
   ],
   "source": [
    "## Initiate validation sets\n",
    "val_size = int(num_train * 0.8) # Set apart 20% of train data for validation\n",
    "\n",
    "x_val = train_data[:num_train-val_size]\n",
    "partial_x_train = train_data[num_train-val_size:]\n",
    "\n",
    "y_val = train_labels[:num_train-val_size]\n",
    "partial_y_train = train_labels[num_train-val_size:]\n",
    "\n",
    "print(\"Training data length:\", len(partial_x_train))\n",
    "print(\"Validation data length:\",len(x_val))"
   ]
  },
  {
   "cell_type": "code",
   "execution_count": 209,
   "metadata": {},
   "outputs": [
    {
     "name": "stdout",
     "output_type": "stream",
     "text": [
      "Vocabulary size: 5392\n",
      "_________________________________________________________________\n",
      "Layer (type)                 Output Shape              Param #   \n",
      "=================================================================\n",
      "embedding_10 (Embedding)     (None, None, 16)          86272     \n",
      "_________________________________________________________________\n",
      "global_average_pooling1d_10  (None, 16)                0         \n",
      "_________________________________________________________________\n",
      "dense_19 (Dense)             (None, 16)                272       \n",
      "_________________________________________________________________\n",
      "dense_20 (Dense)             (None, 1)                 17        \n",
      "=================================================================\n",
      "Total params: 86,561\n",
      "Trainable params: 86,561\n",
      "Non-trainable params: 0\n",
      "_________________________________________________________________\n"
     ]
    }
   ],
   "source": [
    "## Create the model\n",
    "import operator # Finding vocabulary length, max dictionary index + 1\n",
    "vocab_size = max(ix_to_word.items(), key=operator.itemgetter(1))[0] + 1\n",
    "print(\"Vocabulary size:\", vocab_size)\n",
    "\n",
    "model = keras.Sequential() \n",
    "model.add(keras.layers.Embedding(vocab_size, 16)) # original right parameter is 16\n",
    "model.add(keras.layers.GlobalAveragePooling1D())\n",
    "model.add(keras.layers.Dense(16, activation=tf.nn.relu)) # original left parameter  is 16\n",
    "model.add(keras.layers.Dense(1, activation=tf.nn.sigmoid))\n",
    "\n",
    "model.summary()"
   ]
  },
  {
   "cell_type": "code",
   "execution_count": 210,
   "metadata": {},
   "outputs": [],
   "source": [
    "## Configured model with optimizer and loss function\n",
    "model.compile(optimizer = tf.train.AdamOptimizer(),\n",
    "             loss = 'binary_crossentropy',\n",
    "             metrics=['accuracy'])"
   ]
  },
  {
   "cell_type": "code",
   "execution_count": 211,
   "metadata": {},
   "outputs": [
    {
     "name": "stdout",
     "output_type": "stream",
     "text": [
      "Train on 4653 samples, validate on 1164 samples\n",
      "Epoch 1/40\n",
      "4653/4653 [==============================] - 1s 164us/step - loss: 0.6922 - acc: 0.5770 - val_loss: 0.6917 - val_acc: 0.5060\n",
      "Epoch 2/40\n",
      "4653/4653 [==============================] - 0s 26us/step - loss: 0.6894 - acc: 0.5220 - val_loss: 0.6897 - val_acc: 0.5034\n",
      "Epoch 3/40\n",
      "4653/4653 [==============================] - 0s 27us/step - loss: 0.6855 - acc: 0.5362 - val_loss: 0.6857 - val_acc: 0.5301\n",
      "Epoch 4/40\n",
      "4653/4653 [==============================] - 0s 26us/step - loss: 0.6789 - acc: 0.5919 - val_loss: 0.6784 - val_acc: 0.5704\n",
      "Epoch 5/40\n",
      "4653/4653 [==============================] - 0s 27us/step - loss: 0.6707 - acc: 0.6170 - val_loss: 0.6705 - val_acc: 0.5825\n",
      "Epoch 6/40\n",
      "4653/4653 [==============================] - 0s 27us/step - loss: 0.6615 - acc: 0.6254 - val_loss: 0.6602 - val_acc: 0.6220\n",
      "Epoch 7/40\n",
      "4653/4653 [==============================] - 0s 27us/step - loss: 0.6505 - acc: 0.6591 - val_loss: 0.6496 - val_acc: 0.6435\n",
      "Epoch 8/40\n",
      "4653/4653 [==============================] - 0s 27us/step - loss: 0.6388 - acc: 0.6770 - val_loss: 0.6385 - val_acc: 0.6572\n",
      "Epoch 9/40\n",
      "4653/4653 [==============================] - 0s 27us/step - loss: 0.6267 - acc: 0.6735 - val_loss: 0.6253 - val_acc: 0.6710\n",
      "Epoch 10/40\n",
      "4653/4653 [==============================] - 0s 27us/step - loss: 0.6143 - acc: 0.6869 - val_loss: 0.6150 - val_acc: 0.6744\n",
      "Epoch 11/40\n",
      "4653/4653 [==============================] - 0s 26us/step - loss: 0.6034 - acc: 0.6948 - val_loss: 0.6057 - val_acc: 0.6735\n",
      "Epoch 12/40\n",
      "4653/4653 [==============================] - 0s 26us/step - loss: 0.5936 - acc: 0.6985 - val_loss: 0.5959 - val_acc: 0.6830\n",
      "Epoch 13/40\n",
      "4653/4653 [==============================] - 0s 26us/step - loss: 0.5855 - acc: 0.6995 - val_loss: 0.5942 - val_acc: 0.6753\n",
      "Epoch 14/40\n",
      "4653/4653 [==============================] - 0s 27us/step - loss: 0.5783 - acc: 0.7030 - val_loss: 0.5843 - val_acc: 0.6890\n",
      "Epoch 15/40\n",
      "4653/4653 [==============================] - 0s 27us/step - loss: 0.5731 - acc: 0.7049 - val_loss: 0.5841 - val_acc: 0.6804\n",
      "Epoch 16/40\n",
      "4653/4653 [==============================] - 0s 27us/step - loss: 0.5689 - acc: 0.7099 - val_loss: 0.5833 - val_acc: 0.6778\n",
      "Epoch 17/40\n",
      "4653/4653 [==============================] - 0s 27us/step - loss: 0.5649 - acc: 0.7101 - val_loss: 0.5739 - val_acc: 0.6976\n",
      "Epoch 18/40\n",
      "4653/4653 [==============================] - 0s 27us/step - loss: 0.5595 - acc: 0.7148 - val_loss: 0.5736 - val_acc: 0.6933\n",
      "Epoch 19/40\n",
      "4653/4653 [==============================] - 0s 27us/step - loss: 0.5550 - acc: 0.7202 - val_loss: 0.5694 - val_acc: 0.6967\n",
      "Epoch 20/40\n",
      "4653/4653 [==============================] - 0s 27us/step - loss: 0.5513 - acc: 0.7193 - val_loss: 0.5665 - val_acc: 0.7010\n",
      "Epoch 21/40\n",
      "4653/4653 [==============================] - 0s 27us/step - loss: 0.5472 - acc: 0.7273 - val_loss: 0.5668 - val_acc: 0.6993\n",
      "Epoch 22/40\n",
      "4653/4653 [==============================] - 0s 27us/step - loss: 0.5420 - acc: 0.7301 - val_loss: 0.5618 - val_acc: 0.7062\n",
      "Epoch 23/40\n",
      "4653/4653 [==============================] - 0s 27us/step - loss: 0.5393 - acc: 0.7324 - val_loss: 0.5595 - val_acc: 0.7079\n",
      "Epoch 24/40\n",
      "4653/4653 [==============================] - 0s 27us/step - loss: 0.5342 - acc: 0.7363 - val_loss: 0.5569 - val_acc: 0.7096\n",
      "Epoch 25/40\n",
      "4653/4653 [==============================] - 0s 26us/step - loss: 0.5290 - acc: 0.7434 - val_loss: 0.5551 - val_acc: 0.7131\n",
      "Epoch 26/40\n",
      "4653/4653 [==============================] - 0s 27us/step - loss: 0.5244 - acc: 0.7475 - val_loss: 0.5517 - val_acc: 0.7199\n",
      "Epoch 27/40\n",
      "4653/4653 [==============================] - 0s 27us/step - loss: 0.5193 - acc: 0.7509 - val_loss: 0.5514 - val_acc: 0.7139\n",
      "Epoch 28/40\n",
      "4653/4653 [==============================] - 0s 27us/step - loss: 0.5130 - acc: 0.7552 - val_loss: 0.5496 - val_acc: 0.7156\n",
      "Epoch 29/40\n",
      "4653/4653 [==============================] - 0s 27us/step - loss: 0.5080 - acc: 0.7606 - val_loss: 0.5451 - val_acc: 0.7216\n",
      "Epoch 30/40\n",
      "4653/4653 [==============================] - 0s 27us/step - loss: 0.5027 - acc: 0.7649 - val_loss: 0.5422 - val_acc: 0.7294\n",
      "Epoch 31/40\n",
      "4653/4653 [==============================] - 0s 27us/step - loss: 0.4976 - acc: 0.7707 - val_loss: 0.5439 - val_acc: 0.7199\n",
      "Epoch 32/40\n",
      "4653/4653 [==============================] - 0s 26us/step - loss: 0.4913 - acc: 0.7797 - val_loss: 0.5405 - val_acc: 0.7234\n",
      "Epoch 33/40\n",
      "4653/4653 [==============================] - 0s 26us/step - loss: 0.4872 - acc: 0.7806 - val_loss: 0.5357 - val_acc: 0.7337\n",
      "Epoch 34/40\n",
      "4653/4653 [==============================] - 0s 27us/step - loss: 0.4807 - acc: 0.7874 - val_loss: 0.5336 - val_acc: 0.7380\n",
      "Epoch 35/40\n",
      "4653/4653 [==============================] - 0s 26us/step - loss: 0.4754 - acc: 0.7956 - val_loss: 0.5327 - val_acc: 0.7388\n",
      "Epoch 36/40\n",
      "4653/4653 [==============================] - 0s 27us/step - loss: 0.4696 - acc: 0.7988 - val_loss: 0.5397 - val_acc: 0.7277\n",
      "Epoch 37/40\n",
      "4653/4653 [==============================] - 0s 28us/step - loss: 0.4641 - acc: 0.7997 - val_loss: 0.5320 - val_acc: 0.7414\n",
      "Epoch 38/40\n",
      "4653/4653 [==============================] - 0s 32us/step - loss: 0.4595 - acc: 0.7997 - val_loss: 0.5288 - val_acc: 0.7414\n",
      "Epoch 39/40\n",
      "4653/4653 [==============================] - 0s 30us/step - loss: 0.4559 - acc: 0.8059 - val_loss: 0.5342 - val_acc: 0.7363\n",
      "Epoch 40/40\n",
      "4653/4653 [==============================] - 0s 30us/step - loss: 0.4485 - acc: 0.8096 - val_loss: 0.5268 - val_acc: 0.7457\n"
     ]
    }
   ],
   "source": [
    "## Train the model\n",
    "history = model.fit(partial_x_train,\n",
    "                   partial_y_train,\n",
    "                   epochs=40,\n",
    "                   batch_size=256,\n",
    "                   validation_data=(x_val, y_val),\n",
    "                   verbose=1)"
   ]
  },
  {
   "cell_type": "code",
   "execution_count": 212,
   "metadata": {},
   "outputs": [
    {
     "name": "stdout",
     "output_type": "stream",
     "text": [
      "1455/1455 [==============================] - 0s 21us/step\n",
      "Test loss: 0.5132809353243445\n",
      "Test accuracy: 0.7587628866389036\n"
     ]
    }
   ],
   "source": [
    "## Evaluate the model\n",
    "predicted_nn = model.predict_classes(test_data)\n",
    "results = model.evaluate(test_data, test_labels)\n",
    "print(\"Test loss:\", results[0])\n",
    "print(\"Test accuracy:\", results[1])"
   ]
  },
  {
   "cell_type": "code",
   "execution_count": 213,
   "metadata": {},
   "outputs": [
    {
     "name": "stdout",
     "output_type": "stream",
     "text": [
      "Confusion Matrix:\n",
      "[[581 147]\n",
      " [204 523]]\n",
      "             precision    recall  f1-score   support\n",
      "\n",
      "      False       0.74      0.80      0.77       728\n",
      "       True       0.78      0.72      0.75       727\n",
      "\n",
      "avg / total       0.76      0.76      0.76      1455\n",
      "\n",
      "True Negative: 581\n",
      "False Negative: 204\n",
      "True Positive: 523\n",
      "False Positive: 147\n"
     ]
    },
    {
     "data": {
      "image/png": "[encoded data removed]",
      "text/plain": [
       "<Figure size 432x288 with 2 Axes>"
      ]
     },
     "metadata": {},
     "output_type": "display_data"
    }
   ],
   "source": [
    "## Graphical visualization\n",
    "cnf_matrix = confusion_matrix(test_labels, predicted_nn)\n",
    "plt.figure()\n",
    "class_names = ['False, True']\n",
    "plot_confusion_matrix(cnf_matrix, classes=['False', 'True'],\n",
    "                      Y_test = test_labels, predictions = predicted_nn,\n",
    "                      title='Confusion matrix')"
   ]
  },
  {
   "cell_type": "code",
   "execution_count": 214,
   "metadata": {},
   "outputs": [
    {
     "data": {
      "text/plain": [
       "dict_keys(['val_loss', 'val_acc', 'loss', 'acc'])"
      ]
     },
     "execution_count": 214,
     "metadata": {},
     "output_type": "execute_result"
    }
   ],
   "source": [
    "## Graph the data\n",
    "history_dict = history.history\n",
    "history_dict.keys()"
   ]
  },
  {
   "cell_type": "code",
   "execution_count": 215,
   "metadata": {},
   "outputs": [
    {
     "data": {
      "image/png": "[encoded data removed]",
      "text/plain": [
       "<Figure size 432x288 with 1 Axes>"
      ]
     },
     "metadata": {},
     "output_type": "display_data"
    }
   ],
   "source": [
    "## Visualize training and validation loss\n",
    "acc = history.history['acc']\n",
    "val_acc = history.history['val_acc']\n",
    "loss = history.history['loss']\n",
    "val_loss = history.history['val_loss']\n",
    "\n",
    "epochs = range(1, len(acc) + 1)\n",
    "\n",
    "# \"bo\" is for \"blue dot\"\n",
    "plt.plot(epochs, loss, 'bo', label='Training loss')\n",
    "# b is for \"solid blue line\"\n",
    "plt.plot(epochs, val_loss, 'b', label='Validation loss')\n",
    "plt.title('Training and validation loss')\n",
    "plt.xlabel('Epochs')\n",
    "plt.ylabel('Loss')\n",
    "plt.legend()\n",
    "\n",
    "plt.show()"
   ]
  },
  {
   "cell_type": "code",
   "execution_count": 216,
   "metadata": {},
   "outputs": [
    {
     "data": {
      "image/png": "[encoded data removed]",
      "text/plain": [
       "<Figure size 432x288 with 1 Axes>"
      ]
     },
     "metadata": {},
     "output_type": "display_data"
    }
   ],
   "source": [
    "## Visualize training and validation accuracy\n",
    "plt.clf()   # clear figure\n",
    "acc_values = history_dict['acc']\n",
    "val_acc_values = history_dict['val_acc']\n",
    "\n",
    "plt.plot(epochs, acc, 'bo', label='Training acc')\n",
    "plt.plot(epochs, val_acc, 'b', label='Validation acc')\n",
    "plt.title('Training and validation accuracy')\n",
    "plt.xlabel('Epochs')\n",
    "plt.ylabel('Accuracy')\n",
    "plt.legend()\n",
    "\n",
    "plt.show()"
   ]
  },
  {
   "cell_type": "markdown",
   "metadata": {},
   "source": [
    "#### Citation for parts of keras model\n",
    "#@title MIT License\n",
    "'#\n",
    "'# Copyright (c) 2017 François Chollet\n",
    "'#\n",
    "'# Permission is hereby granted, free of charge, to any person obtaining a\n",
    "'# copy of this software and associated documentation files (the \"Software\"),\n",
    "'# to deal in the Software without restriction, including without limitation\n",
    "'# the rights to use, copy, modify, merge, publish, distribute, sublicense,\n",
    "'# and/or sell copies of the Software, and to permit persons to whom the\n",
    "'# Software is furnished to do so, subject to the following conditions:\n",
    "'#\n",
    "'# The above copyright notice and this permission notice shall be included in\n",
    "'# all copies or substantial portions of the Software."
   ]
  },
  {
   "cell_type": "code",
   "execution_count": null,
   "metadata": {},
   "outputs": [],
   "source": []
  }
 ],
 "metadata": {
  "kernelspec": {
   "display_name": "Python 3",
   "language": "python",
   "name": "python3"
  },
  "language_info": {
   "codemirror_mode": {
    "name": "ipython",
    "version": 3
   },
   "file_extension": ".py",
   "mimetype": "text/x-python",
   "name": "python",
   "nbconvert_exporter": "python",
   "pygments_lexer": "ipython3",
   "version": "3.6.4"
  }
 },
 "nbformat": 4,
 "nbformat_minor": 2
}
